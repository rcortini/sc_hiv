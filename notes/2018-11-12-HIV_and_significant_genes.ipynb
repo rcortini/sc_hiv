{
 "cells": [
  {
   "cell_type": "markdown",
   "metadata": {},
   "source": [
    "# 2018-11-12 HIV and significant genes\n",
    "Here I want to explore the PubMed database and retrieve possible connections between the genes identified as significantly associated to HIV in the previous steps of the analysis. To do this, I'll harness the power of the Biopython package, which provides functions dedicated to performing queries to the PubMed database."
   ]
  },
  {
   "cell_type": "code",
   "execution_count": null,
   "metadata": {},
   "outputs": [],
   "source": [
    "import pandas as pd\n",
    "from Bio import Entrez\n",
    "Entrez.email = \"ruggero.cortini@crg.eu\"\n",
    "import os, time\n",
    "import matplotlib.pyplot as plt\n",
    "import numpy as np"
   ]
  },
  {
   "cell_type": "markdown",
   "metadata": {},
   "source": [
    "First, let's load the list of interesting genes in a convenient data structure."
   ]
  },
  {
   "cell_type": "code",
   "execution_count": null,
   "metadata": {},
   "outputs": [],
   "source": [
    "# directory with the data\n",
    "schiv_rootdir = \"%s/work/CRG/projects/sc_hiv\"%(os.getenv('HOME'))\n",
    "matrices_dir = \"%s/data/matrices\"%(schiv_rootdir)\n",
    "\n",
    "# information on the data we want to load\n",
    "sample_name = \"P2449\"\n",
    "module_colors = [\"darkgreen\", \"darkturquoise\"]"
   ]
  },
  {
   "cell_type": "code",
   "execution_count": null,
   "metadata": {},
   "outputs": [],
   "source": [
    "# load the data into convenient dictionaries\n",
    "tables = []\n",
    "for module_color in module_colors :\n",
    "    csv_fname = \"%s/%s-%s.csv\"%(matrices_dir, sample_name, module_color)\n",
    "    table = pd.read_csv(csv_fname, index_col=0)\n",
    "    table[\"color\"] = module_color\n",
    "    tables.append(table)\n",
    "\n",
    "# Merge the two tables for more convenient access\n",
    "alltables = pd.concat([t for t in tables])"
   ]
  },
  {
   "cell_type": "code",
   "execution_count": null,
   "metadata": {},
   "outputs": [],
   "source": [
    "# get all the names of the interesting genes into one convenient list\n",
    "symbols = [s for s in alltables['hgnc_symbol'] if isinstance(s, basestring)]"
   ]
  },
  {
   "cell_type": "markdown",
   "metadata": {},
   "source": [
    "Now we have all the genes loaded, so we need to init the interface to PubMed and try to do the mining."
   ]
  },
  {
   "cell_type": "code",
   "execution_count": null,
   "metadata": {},
   "outputs": [],
   "source": [
    "associations = {}\n",
    "for symbol in symbols :\n",
    "    handle = Entrez.esearch(db='pubmed', term='HIV AND %s' % symbol, retmax=200)\n",
    "    record = Entrez.read(handle)\n",
    "    n_found = int(record['Count'])\n",
    "    if n_found > 0 :\n",
    "        print \"%s: found %d associations\" % (symbol, n_found)\n",
    "        associations[symbol] = record\n",
    "    handle.close()\n",
    "    time.sleep(2)"
   ]
  },
  {
   "cell_type": "markdown",
   "metadata": {},
   "source": [
    "This gave us a data structure with the interesting associations. Let's look at the p-values of the associations."
   ]
  },
  {
   "cell_type": "code",
   "execution_count": null,
   "metadata": {},
   "outputs": [],
   "source": [
    "# pull together the information\n",
    "associations_table = alltables.loc[alltables['hgnc_symbol'].isin(associations.iterkeys())]\n",
    "associations_table = associations_table.set_index('hgnc_symbol')\n",
    "associations_table['NAssociations'] = 0\n",
    "for s in associations.iterkeys() :\n",
    "    associations_table.loc[s, \"NAssociations\"] = associations[s][\"Count\"]"
   ]
  },
  {
   "cell_type": "code",
   "execution_count": null,
   "metadata": {},
   "outputs": [],
   "source": [
    "associations_table"
   ]
  },
  {
   "cell_type": "code",
   "execution_count": null,
   "metadata": {},
   "outputs": [],
   "source": [
    "plt.scatter(associations_table['NAssociations'].astype(int),\n",
    "            -np.log10(associations_table['GSP'].astype(float)))\n",
    "plt.xlabel(\"Number of associations\")\n",
    "plt.ylabel(\"Gene Trait Significance [-log10]\")\n",
    "plt.show()"
   ]
  }
 ],
 "metadata": {
  "kernelspec": {
   "display_name": "Python 2",
   "language": "python",
   "name": "python2"
  },
  "language_info": {
   "codemirror_mode": {
    "name": "ipython",
    "version": 2
   },
   "file_extension": ".py",
   "mimetype": "text/x-python",
   "name": "python",
   "nbconvert_exporter": "python",
   "pygments_lexer": "ipython2"
  }
 },
 "nbformat": 4,
 "nbformat_minor": 2
}
