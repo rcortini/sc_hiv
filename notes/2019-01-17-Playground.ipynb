{
 "cells": [
  {
   "cell_type": "code",
   "execution_count": null,
   "metadata": {},
   "outputs": [],
   "source": [
    "library(DESeq)\n",
    "library(ggplot2)"
   ]
  },
  {
   "cell_type": "code",
   "execution_count": null,
   "metadata": {},
   "outputs": [],
   "source": [
    "# load the data\n",
    "matrices.dir <- \"/home/rcortini/work/CRG/projects/sc_hiv/data/matrices\"\n",
    "merged <- read.table(sprintf('%s/exprMatrix.csv', matrices.dir),\n",
    "                     header = TRUE, row.names = 1,\n",
    "                     sep = \"\\t\", check.names = FALSE)\n",
    "\n",
    "# load sample sheet\n",
    "sampleSheet <- read.table(sprintf('%s/samplesheet.csv', matrices.dir),\n",
    "                          header = TRUE,\n",
    "                          row.names = 1)\n",
    "\n",
    "# remove dead cells\n",
    "sampleSheet <- sampleSheet[sampleSheet$status != \"dead\", ]"
   ]
  },
  {
   "cell_type": "code",
   "execution_count": null,
   "metadata": {},
   "outputs": [],
   "source": [
    "# load gene annotations file\n",
    "gene.annotations <- sprintf(\"%s/gene_annotations.tsv\", matrices.dir)\n",
    "gene.data <- read.delim(gene.annotations, header = TRUE, sep = \"\\t\",\n",
    "                        row.names = 1, stringsAsFactors = FALSE)\n",
    "gene.data <- subset(gene.data, rownames(gene.data) %in% rownames(merged))"
   ]
  },
  {
   "cell_type": "code",
   "execution_count": null,
   "metadata": {},
   "outputs": [],
   "source": [
    "# fetch the ENSEMBL gene id from the gene.data list\n",
    "PUS10 <- rownames(gene.data)[gene.data$gene_symbol == \"PUS10\"]"
   ]
  },
  {
   "cell_type": "code",
   "execution_count": null,
   "metadata": {},
   "outputs": [],
   "source": [
    "p <- data.frame(PUS10 = t(merged[PUS10, ]), type = sampleSheet$label)\n",
    "p <- p[order(match(p$type, c(\"Jurkat\", \"J-Lat+DMSO\", \"J-Lat+SAHA\"))),]\n",
    "p$x <- seq(1:nrow(sampleSheet))\n",
    "colnames(p) <- c(\"PUS10\", \"type\", \"x\")"
   ]
  },
  {
   "cell_type": "code",
   "execution_count": null,
   "metadata": {},
   "outputs": [],
   "source": [
    "options(repr.plot.width = 6, repr.plot.height = 2)\n",
    "ggplot(p, aes(x = x, y = PUS10)) + geom_point(aes(color = type)) + theme_bw() +\n",
    "labs(x = \"\")\n",
    "ggsave(\"../figures/PUS10_distribution.png\", width = 6, height = 2)"
   ]
  },
  {
   "cell_type": "code",
   "execution_count": null,
   "metadata": {},
   "outputs": [],
   "source": [
    "pus10.gfp <- data.frame(PUS10 = t(merged[PUS10, sampleSheet$status == \"treated\"]),\n",
    "                  GFP   = t(merged[\"FILIONG01\", sampleSheet$status == \"treated\"]))\n",
    "colnames(pus10.gfp) <- c(\"PUS10\", \"GFP\")"
   ]
  },
  {
   "cell_type": "code",
   "execution_count": null,
   "metadata": {},
   "outputs": [],
   "source": [
    "options(repr.plot.width = 3, repr.plot.height = 3)\n",
    "ggplot(pus10.gfp, aes(x = PUS10, y = GFP)) + geom_point() + theme_bw()\n",
    "ggsave(\"../figures/PUS10_GFP.png\", width = 3, height = 3)"
   ]
  },
  {
   "cell_type": "code",
   "execution_count": null,
   "metadata": {},
   "outputs": [],
   "source": [
    "# file names\n",
    "P2449.matrix.fname <- sprintf(\"%s/%s.tsv.gz\", matrices.dir, \"P2449\")\n",
    "P2458.matrix.fname <- sprintf(\"%s/%s.tsv.gz\", matrices.dir, \"P2458\")\n",
    "\n",
    "P2449 <- read.table(P2449.matrix.fname,\n",
    "                    header = TRUE, row.names = 1, sep = \"\\t\", check.names = FALSE)\n",
    "P2458 <- read.table(P2458.matrix.fname,\n",
    "                    header = TRUE, row.names = 1, sep = \"\\t\", check.names = FALSE)\n",
    "\n",
    "full.matrix <- cbind(P2449, P2458)"
   ]
  },
  {
   "cell_type": "code",
   "execution_count": null,
   "metadata": {},
   "outputs": [],
   "source": [
    "labels <- c(rep(\"Jurkat\", 6),\n",
    "            rep(\"J-Lat+DMSO\", 30),\n",
    "            rep(\"J-Lat+SAHA\", 60))\n",
    "labels <- c(labels, labels)"
   ]
  },
  {
   "cell_type": "code",
   "execution_count": null,
   "metadata": {},
   "outputs": [],
   "source": [
    "sizes <- colSums(full.matrix)\n",
    "p1 <- data.frame(x = seq(1:192), labels = labels, sizes = sizes)"
   ]
  },
  {
   "cell_type": "code",
   "execution_count": null,
   "metadata": {},
   "outputs": [],
   "source": [
    "options(repr.plot.width = 10, repr.plot.height = 3)\n",
    "ggplot(p1, aes(x = x, y = sizes, fill = labels)) + geom_bar(stat='identity') + theme_bw() +\n",
    "labs(x = \"Cells\", y = \"Total library size\")\n",
    "ggsave(\"../figures/library_sizes-labels.png\", width = 10, height = 3)"
   ]
  },
  {
   "cell_type": "code",
   "execution_count": null,
   "metadata": {},
   "outputs": [],
   "source": [
    "# remove genes that have no expression\n",
    "exprMatrix <- full.matrix[rowSums(full.matrix)>1, ]\n",
    "\n",
    "# normalize by row sum\n",
    "total <- colSums(exprMatrix)\n",
    "exprMatrix <- t(exprMatrix)\n",
    "exprMatrix <- exprMatrix / rowSums(exprMatrix)\n",
    "exprMatrix <- t(exprMatrix)"
   ]
  },
  {
   "cell_type": "code",
   "execution_count": null,
   "metadata": {},
   "outputs": [],
   "source": [
    "# do the PCA\n",
    "exprMatrix.pca <- prcomp(t(exprMatrix), scale = TRUE)"
   ]
  },
  {
   "cell_type": "code",
   "execution_count": null,
   "metadata": {},
   "outputs": [],
   "source": [
    "pca <- as.data.frame(exprMatrix.pca$x)"
   ]
  },
  {
   "cell_type": "code",
   "execution_count": null,
   "metadata": {},
   "outputs": [],
   "source": [
    "dead.cells <- rownames(pca)[pca$PC1 > 10]\n",
    "alive.cells <- rownames(pca)[pca$PC1 < 10]"
   ]
  },
  {
   "cell_type": "code",
   "execution_count": null,
   "metadata": {},
   "outputs": [],
   "source": [
    "p2 <- as.data.frame(sizes)\n",
    "p2$x <- seq(1:192)\n",
    "p2$type <- \"alive\"\n",
    "p2[dead.cells, \"type\"] <- \"dead\""
   ]
  },
  {
   "cell_type": "code",
   "execution_count": null,
   "metadata": {},
   "outputs": [],
   "source": [
    "options(repr.plot.width = 10, repr.plot.height = 3)\n",
    "ggplot(p2, aes(x = x, y = sizes, fill = type)) + geom_bar(stat='identity') + theme_bw() +\n",
    "labs(x = \"Cells\", y = \"Total library size\") + scale_fill_manual(values = c(\"green\", \"black\"))\n",
    "ggsave(\"../figures/library_sizes-dead.png\", width = 10, height = 3)"
   ]
  },
  {
   "cell_type": "code",
   "execution_count": null,
   "metadata": {},
   "outputs": [],
   "source": [
    "pca$label <- labels"
   ]
  },
  {
   "cell_type": "code",
   "execution_count": null,
   "metadata": {},
   "outputs": [],
   "source": [
    "options(repr.plot.width = 4, repr.plot.height = 2.5)\n",
    "ggplot(pca, aes(PC1, PC2)) + geom_point(aes(color=label)) + theme_bw()\n",
    "ggsave(\"../figures/PCA_clustering.png\", width = 4, height = 3)"
   ]
  },
  {
   "cell_type": "code",
   "execution_count": null,
   "metadata": {},
   "outputs": [],
   "source": [
    "treated <- merged[, sampleSheet$status == \"treated\"]"
   ]
  },
  {
   "cell_type": "code",
   "execution_count": null,
   "metadata": {},
   "outputs": [],
   "source": [
    "# remove genes that have no expression\n",
    "treated <- treated[rowSums(treated)>1, ]\n",
    "\n",
    "# normalize by row sum\n",
    "treated <- t(treated)\n",
    "treated <- treated / rowSums(treated)\n",
    "treated <- t(treated)"
   ]
  },
  {
   "cell_type": "code",
   "execution_count": null,
   "metadata": {},
   "outputs": [],
   "source": [
    "treated.pca <- prcomp(t(treated), scale = TRUE)\n",
    "t.pca <- as.data.frame(treated.pca$x)"
   ]
  },
  {
   "cell_type": "code",
   "execution_count": null,
   "metadata": {},
   "outputs": [],
   "source": [
    "responder.cells <- colnames(treated)[treated[\"FILIONG01\",] > 0]\n",
    "t.pca$status <- \"non-responder\"\n",
    "t.pca[responder.cells, \"status\"] <- \"responder\""
   ]
  },
  {
   "cell_type": "code",
   "execution_count": null,
   "metadata": {},
   "outputs": [],
   "source": [
    "options(repr.plot.width = 4, repr.plot.height = 2.5)\n",
    "ggplot(t.pca, aes(PC1, PC2)) + geom_point(aes(color = status)) + theme_bw()\n",
    "ggsave(\"../figures/PCA_responders.png\", width = 4, height = 3)"
   ]
  },
  {
   "cell_type": "code",
   "execution_count": null,
   "metadata": {},
   "outputs": [],
   "source": [
    "gfp <- data.frame(x = seq(1:ncol(treated)), gfp = treated[\"FILIONG01\", ])"
   ]
  },
  {
   "cell_type": "code",
   "execution_count": null,
   "metadata": {},
   "outputs": [],
   "source": [
    "ggplot(gfp, aes(x, gfp)) + geom_bar(stat = \"identity\") + theme_bw() +\n",
    "labs(x = \"Cell\", y = \"Normalized GFP expression\")\n",
    "ggsave(\"../figures/GFP_treated.png\", width = 4, height = 2.5)"
   ]
  },
  {
   "cell_type": "code",
   "execution_count": null,
   "metadata": {},
   "outputs": [],
   "source": [
    "full.matrix[PUS10, dead.cells]"
   ]
  },
  {
   "cell_type": "code",
   "execution_count": null,
   "metadata": {},
   "outputs": [],
   "source": [
    "ERVW1 <- \"ENSG00000242950.6\"\n",
    "rowsum(full.matrix[ERVW1, alive.cells])"
   ]
  }
 ],
 "metadata": {
  "kernelspec": {
   "display_name": "R",
   "language": "R",
   "name": "ir"
  },
  "language_info": {
   "codemirror_mode": "r",
   "file_extension": ".r",
   "mimetype": "text/x-r-source",
   "name": "R",
   "pygments_lexer": "r"
  }
 },
 "nbformat": 4,
 "nbformat_minor": 2
}
