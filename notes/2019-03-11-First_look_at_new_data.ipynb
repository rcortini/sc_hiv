{
 "cells": [
  {
   "cell_type": "code",
   "execution_count": null,
   "metadata": {},
   "outputs": [],
   "source": [
    "# ggplot stuff\n",
    "library(ggplot2)\n",
    "library(RColorBrewer)\n",
    "theme_set(theme_bw())"
   ]
  },
  {
   "cell_type": "markdown",
   "metadata": {},
   "source": [
    "# 2019-03-11 First look at new data\n",
    "I processed the FASTQ data files of the new batch of experiments, and generated one big expression matrix and one big sample sheet, so to make life easier. Let's have a look at some data."
   ]
  },
  {
   "cell_type": "code",
   "execution_count": null,
   "metadata": {},
   "outputs": [],
   "source": [
    "# load the expression matrix\n",
    "data.dir <- \"/home/rcortini/work/CRG/projects/sc_hiv/data\"\n",
    "matrix.fname <- sprintf('%s/matrices/exprMatrix.tsv', data.dir)\n",
    "exprMatrix <- read.table(matrix.fname, header = TRUE, row.names = 1,\n",
    "                                       sep = \"\\t\", check.names = FALSE)"
   ]
  },
  {
   "cell_type": "code",
   "execution_count": null,
   "metadata": {},
   "outputs": [],
   "source": [
    "# load the sample sheet\n",
    "sample.sheet.fname <- sprintf(\"%s/metadata/sampleSheet.tsv\", data.dir)\n",
    "sampleSheet <- read.delim(sample.sheet.fname, header = TRUE, row.names = 1)"
   ]
  },
  {
   "cell_type": "code",
   "execution_count": null,
   "metadata": {},
   "outputs": [],
   "source": [
    "# load gene annotations file\n",
    "gene.annotations <- sprintf(\"%s/matrices/gene_annotations.tsv\", data.dir)\n",
    "gene.data <- read.delim(gene.annotations, header = TRUE, sep = \"\\t\",\n",
    "                        row.names = 1, stringsAsFactors = FALSE)\n",
    "gene.data <- subset(gene.data, rownames(gene.data) %in% rownames(exprMatrix))"
   ]
  },
  {
   "cell_type": "markdown",
   "metadata": {},
   "source": [
    "Let's do the PCA and try to retrieve what we already know."
   ]
  },
  {
   "cell_type": "code",
   "execution_count": null,
   "metadata": {},
   "outputs": [],
   "source": [
    "# remove genes that have no expression\n",
    "norm.exprMatrix <- exprMatrix[rowSums(exprMatrix)>1, ]\n",
    "\n",
    "# normalize by row sum\n",
    "total <- colSums(norm.exprMatrix)\n",
    "norm.exprMatrix <- t(norm.exprMatrix)\n",
    "norm.exprMatrix <- norm.exprMatrix / rowSums(norm.exprMatrix)\n",
    "norm.exprMatrix <- t(norm.exprMatrix)"
   ]
  },
  {
   "cell_type": "code",
   "execution_count": null,
   "metadata": {},
   "outputs": [],
   "source": [
    "# do the PCA\n",
    "exprMatrix.pca <- prcomp(t(norm.exprMatrix), scale = TRUE)"
   ]
  },
  {
   "cell_type": "code",
   "execution_count": null,
   "metadata": {},
   "outputs": [],
   "source": [
    "# prepare for plotting\n",
    "pca <- as.data.frame(exprMatrix.pca$x)\n",
    "pca$batch <- substring(colnames(norm.exprMatrix), 0, 5)\n",
    "pca$label <- sampleSheet$label\n",
    "pca$total <- total"
   ]
  },
  {
   "cell_type": "code",
   "execution_count": null,
   "metadata": {},
   "outputs": [],
   "source": [
    "options(repr.plot.width = 6.5, repr.plot.height = 2)\n",
    "ggplot(pca, aes(PC1, PC2)) + geom_point(aes(color=total))  +\n",
    "scale_colour_gradient(low=\"blue\", high=\"red\") + theme_bw()"
   ]
  },
  {
   "cell_type": "code",
   "execution_count": null,
   "metadata": {},
   "outputs": [],
   "source": [
    "options(repr.plot.width = 4, repr.plot.height = 3)\n",
    "ggplot(pca, aes(PC1, PC2)) + geom_point(aes(color=total))+\n",
    "scale_colour_gradient(low=\"blue\", high=\"red\") +\n",
    "xlim(-15, 40) +\n",
    "ylim(-50, 20)"
   ]
  },
  {
   "cell_type": "markdown",
   "metadata": {},
   "source": [
    "Okay, from here we see again that doing the PCA with all the samples together, we still see that the PC1 distinguishes between the samples that have low total expression and the others.\n",
    "\n",
    "I'll now remove those cells, assuming that they are dead."
   ]
  },
  {
   "cell_type": "code",
   "execution_count": null,
   "metadata": {},
   "outputs": [],
   "source": [
    "dead.cells <- rownames(pca)[pca$PC1 > 0]\n",
    "alive.cells <- rownames(pca)[pca$PC1 < 0]\n",
    "table(sampleSheet[dead.cells, \"label\"])"
   ]
  },
  {
   "cell_type": "markdown",
   "metadata": {},
   "source": [
    "The great majority of the dead cells are the ones that have been treated with SAHA, which is known to be very toxic to the cells. So this makes sense, so far."
   ]
  },
  {
   "cell_type": "code",
   "execution_count": null,
   "metadata": {},
   "outputs": [],
   "source": [
    "# remove the dead cells from the samples\n",
    "clean.exprMatrix <- exprMatrix[, alive.cells]"
   ]
  },
  {
   "cell_type": "markdown",
   "metadata": {},
   "source": [
    "Now let's try to do again the PCA, without the dead cells."
   ]
  },
  {
   "cell_type": "code",
   "execution_count": null,
   "metadata": {},
   "outputs": [],
   "source": [
    "# remove genes that have no expression\n",
    "norm.clean.exprMatrix <- clean.exprMatrix[rowSums(clean.exprMatrix)>1, ]\n",
    "\n",
    "# normalize by row sum\n",
    "total <- colSums(norm.clean.exprMatrix)\n",
    "norm.clean.exprMatrix <- t(norm.clean.exprMatrix)\n",
    "norm.clean.exprMatrix <- norm.clean.exprMatrix / rowSums(norm.clean.exprMatrix)\n",
    "norm.clean.exprMatrix <- t(norm.clean.exprMatrix)"
   ]
  },
  {
   "cell_type": "code",
   "execution_count": null,
   "metadata": {},
   "outputs": [],
   "source": [
    "# do the PCA\n",
    "clean.exprMatrix.pca <- prcomp(t(norm.clean.exprMatrix), scale = TRUE)"
   ]
  },
  {
   "cell_type": "code",
   "execution_count": null,
   "metadata": {},
   "outputs": [],
   "source": [
    "# prepare for plotting\n",
    "clean.pca <- as.data.frame(clean.exprMatrix.pca$x)\n",
    "clean.pca$batch <- substring(colnames(clean.exprMatrix), 0, 5)\n",
    "clean.pca$label <- sampleSheet[alive.cells, \"label\"]\n",
    "clean.pca$total <- total"
   ]
  },
  {
   "cell_type": "code",
   "execution_count": null,
   "metadata": {},
   "outputs": [],
   "source": [
    "options(repr.plot.width = 5, repr.plot.height = 3)\n",
    "gg <- ggplot(clean.pca, aes(PC1, PC2)) + geom_point(aes(color=label)) +\n",
    "scale_color_manual(values=c(\"red\", \"purple\", \"blue\", \"black\", \"magenta\", \"brown\")) +\n",
    "theme_bw()\n",
    "ggsave(filename = \"../figures/PCA-new-experiments.png\", width = 5, height = 3)\n",
    "print(gg)"
   ]
  },
  {
   "cell_type": "markdown",
   "metadata": {},
   "source": [
    "This is a beautiful plot. It shows clustering of the points in three different clouds, each of them corresponding to a different treatment. This shows that there is indeed a large effect of the treatment on the gene expression patterns.\n",
    "\n",
    "Let's now have a look at the HIV."
   ]
  },
  {
   "cell_type": "code",
   "execution_count": null,
   "metadata": {},
   "outputs": [],
   "source": [
    "# add the information in our data frame\n",
    "options(repr.plot.width = 4.5, repr.plot.height = 3)\n",
    "clean.pca$HIV <- log(1+t(clean.exprMatrix[\"FILIONG01\", ]))\n",
    "gg <- ggplot(clean.pca, aes(PC1, PC2)) + geom_point(aes(color=HIV)) +\n",
    "scale_colour_gradient(low=\"blue\", high=\"red\") +\n",
    "theme_bw()\n",
    "ggsave(filename = \"../figures/PCA-new-experiments-HIV.png\", width = 5, height = 3)\n",
    "print(gg)"
   ]
  },
  {
   "cell_type": "markdown",
   "metadata": {},
   "source": [
    "And this plot shows the same result as we had before, before the second round of experiments came in. That is: the fact that the HIV insertion gets activated or not does not really depend on *global* gene expression patterns, but it is probably hidden in some local features.\n",
    "\n",
    "## Differential expression analysis"
   ]
  },
  {
   "cell_type": "code",
   "execution_count": null,
   "metadata": {},
   "outputs": [],
   "source": [
    "# DESeq\n",
    "library(DESeq)"
   ]
  },
  {
   "cell_type": "markdown",
   "metadata": {},
   "source": [
    "We now want to attack the central question of this study: what are the genes that are associated to HIV reactivation by latency-reversal drugs? To do this, we will use the `DESeq` package, which allows to do differential expression analysis with some robustness.\n",
    "\n",
    "Before doint the whole thing, I will prepare a couple of functions that will allow me to do the analysis in a simple way."
   ]
  },
  {
   "cell_type": "code",
   "execution_count": null,
   "metadata": {},
   "outputs": [],
   "source": [
    "do.DEA <- function(expr.matrix, groups, gene.data,\n",
    "                   g1, g2, method = \"per-condition\") {\n",
    "    \n",
    "    # cast to integer the expression matrix, otherwise DESeq will complain\n",
    "    expr.matrix.int <- as.data.frame(lapply(expr.matrix, as.integer))\n",
    "    \n",
    "    # give the same names to the new matrix as the ones before\n",
    "    rownames(expr.matrix.int) <- rownames(expr.matrix)\n",
    "\n",
    "    # this is the basic data structure that DESeq understands\n",
    "    cds <- newCountDataSet(expr.matrix.int, groups)\n",
    "\n",
    "    # estimate size factors\n",
    "    cds <- estimateSizeFactors(cds)\n",
    "\n",
    "    # estimate dispersion\n",
    "    if (method == \"per-gene\") {\n",
    "        cds <- estimateDispersions(cds, sharingMode=\"gene-est-only\")\n",
    "    }\n",
    "    else if (method == \"per-condition\"){\n",
    "        cds <- estimateDispersions(cds, method=\"per-condition\", fitType=\"local\")\n",
    "    }\n",
    "    else {\n",
    "        stop(\"Invalid method\")\n",
    "    }\n",
    "    \n",
    "    # do the differential expression analysis\n",
    "    de.test <- nbinomTest(cds, g1, g2)\n",
    "    \n",
    "    # now attach the information on the genes to the data frames that we obtained\n",
    "    de.test$symbol <- gene.data[de.test$id, ]\n",
    "    \n",
    "    # return\n",
    "    de.test\n",
    "}"
   ]
  },
  {
   "cell_type": "code",
   "execution_count": null,
   "metadata": {},
   "outputs": [],
   "source": [
    "# this function allows to filter and sort the results of the differential\n",
    "# expression analysis\n",
    "find.significant.genes <- function(de.result, alpha = 0.05) {\n",
    "\n",
    "  # filter out significant genes based on FDR adjusted p-values\n",
    "  filtered <- de.result[(de.result$padj < alpha) &\n",
    "                        !is.infinite(de.result$log2FoldChange) & \n",
    "                        !is.nan(de.result$log2FoldChange),]\n",
    "\n",
    "  # order by p-value\n",
    "  sorted <- filtered[order(filtered$pval),]\n",
    "}"
   ]
  },
  {
   "cell_type": "code",
   "execution_count": null,
   "metadata": {},
   "outputs": [],
   "source": [
    "# first test to see whether everything works well: differential expression analysis between\n",
    "# cells that are treated with SAHA and latent cells that are not treated\n",
    "groups <- sampleSheet[alive.cells, \"label\"]\n",
    "de.test <- do.DEA(clean.exprMatrix, groups, gene.data, \"J-LatA2+DMSO\", \"J-LatA2+SAHA\")\n",
    "de.genes <- find.significant.genes(de.test)"
   ]
  },
  {
   "cell_type": "code",
   "execution_count": null,
   "metadata": {},
   "outputs": [],
   "source": [
    "dim(de.genes)"
   ]
  },
  {
   "cell_type": "markdown",
   "metadata": {},
   "source": [
    "Okay, this seems kind of right. It is to be expected that thousands of genes are differentially expressed in this case.\n",
    "\n",
    "Moving on, let's now restrict ourselves to the cells that have been treated with SAHA, and let's divide them into the ones that have a reactivated HIV insertion and those that don't.\n",
    "\n",
    "### SAHA-treated cells, previous round\n",
    "The first thing that I want to check is that we are able to recover the results of the previous batch of experiments."
   ]
  },
  {
   "cell_type": "code",
   "execution_count": null,
   "metadata": {},
   "outputs": [],
   "source": [
    "# select cells that are alive and that have been treated with SAHA, and that belong to the first\n",
    "# two plates of cells\n",
    "SAHA.treated <- intersect(rownames(sampleSheet)[sampleSheet$label == \"J-LatA2+SAHA\"], alive.cells)\n",
    "SAHA.treated <- subset(SAHA.treated, startsWith(SAHA.treated, \"P2449\") | startsWith(SAHA.treated, \"P2458\"))\n",
    "\n",
    "# get the expression matrix corresponding to those cells\n",
    "SAHA <- exprMatrix[, SAHA.treated]\n",
    "\n",
    "# prepare the groups of responders and non-responders\n",
    "SAHA.responders <- factor(rep(\"non-responder\", ncol(SAHA)), levels = c(\"non-responder\", \"responder\"))\n",
    "SAHA.responders[SAHA[\"FILIONG01\", ] > 0] <- \"responder\""
   ]
  },
  {
   "cell_type": "code",
   "execution_count": null,
   "metadata": {},
   "outputs": [],
   "source": [
    "# do the differential expression analysis\n",
    "de.test.SAHA <- do.DEA(SAHA, SAHA.responders, gene.data,\n",
    "                       \"non-responder\", \"responder\", method = \"per-gene\")\n",
    "de.genes.SAHA <- find.significant.genes(de.test.SAHA, alpha = 0.1)"
   ]
  },
  {
   "cell_type": "code",
   "execution_count": null,
   "metadata": {},
   "outputs": [],
   "source": [
    "de.genes.SAHA"
   ]
  },
  {
   "cell_type": "markdown",
   "metadata": {},
   "source": [
    "In this table we see that the PUS10 gene is still present, and that there is another component of the INTS complex, but it is not INTS1. However, the most differentially expressed gene in the group had not been identified earlier, and it is a gene that apparently has nothing to do with HIV: ALDH1B1, which is an aldehyde dehydrogenase.\n",
    "\n",
    "### SAHA-treated cells\n",
    "Let's move on and try to look at globally what are the genes that are differentially expressed between responders and non-responders in (all) the SAHA-treated cells."
   ]
  },
  {
   "cell_type": "code",
   "execution_count": null,
   "metadata": {},
   "outputs": [],
   "source": [
    "all.SAHA.treated <- intersect(rownames(sampleSheet)[sampleSheet$label == \"J-LatA2+SAHA\"], alive.cells)\n",
    "all.SAHA <- exprMatrix[, all.SAHA.treated]\n",
    "all.SAHA.responders <- factor(rep(\"non-responder\", ncol(all.SAHA)),\n",
    "                              levels = c(\"non-responder\", \"responder\"))\n",
    "all.SAHA.responders[all.SAHA[\"FILIONG01\", ] > 0] <- \"responder\""
   ]
  },
  {
   "cell_type": "code",
   "execution_count": null,
   "metadata": {},
   "outputs": [],
   "source": [
    "table(all.SAHA.responders)"
   ]
  },
  {
   "cell_type": "code",
   "execution_count": null,
   "metadata": {},
   "outputs": [],
   "source": [
    "de.test.all.SAHA <- do.DEA(all.SAHA, all.SAHA.responders, gene.data,\n",
    "                       \"non-responder\", \"responder\", method = \"per-condition\")\n",
    "de.genes.all.SAHA <- find.significant.genes(de.test.all.SAHA, alpha = 0.1)"
   ]
  },
  {
   "cell_type": "code",
   "execution_count": null,
   "metadata": {},
   "outputs": [],
   "source": [
    "de.genes.all.SAHA"
   ]
  },
  {
   "cell_type": "markdown",
   "metadata": {},
   "source": [
    "### PMA-treated cells"
   ]
  },
  {
   "cell_type": "code",
   "execution_count": null,
   "metadata": {},
   "outputs": [],
   "source": [
    "all.PMA.treated <- intersect(rownames(sampleSheet)[sampleSheet$label == \"J-LatA2+PMA\"], alive.cells)\n",
    "all.PMA <- exprMatrix[, all.PMA.treated]\n",
    "all.PMA.responders <- factor(rep(\"non-responder\", ncol(all.PMA)),\n",
    "                              levels = c(\"non-responder\", \"responder\"))\n",
    "all.PMA.responders[all.PMA[\"FILIONG01\", ] > 0] <- \"responder\""
   ]
  },
  {
   "cell_type": "code",
   "execution_count": null,
   "metadata": {},
   "outputs": [],
   "source": [
    "table(all.PMA.responders)"
   ]
  },
  {
   "cell_type": "code",
   "execution_count": null,
   "metadata": {},
   "outputs": [],
   "source": [
    "de.test.all.PMA <- do.DEA(all.PMA, all.PMA.responders, gene.data,\n",
    "                       \"non-responder\", \"responder\", method = \"per-gene\")\n",
    "de.genes.all.PMA <- find.significant.genes(de.test.all.PMA, alpha = 0.1)"
   ]
  },
  {
   "cell_type": "code",
   "execution_count": null,
   "metadata": {},
   "outputs": [],
   "source": [
    "de.genes.all.PMA"
   ]
  }
 ],
 "metadata": {
  "kernelspec": {
   "display_name": "R",
   "language": "R",
   "name": "ir"
  },
  "language_info": {
   "codemirror_mode": "r",
   "file_extension": ".r",
   "mimetype": "text/x-r-source",
   "name": "R",
   "pygments_lexer": "r"
  }
 },
 "nbformat": 4,
 "nbformat_minor": 2
}
