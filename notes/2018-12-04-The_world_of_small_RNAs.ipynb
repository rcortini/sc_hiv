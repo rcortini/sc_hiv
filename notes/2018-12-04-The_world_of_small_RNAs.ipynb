{
 "cells": [
  {
   "cell_type": "markdown",
   "metadata": {},
   "source": [
    "# 2018-12-04 The world of small RNAs\n",
    "I discovered that INTS1 and PUS10 may have an important role in expression of HIV. The integrator complex regulates transcription pause-release. How do other members of the integrator complex relate to HIV and INTS1?"
   ]
  },
  {
   "cell_type": "code",
   "execution_count": null,
   "metadata": {},
   "outputs": [],
   "source": [
    "library(ggplot2)\n",
    "library(RColorBrewer)\n",
    "theme_set(theme_bw())"
   ]
  },
  {
   "cell_type": "code",
   "execution_count": null,
   "metadata": {},
   "outputs": [],
   "source": [
    "# load the data\n",
    "matrices.dir <- \"/home/rcortini/work/CRG/projects/sc_hiv/data/matrices\"\n",
    "merged <- read.table(sprintf('%s/exprMatrix.csv', matrices.dir),\n",
    "                     header = TRUE, row.names = 1,\n",
    "                     sep = \"\\t\", check.names = FALSE)\n",
    "\n",
    "# load sample sheet\n",
    "sampleSheet <- read.table(sprintf('%s/samplesheet.csv', matrices.dir),\n",
    "                          header = TRUE,\n",
    "                          row.names = 1)\n",
    "\n",
    "# remove dead cells\n",
    "sampleSheet <- sampleSheet[sampleSheet$status != \"dead\", ]\n",
    "\n",
    "# load gene annotations file\n",
    "gene.annotations <- sprintf(\"%s/gene_annotations.tsv\", matrices.dir)\n",
    "gene.data <- read.delim(gene.annotations, header = TRUE, sep = \"\\t\",\n",
    "                        row.names = 1, stringsAsFactors = FALSE)\n",
    "gene.data <- subset(gene.data, rownames(gene.data) %in% rownames(merged))"
   ]
  },
  {
   "cell_type": "markdown",
   "metadata": {},
   "source": [
    "NABP1 is part of the integrator complex. Let's look at its relationship to HIV and the other member INTS1."
   ]
  },
  {
   "cell_type": "code",
   "execution_count": null,
   "metadata": {},
   "outputs": [],
   "source": [
    "INTS1 <- \"ENSG00000164880.15\"\n",
    "PUS10 <- \"ENSG00000162927.13\"\n",
    "\n",
    "# NABP1 code\n",
    "NABP1 <- rownames(gene.data)[which(gene.data$gene_symbol == \"NABP1\")]\n",
    "DKC1 <- rownames(gene.data)[which(gene.data$gene_symbol == \"DKC1\")]"
   ]
  },
  {
   "cell_type": "code",
   "execution_count": null,
   "metadata": {},
   "outputs": [],
   "source": [
    "# useful\n",
    "treated <- sampleSheet$status == \"treated\""
   ]
  },
  {
   "cell_type": "code",
   "execution_count": null,
   "metadata": {},
   "outputs": [],
   "source": [
    "options(repr.plot.width = 2.5, repr.plot.height = 2)\n",
    "gg <-ggplot(as.data.frame(t(merged[, treated])), aes_string(INTS1, NABP1)) + geom_point()  +\n",
    "    geom_smooth(method='lm') +\n",
    "    labs(x = \"INTS1\", y = \"NABP1\")\n",
    "print(gg)"
   ]
  },
  {
   "cell_type": "markdown",
   "metadata": {},
   "source": [
    "There are lots of cases where NABP1 is zero and INTS1 is non-zero, and vice versa."
   ]
  },
  {
   "cell_type": "code",
   "execution_count": null,
   "metadata": {},
   "outputs": [],
   "source": [
    "options(repr.plot.width = 2.5, repr.plot.height = 2)\n",
    "gg <-ggplot(as.data.frame(t(merged[, treated])), aes_string(PUS10, DKC1)) + geom_point()  +\n",
    "    geom_smooth(method='lm') +\n",
    "    labs(x = \"PUS10\", y = \"DKC1\")\n",
    "print(gg)"
   ]
  },
  {
   "cell_type": "code",
   "execution_count": null,
   "metadata": {},
   "outputs": [],
   "source": [
    "INTS.genes <- rownames(gene.data)[which(substr(gene.data$gene_symbol, 0, 4) == \"INTS\")]\n",
    "INTS.matrix <- t(merged[INTS.genes, treated])\n",
    "colnames(INTS.matrix) <- gene.data[which(substr(gene.data$gene_symbol, 0, 4) == \"INTS\"), \"gene_symbol\"]"
   ]
  },
  {
   "cell_type": "code",
   "execution_count": null,
   "metadata": {},
   "outputs": [],
   "source": [
    "options(repr.plot.width = 6, repr.plot.height = 6)\n",
    "INTS.corr <- cor(INTS.matrix)\n",
    "library(corrplot)\n",
    "corrplot(INTS.corr, type = \"upper\", order = \"hclust\", \n",
    "         tl.col = \"black\", tl.srt = 45)"
   ]
  }
 ],
 "metadata": {
  "kernelspec": {
   "display_name": "R",
   "language": "R",
   "name": "ir"
  },
  "language_info": {
   "codemirror_mode": "r",
   "file_extension": ".r",
   "mimetype": "text/x-r-source",
   "name": "R",
   "pygments_lexer": "r"
  }
 },
 "nbformat": 4,
 "nbformat_minor": 2
}
