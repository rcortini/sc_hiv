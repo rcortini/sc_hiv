{
 "cells": [
  {
   "cell_type": "markdown",
   "metadata": {},
   "source": [
    "# 2019-04-03 Compositional data analysis\n",
    "\n",
    "After my talk at the PRBB Computational Genomics Seminar, I received the advice to use an R package called `propr`, that implements methods that allow to treat the RNA-seq data as *compositional*, which avoids the problem of introducing biases due to normalization.\n",
    "\n",
    "So here it goes.\n",
    "\n",
    "## A short note about compositional data analysis\n",
    "\n",
    "Before doing that, I want to make sure that I really understand the point of using compositional data analysis.\n",
    "\n",
    "Let's start by thinking about two experiments that measure four genes, A, B, C, and D. Let's imagine that the two experiments are strictly identical, only that in the second experiment gene D has artificially an increased amount of reads, perhaps due to PCR amplification biases. Let's see what happens when normalizing by library size."
   ]
  },
  {
   "cell_type": "code",
   "execution_count": null,
   "metadata": {},
   "outputs": [],
   "source": [
    "experiments <- data.frame(exp1 = c(10, 40, 20, 5),\n",
    "                          exp2 = c(10, 40, 20, 25))\n",
    "rownames(experiments) <- c(\"A\", \"B\", \"C\", \"D\")\n",
    "\n",
    "# show it\n",
    "experiments"
   ]
  },
  {
   "cell_type": "code",
   "execution_count": null,
   "metadata": {},
   "outputs": [],
   "source": [
    "librarySize <- colSums(experiments)\n",
    "norm.experiments <- t(experiments)\n",
    "norm.experiments <- norm.experiments / librarySize\n",
    "norm.experiments <- t(norm.experiments)\n",
    "norm.experiments"
   ]
  },
  {
   "cell_type": "markdown",
   "metadata": {},
   "source": [
    "Bottomline is that the levels of expression in the two experiments seem to have changed just because the library size has been modified.\n",
    "\n",
    "Let's proceed with using `propr` for our purposes.\n",
    "\n",
    "## Using propr\n",
    "\n",
    "Now let's try to start using the package."
   ]
  },
  {
   "cell_type": "code",
   "execution_count": null,
   "metadata": {},
   "outputs": [],
   "source": [
    "# load the library\n",
    "library(propr)"
   ]
  },
  {
   "cell_type": "code",
   "execution_count": null,
   "metadata": {},
   "outputs": [],
   "source": [
    "# load the expression matrix\n",
    "data.dir <- \"/home/rcortini/work/CRG/projects/sc_hiv/data\"\n",
    "matrix.fname <- sprintf('%s/matrices/exprMatrix.tsv', data.dir)\n",
    "exprMatrix <- read.table(matrix.fname, header = TRUE, row.names = 1,\n",
    "                                       sep = \"\\t\", check.names = FALSE)\n",
    "\n",
    "# load the sample sheet\n",
    "sample.sheet.fname <- sprintf(\"%s/metadata/sampleSheet.tsv\", data.dir)\n",
    "sampleSheet <- read.delim(sample.sheet.fname, header = TRUE, row.names = 1)\n",
    "\n",
    "# load gene annotations file\n",
    "gene.annotations <- sprintf(\"%s/matrices/gene_annotations.tsv\", data.dir)\n",
    "gene.data <- read.delim(gene.annotations, header = TRUE, sep = \"\\t\",\n",
    "                        row.names = 1, stringsAsFactors = FALSE)\n",
    "gene.data <- subset(gene.data, rownames(gene.data) %in% rownames(exprMatrix))"
   ]
  },
  {
   "cell_type": "markdown",
   "metadata": {},
   "source": [
    "The `propr` package wants the data in the format of a matrix of $D$ columns and $N$ rows, where $D$ is the number of features (in this case: genes) and $N$ is the number of observations (in this case: cells) in the data set. Therefore, I transpose the matrix."
   ]
  },
  {
   "cell_type": "code",
   "execution_count": null,
   "metadata": {},
   "outputs": [],
   "source": [
    "jlat.DMSO <- rownames(sampleSheet)[sampleSheet$label == \"J-LatA2+DMSO\"]\n",
    "jlat.SAHA <- rownames(sampleSheet)[sampleSheet$label == \"J-LatA2+SAHA\"]\n",
    "X <- cbind(exprMatrix[, jlat.DMSO], exprMatrix[, jlat.SAHA])\n",
    "X <- t(X)\n",
    "\n",
    "# filter out\n",
    "keep <- apply(X, 2, function(x) sum(x >= 10) >= N/10)\n",
    "X <- X[, keep]"
   ]
  },
  {
   "cell_type": "code",
   "execution_count": null,
   "metadata": {},
   "outputs": [],
   "source": [
    "groups <- c(rep(\"DMSO\", length(jlat.DMSO)), rep(\"SAHA\", length(jlat.SAHA)))"
   ]
  },
  {
   "cell_type": "markdown",
   "metadata": {},
   "source": [
    "And now I can use the main function that `propr` supplies, which is \"propd\"."
   ]
  },
  {
   "cell_type": "code",
   "execution_count": null,
   "metadata": {},
   "outputs": [],
   "source": [
    "rho <- propd(counts = X,\n",
    "             group = groups,\n",
    "             p = 10)"
   ]
  },
  {
   "cell_type": "code",
   "execution_count": null,
   "metadata": {},
   "outputs": [],
   "source": [
    "rho@results"
   ]
  }
 ],
 "metadata": {
  "kernelspec": {
   "display_name": "R",
   "language": "R",
   "name": "ir"
  },
  "language_info": {
   "codemirror_mode": "r",
   "file_extension": ".r",
   "mimetype": "text/x-r-source",
   "name": "R",
   "pygments_lexer": "r"
  }
 },
 "nbformat": 4,
 "nbformat_minor": 2
}
