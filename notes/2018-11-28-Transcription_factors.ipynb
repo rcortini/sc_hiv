{
 "cells": [
  {
   "cell_type": "markdown",
   "metadata": {},
   "source": [
    "# 2018-11-28 Transcription factors\n",
    "So far we analysed the genes without knowing anything about them (with few exceptions). Now I want to study what happens to transcription factors, so assess whether there are any interesting results."
   ]
  },
  {
   "cell_type": "code",
   "execution_count": null,
   "metadata": {},
   "outputs": [],
   "source": [
    "# biomaRt for obtaining information on genes\n",
    "library(biomaRt)\n",
    "\n",
    "# ggplot stuff\n",
    "library(ggplot2)\n",
    "library(RColorBrewer)\n",
    "theme_set(theme_bw())\n",
    "\n",
    "# DESeq\n",
    "library(DESeq)\n",
    "\n",
    "# extra goodies\n",
    "library(Rfast)\n"
   ]
  },
  {
   "cell_type": "code",
   "execution_count": null,
   "metadata": {},
   "outputs": [],
   "source": [
    "# load the data\n",
    "matrices.dir <- \"/home/rcortini/work/CRG/projects/sc_hiv/data/matrices\"\n",
    "merged <- read.table(sprintf('%s/exprMatrix.csv', matrices.dir),\n",
    "                     header = TRUE, row.names = 1,\n",
    "                     sep = \"\\t\", check.names = FALSE)\n",
    "\n",
    "# load sample sheet\n",
    "sampleSheet <- read.table(sprintf('%s/samplesheet.csv', matrices.dir),\n",
    "                          header = TRUE,\n",
    "                          row.names = 1)\n",
    "\n",
    "# remove dead cells\n",
    "sampleSheet <- sampleSheet[sampleSheet$status != \"dead\", ]\n",
    "\n",
    "# load gene annotations file\n",
    "gene.annotations <- sprintf(\"%s/gene_annotations.tsv\", matrices.dir)\n",
    "gene.data <- read.delim(gene.annotations, header = TRUE, sep = \"\\t\",\n",
    "                        row.names = 1, stringsAsFactors = FALSE)\n",
    "gene.data <- subset(gene.data, rownames(gene.data) %in% rownames(merged))"
   ]
  },
  {
   "cell_type": "markdown",
   "metadata": {},
   "source": [
    "I downloaded the list of all the human transcription factors from http://humantfs.ccbr.utoronto.ca/download.php Now I'll load that file and let's see how to match those names to the ones present in the gene list."
   ]
  },
  {
   "cell_type": "code",
   "execution_count": null,
   "metadata": {},
   "outputs": [],
   "source": [
    "# load list\n",
    "TF.list <- read.table(file = sprintf('%s/../TFs_Ensembl_v_1.01.txt', matrices.dir))\n",
    "TF.list <- as.character(TF.list$V1)"
   ]
  },
  {
   "cell_type": "code",
   "execution_count": null,
   "metadata": {},
   "outputs": [],
   "source": [
    "# get gene short names and add the column to the list\n",
    "gene.short.names <- gsub(\"\\\\..*\", \"\", rownames(gene.data))\n",
    "gene.data$gene_short_name <- gene.short.names"
   ]
  },
  {
   "cell_type": "code",
   "execution_count": null,
   "metadata": {},
   "outputs": [],
   "source": [
    "# get the list of transcription factors that are present in our list\n",
    "TFs.short.names <- intersect(gene.short.names, TF.list)\n",
    "TFs <- rownames(subset(gene.data, gene_short_name %in% TFs.short.names))"
   ]
  },
  {
   "cell_type": "markdown",
   "metadata": {},
   "source": [
    "So now we have the names of the genes that we are interested in.\n",
    "\n",
    "## Differential expression analysis\n",
    "\n",
    "We begin the analysis with looking at which of the transcription factors are differentially expressed before and after treatment."
   ]
  },
  {
   "cell_type": "code",
   "execution_count": null,
   "metadata": {},
   "outputs": [],
   "source": [
    "# group the cell types together as factors\n",
    "groups <- factor(sampleSheet$label,\n",
    "                 levels = c(\"Jurkat\", \"J-Lat+DMSO\", \"J-Lat+SAHA\"))\n",
    "\n",
    "# cast to integer\n",
    "merged.int <- as.data.frame(lapply(merged, as.integer))\n",
    "rownames(merged.int) <- rownames(merged)\n",
    "\n",
    "# this is the basic data structure that DESeq understands\n",
    "cds <- newCountDataSet(merged.int, groups)\n",
    "\n",
    "# estimate size factors\n",
    "cds <- estimateSizeFactors(cds)\n",
    "\n",
    "# estimate dispersion\n",
    "cds <- estimateDispersions(cds, sharingMode=\"gene-est-only\")"
   ]
  },
  {
   "cell_type": "code",
   "execution_count": null,
   "metadata": {},
   "outputs": [],
   "source": [
    "# do the differential expression analysis\n",
    "de.test <- nbinomTest(cds, \"J-Lat+DMSO\", \"J-Lat+SAHA\")"
   ]
  },
  {
   "cell_type": "code",
   "execution_count": null,
   "metadata": {},
   "outputs": [],
   "source": [
    "# define treated cells\n",
    "treated <- sampleSheet$status==\"treated\" & merged[\"FILIONG01\", ] < 5000"
   ]
  },
  {
   "cell_type": "code",
   "execution_count": null,
   "metadata": {},
   "outputs": [],
   "source": [
    "# subset the TFs\n",
    "TF.de.test <- subset(de.test, id %in% TFs)\n",
    "\n",
    "# add also HIV correlation\n",
    "TF.de.test$corHIV <- cor(t(merged[TFs, treated]), t(merged[\"FILIONG01\", treated]), use=\"p\")\n",
    "\n",
    "# filter out significant genes based on FDR adjusted p-values\n",
    "TF.de.test <- TF.de.test[!is.infinite(TF.de.test$log2FoldChange) & \n",
    "                       !is.nan(TF.de.test$log2FoldChange),]\n",
    "\n",
    "# order by p-value\n",
    "TF.de.test <- TF.de.test[order(TF.de.test$pval),]\n",
    "\n",
    "# use ids as row names\n",
    "rownames(TF.de.test) <- TF.de.test$id\n",
    "TF.de.test <- TF.de.test[, -1]\n",
    "\n",
    "# and calculate the p-value for the HIV correlation\n",
    "TF.de.test$pHIV <- 0.0\n",
    "for (i in 1:nrow(TF.de.test)) {\n",
    "    TF.name <- rownames(TF.de.test)[i]\n",
    "    TF.de.test$pHIV[i] <- cor.test(t(merged[TF.name, treated]), t(merged[\"FILIONG01\", treated]),\n",
    "                                  method = \"pearson\")$p.value\n",
    "}\n",
    "\n",
    "# add gene name for readibility\n",
    "TF.de.test$geneName <- gene.data[rownames(TF.de.test),]$gene_symbol"
   ]
  },
  {
   "cell_type": "code",
   "execution_count": null,
   "metadata": {},
   "outputs": [],
   "source": [
    "threshold <- 0.05\n",
    "\n",
    "# add categories based on significance\n",
    "TF.de.test$significance <- factor(rep(\"non-significant\", nrow(TF.de.test)),\n",
    "                                 levels = c(\"non-significant\", \"HIV\", \"DES\", \"both\"))\n",
    "\n",
    "# significant for differential expression\n",
    "TF.de.test$significance[TF.de.test$pval < threshold] <- \"DES\"\n",
    "\n",
    "# significant for HIV correlation\n",
    "TF.de.test$significance[TF.de.test$pHIV < threshold] <- \"HIV\"\n",
    "\n",
    "# significant for both\n",
    "TF.de.test$significance[TF.de.test$pval < threshold & \n",
    "                       TF.de.test$pHIV < threshold] <- \"both\""
   ]
  },
  {
   "cell_type": "code",
   "execution_count": null,
   "metadata": {},
   "outputs": [],
   "source": [
    "options(repr.plot.width = 5, repr.plot.height = 3)\n",
    "ggplot(TF.de.test, aes(pval, pHIV)) + geom_point(aes(color = significance)) +\n",
    "scale_x_continuous(trans=\"log10\") +\n",
    "scale_y_continuous(trans=\"log10\") +\n",
    "geom_hline(yintercept = threshold, linetype = \"dashed\", color = \"red\") +\n",
    "geom_vline(xintercept = threshold, linetype = \"dashed\", color = \"red\")"
   ]
  },
  {
   "cell_type": "markdown",
   "metadata": {},
   "source": [
    "We identified transcription factors that are differentially expressed between non-treated and treated cells and that are significantly correlated to HIV. Let's have a look at the list of candidates."
   ]
  },
  {
   "cell_type": "code",
   "execution_count": null,
   "metadata": {},
   "outputs": [],
   "source": [
    "significant.TFs <- subset(TF.de.test, significance == \"both\")\n",
    "X <- data.frame(expr = t(merged[rownames(significant.TFs), treated]), hiv = t(merged[\"FILIONG01\", treated]))\n",
    "colnames(X) <- c(rownames(significant.TFs), \"hiv\")"
   ]
  },
  {
   "cell_type": "code",
   "execution_count": null,
   "metadata": {},
   "outputs": [],
   "source": [
    "# let's now plot all the results\n",
    "options(repr.plot.width = 2.5, repr.plot.height = 2)\n",
    "for (TF.name in rownames(significant.TFs)) {\n",
    "    gg <- ggplot(X, aes_string(TF.name, \"hiv\")) + geom_point()  +\n",
    "    geom_smooth(method='lm') +\n",
    "    labs(x = gene.data[TF.name, \"gene_symbol\"], y = \"GFP expression\", \n",
    "         title = sprintf(\"p = %.3e\", significant.TFs[TF.name, \"pHIV\"]))\n",
    "    print(gg)\n",
    "}"
   ]
  },
  {
   "cell_type": "markdown",
   "metadata": {},
   "source": [
    "These results are interesting but not spectacular. We should really think of a way of analysing how on-off results compare, more than anything else."
   ]
  }
 ],
 "metadata": {
  "kernelspec": {
   "display_name": "R",
   "language": "R",
   "name": "ir"
  },
  "language_info": {
   "codemirror_mode": "r",
   "file_extension": ".r",
   "mimetype": "text/x-r-source",
   "name": "R",
   "pygments_lexer": "r"
  }
 },
 "nbformat": 4,
 "nbformat_minor": 2
}
