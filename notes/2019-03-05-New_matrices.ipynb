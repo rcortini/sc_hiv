{
 "cells": [
  {
   "cell_type": "code",
   "execution_count": null,
   "metadata": {},
   "outputs": [],
   "source": [
    "# ggplot stuff\n",
    "library(ggplot2)\n",
    "library(RColorBrewer)\n",
    "theme_set(theme_bw())"
   ]
  },
  {
   "cell_type": "markdown",
   "metadata": {},
   "source": [
    "# 2019-03-05-New_matrices\n",
    "\n",
    "New gene expression matrices have been calculated by the CNAG. I'll try to get the matrices and the corresponding data sheets."
   ]
  },
  {
   "cell_type": "code",
   "execution_count": null,
   "metadata": {},
   "outputs": [],
   "source": [
    "# directory containing the expression matrix data\n",
    "matrices.dir <- \"/home/rcortini/work/CRG/projects/sc_hiv/data/matrices\"\n",
    "\n",
    "# names of the new sample plates\n",
    "new.matrix.names <- c(\"P2769\", \"P2770\", \"P2771\")\n",
    "\n",
    "# init the data structures that will contain the data\n",
    "expr.matrices <- list()\n",
    "\n",
    "# do a loop and load all the data. For the moment, I'll keep the various plates separate.\n",
    "for (name in new.matrix.names) {\n",
    "    # build the matrix file name and load it\n",
    "    matrix.fname <- sprintf(\"%s/%s.tsv.gz\", matrices.dir, name)\n",
    "    expr.matrices[[name]] <- read.table(matrix.fname, header = TRUE, row.names = 1,\n",
    "                                       sep = \"\\t\", check.names = FALSE)\n",
    "}"
   ]
  },
  {
   "cell_type": "code",
   "execution_count": null,
   "metadata": {},
   "outputs": [],
   "source": [
    "# load the sample sheet\n",
    "sample.sheet.fname <- sprintf(\"%s/samplesheet_2.tsv\", matrices.dir)\n",
    "sample.sheet <- read.delim(sample.sheet.fname, header = TRUE, row.names = 1)"
   ]
  },
  {
   "cell_type": "markdown",
   "metadata": {},
   "source": [
    "Okay, now that we loaded all the data, we can look at some very basic things. First, let's look at the total number of cells that we have in the sample. That is, let's look at the sum of all the reads in a particular cell."
   ]
  },
  {
   "cell_type": "code",
   "execution_count": null,
   "metadata": {},
   "outputs": [],
   "source": [
    "for (name in new.matrix.names) {\n",
    "    expr.matrix <- expr.matrices[[name]]\n",
    "    total.reads <- as.data.frame(colSums(expr.matrix))\n",
    "    colnames(total.reads) <- \"sum\"\n",
    "    total.reads$label <- sample.sheet[rownames(total.reads), \"label\"]\n",
    "\n",
    "    # plot\n",
    "    options(repr.plot.width = 15, repr.plot.height = 6)\n",
    "    gg <- ggplot(total.reads, aes(x = rownames(total.reads), y = sum)) +\n",
    "    geom_bar(aes(fill = label), stat=\"identity\")\n",
    "    print(gg)\n",
    "}"
   ]
  },
  {
   "cell_type": "markdown",
   "metadata": {},
   "source": [
    "Okay, so we have sort of the same problem that we had before. Now we're looking at cells that might not even be cells."
   ]
  },
  {
   "cell_type": "code",
   "execution_count": null,
   "metadata": {},
   "outputs": [],
   "source": [
    "# pool together the expression matrices\n",
    "exprMatrix <- cbind(expr.matrices[[\"P2769\"]],\n",
    "                    expr.matrices[[\"P2770\"]],\n",
    "                    expr.matrices[[\"P2771\"]])\n",
    "\n",
    "# remove genes that have no expression\n",
    "exprMatrix <- exprMatrix[rowSums(exprMatrix)>1, ]\n",
    "\n",
    "# normalize by row sum\n",
    "total <- colSums(exprMatrix)\n",
    "exprMatrix <- t(exprMatrix)\n",
    "exprMatrix <- exprMatrix / rowSums(exprMatrix)\n",
    "exprMatrix <- t(exprMatrix)"
   ]
  },
  {
   "cell_type": "code",
   "execution_count": null,
   "metadata": {},
   "outputs": [],
   "source": [
    "# do the PCA\n",
    "exprMatrix.pca <- prcomp(t(exprMatrix), scale = TRUE)"
   ]
  },
  {
   "cell_type": "code",
   "execution_count": null,
   "metadata": {},
   "outputs": [],
   "source": [
    "# prepare for plotting\n",
    "pca <- as.data.frame(exprMatrix.pca$x)\n",
    "pca$batch <- substring(colnames(exprMatrix), 0, 5)\n",
    "pca$label <- sample.sheet$label\n",
    "pca$total <- total"
   ]
  },
  {
   "cell_type": "code",
   "execution_count": null,
   "metadata": {},
   "outputs": [],
   "source": [
    "options(repr.plot.width = 6.5, repr.plot.height = 2)\n",
    "ggplot(pca, aes(PC1, PC2)) + geom_point(aes(color=total))  +\n",
    "scale_colour_gradient(low=\"blue\", high=\"red\") + theme_bw()"
   ]
  },
  {
   "cell_type": "markdown",
   "metadata": {},
   "source": [
    "It's clear that the lonely point in the far right is a complete outlier, maybe one of the cells that do not have expression at all."
   ]
  },
  {
   "cell_type": "code",
   "execution_count": null,
   "metadata": {},
   "outputs": [],
   "source": [
    "options(repr.plot.width = 4, repr.plot.height = 3)\n",
    "ggplot(pca, aes(PC1, PC2)) + geom_point(aes(color=total))  +\n",
    "scale_colour_gradient(low=\"blue\", high=\"red\") + theme_bw() + xlim(-30, 40)"
   ]
  },
  {
   "cell_type": "code",
   "execution_count": null,
   "metadata": {},
   "outputs": [],
   "source": [
    "options(repr.plot.width = 4, repr.plot.height = 3)\n",
    "ggplot(pca, aes(PC1, PC2)) + geom_point(aes(color=batch)) + theme_bw()  + xlim(-30, 40)"
   ]
  },
  {
   "cell_type": "markdown",
   "metadata": {},
   "source": [
    "No significant batch effects are present, at least from this plot. Let's look at the cell identity."
   ]
  },
  {
   "cell_type": "code",
   "execution_count": null,
   "metadata": {},
   "outputs": [],
   "source": [
    "options(repr.plot.width = 6, repr.plot.height = 4)\n",
    "ggplot(pca, aes(PC1, PC2)) + geom_point(aes(color=label)) + theme_bw() + xlim(-20, 40)"
   ]
  },
  {
   "cell_type": "markdown",
   "metadata": {},
   "source": [
    "So from here it is clear that the first principal component is still the one that captures whether the cells are dead or not, and the second principal component captures the global shift in gene expression patterns that occur pre- and post-treatment.\n",
    "\n",
    "The treatment with SAHA is still the one that causes the largest shift in the global expression patterns. As is seen in this plot, the dead or dying cells are almost all treated with SAHA."
   ]
  }
 ],
 "metadata": {
  "kernelspec": {
   "display_name": "R",
   "language": "R",
   "name": "ir"
  },
  "language_info": {
   "codemirror_mode": "r",
   "file_extension": ".r",
   "mimetype": "text/x-r-source",
   "name": "R",
   "pygments_lexer": "r"
  }
 },
 "nbformat": 4,
 "nbformat_minor": 2
}
