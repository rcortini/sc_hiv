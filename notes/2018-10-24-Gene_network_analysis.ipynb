{
 "cells": [
  {
   "cell_type": "markdown",
   "metadata": {},
   "source": [
    "# 2018-10-24-Gene_network_analysis\n",
    "\n",
    "In this notebook I want to try to use the `WGCNA` R package to try to construct the gene network modules for the experiments in my data set.\n",
    "\n",
    "I'll try to see what happens if I only include the Jurkat, the J-Lat treated or untreated cells.\n",
    "\n",
    "## Loading data"
   ]
  },
  {
   "cell_type": "code",
   "execution_count": null,
   "metadata": {},
   "outputs": [],
   "source": [
    "# load the WGCNA library and allow multithreading\n",
    "library(WGCNA)\n",
    "allowWGCNAThreads()"
   ]
  },
  {
   "cell_type": "code",
   "execution_count": null,
   "metadata": {},
   "outputs": [],
   "source": [
    "# basic data\n",
    "matrices.dir <- \"/home/rcortini/work/CRG/projects/sc_hiv/data/matrices\"\n",
    "sample.names <- c(\"P2449\", \"P2458\")\n",
    "\n",
    "# init data structures that will hold our data\n",
    "exprMatrices <- list()\n",
    "sampleSheets <- list()\n",
    "\n",
    "# load data\n",
    "for (sample.name in sample.names) {\n",
    "    \n",
    "    # file names\n",
    "    matrix.fname <- sprintf(\"%s/%s.tsv.gz\", matrices.dir, sample.name)\n",
    "    sampleSheet.fname <- sprintf(\"%s/monocle/%s.pd.tsv\", matrices.dir, sample.name)\n",
    "\n",
    "    # parse data\n",
    "    exprMatrices[[sample.name]] <- read.table(matrix.fname, header = TRUE, row.names = 1,\n",
    "                                sep = \"\\t\", check.names = FALSE)\n",
    "    sampleSheets[[sample.name]] <- read.delim(sampleSheet.fname, header = TRUE, row.names = 1)\n",
    "}\n",
    "\n",
    "# load gene annotations file\n",
    "gene.annotations <- sprintf(\"%s/gene_annotations.tsv\", matrices.dir)\n",
    "gene.data <- read.delim(gene.annotations, header = TRUE, row.names = 1, sep = \"\\t\")"
   ]
  },
  {
   "cell_type": "markdown",
   "metadata": {},
   "source": [
    "## Prepare clustering functions\n",
    "Here I prepare a few functions (directly taken from the WGCNA tutorial) that will allow to do the clustering of the gene expression profiles."
   ]
  },
  {
   "cell_type": "code",
   "execution_count": null,
   "metadata": {},
   "outputs": [],
   "source": [
    "# This function prepares the data structure to be fed to the next function\n",
    "PrepareDataForClustering <- function (exprMatrix, sampleSheet,\n",
    "                          ngenes = 3600,\n",
    "                          cut = 1000) {\n",
    "    # select the group of genes from the untreated J-Lat cells\n",
    "    jlat.untreated <- exprMatrix[, sampleSheet$label == 'J-Lat+DMSO']\n",
    "    \n",
    "    # establish which are the most highly varying genes, based on a simple\n",
    "    # criterion of maximum variance/mean.\n",
    "    gene.variances <- apply(jlat.untreated, 1, var)\n",
    "    gene.means <- apply(jlat.untreated, 1, mean)\n",
    "    gene.variability <- gene.variances/gene.means\n",
    "    \n",
    "    # get the names of the genes that have the greatest biological variation, \n",
    "    # excluding the FILIONG01 gene (not really necessary)\n",
    "    selected <- order(gene.variability, decreasing = TRUE)[1:ngenes]\n",
    "    most.variable.genes <- rownames(jlat.untreated[selected, ])\n",
    "    most.variable.genes <- most.variable.genes[most.variable.genes != 'FILIONG01']\n",
    "    \n",
    "    # extract a data frame with the values of the expressions for each of the genes\n",
    "    # with the highest biological variation\n",
    "    datExpr0 <- as.data.frame(t(jlat.untreated[most.variable.genes, ]))\n",
    "    \n",
    "    # do quality control\n",
    "    gsg <- goodSamplesGenes(datExpr0, verbose = 3);\n",
    "    if (!gsg$allOK) {\n",
    "        stop(\"Do proper quality control on genes!\") \n",
    "    }\n",
    "    \n",
    "    # plot size\n",
    "    options(repr.plot.width = 10, repr.plot.height = 6)\n",
    "\n",
    "    # detect outliers\n",
    "    sampleTree <- hclust(dist(datExpr0), method = \"average\");\n",
    "    par(cex = 0.6);\n",
    "    par(mar = c(0,4,2,0))\n",
    "    plot(sampleTree,\n",
    "         main     = \"Sample clustering to detect outliers\",\n",
    "         sub      = \"\",\n",
    "         xlab     = \"\",\n",
    "         cex.lab  = 1.5,\n",
    "         cex.axis = 1.5,\n",
    "         cex.main = 2)\n",
    "\n",
    "    # Plot a line to show the cut\n",
    "    abline(h = cut, col = \"red\");\n",
    "    \n",
    "    # Determine cluster under the line\n",
    "    clust <- cutreeStatic(sampleTree, cutHeight = cut, minSize = 10)\n",
    "    table(clust)\n",
    "    \n",
    "    # clust 1 contains the samples we want to keep.\n",
    "    keepSamples <- (clust == 1)\n",
    "    datExpr0[keepSamples, ]\n",
    "}"
   ]
  },
  {
   "cell_type": "code",
   "execution_count": null,
   "metadata": {},
   "outputs": [],
   "source": [
    "# this function outputs a plot that allows to choose the best value of the\n",
    "# soft thresholding power\n",
    "PrepareClustering <- function (datExpr) {\n",
    "    # Choose a set of soft-thresholding powers\n",
    "    powers <- c(c(1:10), seq(from = 12, to=20, by=2))\n",
    "\n",
    "    # Call the network topology analysis function\n",
    "    sft <- pickSoftThreshold(datExpr, powerVector = powers, verbose = 5)\n",
    "    \n",
    "    # number of genes and number of samples\n",
    "    nGenes <- ncol(datExpr)\n",
    "    nSamples <- nrow(datExpr)\n",
    "\n",
    "    # Plot the results:\n",
    "    par(mfrow = c(1,2))\n",
    "    cex1 = 0.9\n",
    "    options(repr.plot.width = 10, repr.plot.height = 6)\n",
    "\n",
    "    # Scale-free topology fit index as a function of the soft-thresholding power\n",
    "    plot(sft$fitIndices[,1], -sign(sft$fitIndices[,3])*sft$fitIndices[,2],\n",
    "         xlab = \"Soft Threshold (power)\",\n",
    "         ylab = \"Scale Free Topology Model Fit,signed R^2\",\n",
    "         type = \"n\",\n",
    "         main = paste(\"Scale independence\"))\n",
    "\n",
    "    text(sft$fitIndices[,1], -sign(sft$fitIndices[,3])*sft$fitIndices[,2],\n",
    "         labels = powers,\n",
    "         cex    = cex1,\n",
    "         col    = \"red\");\n",
    "\n",
    "    # this line corresponds to using an R^2 cut-off of h\n",
    "    abline(h = 0.90, col = \"red\")\n",
    "\n",
    "    # Mean connectivity as a function of the soft-thresholding power\n",
    "    plot(sft$fitIndices[,1], sft$fitIndices[,5],\n",
    "         xlab = \"Soft Threshold (power)\",\n",
    "         ylab = \"Mean Connectivity\",\n",
    "         type = \"n\",\n",
    "         main = paste(\"Mean connectivity\"))\n",
    "\n",
    "    text(sft$fitIndices[,1], sft$fitIndices[,5],\n",
    "         labels = powers,\n",
    "         cex    = cex1,\n",
    "         col    = \"red\")\n",
    "}"
   ]
  },
  {
   "cell_type": "code",
   "execution_count": null,
   "metadata": {},
   "outputs": [],
   "source": [
    "VisualizeClustering <- function (net) {\n",
    "    # plot size\n",
    "    options(repr.plot.width = 10, repr.plot.height = 6)\n",
    "\n",
    "    # Convert labels to colors for plotting\n",
    "    mergedColors <- labels2colors(net$colors)\n",
    "\n",
    "    # Plot the dendrogram and the module colors underneath\n",
    "    plotDendroAndColors(net$dendrograms[[1]],\n",
    "                        mergedColors[net$blockGenes[[1]]],\n",
    "                        \"Module colors\",\n",
    "                        dendroLabels = FALSE,\n",
    "                        hang = 0.03,\n",
    "                        addGuide = TRUE,\n",
    "                        guideHang = 0.05)\n",
    "}"
   ]
  },
  {
   "cell_type": "code",
   "execution_count": null,
   "metadata": {},
   "outputs": [],
   "source": [
    "# prepare data structures for further analysis\n",
    "datExpr <- list()\n",
    "net <- list()"
   ]
  },
  {
   "cell_type": "markdown",
   "metadata": {},
   "source": [
    "## P2449 clustering"
   ]
  },
  {
   "cell_type": "code",
   "execution_count": null,
   "metadata": {},
   "outputs": [],
   "source": [
    "sample.name <- \"P2449\"\n",
    "exprMatrix <- exprMatrices[[sample.name]]\n",
    "sampleSheet <- sampleSheets[[sample.name]]"
   ]
  },
  {
   "cell_type": "code",
   "execution_count": null,
   "metadata": {},
   "outputs": [],
   "source": [
    "datExpr[[sample.name]] <- PrepareDataForClustering(exprMatrix, sampleSheet, cut = 14000, ngenes = 5000)"
   ]
  },
  {
   "cell_type": "code",
   "execution_count": null,
   "metadata": {},
   "outputs": [],
   "source": [
    "PrepareClustering(datExpr[[sample.name]])"
   ]
  },
  {
   "cell_type": "code",
   "execution_count": null,
   "metadata": {},
   "outputs": [],
   "source": [
    "net[[sample.name]] <- blockwiseModules(datExpr[[sample.name]],\n",
    "                        power             = 5,\n",
    "                        TOMType           = \"unsigned\", \n",
    "                        inModuleSize      = 30,\n",
    "                        reassignThreshold = 0,\n",
    "                        mergeCutHeight    = 0.25,\n",
    "                        numericLabels     = TRUE,\n",
    "                        pamRespectsDendro = FALSE,\n",
    "                        verbose           = 3)"
   ]
  },
  {
   "cell_type": "code",
   "execution_count": null,
   "metadata": {},
   "outputs": [],
   "source": [
    "table(net[[sample.name]]$colors)"
   ]
  },
  {
   "cell_type": "code",
   "execution_count": null,
   "metadata": {},
   "outputs": [],
   "source": [
    "VisualizeClustering(net[[sample.name]])"
   ]
  },
  {
   "cell_type": "markdown",
   "metadata": {},
   "source": [
    "## P2458 clustering"
   ]
  },
  {
   "cell_type": "code",
   "execution_count": null,
   "metadata": {},
   "outputs": [],
   "source": [
    "sample.name <- \"P2458\"\n",
    "exprMatrix <- exprMatrices[[sample.name]]\n",
    "sampleSheet <- sampleSheets[[sample.name]]"
   ]
  },
  {
   "cell_type": "code",
   "execution_count": null,
   "metadata": {},
   "outputs": [],
   "source": [
    "datExpr[[sample.name]] <- PrepareDataForClustering(exprMatrix, sampleSheet, cut = 6000,\n",
    "                                                  ngenes = 5000)"
   ]
  },
  {
   "cell_type": "code",
   "execution_count": null,
   "metadata": {},
   "outputs": [],
   "source": [
    "PrepareClustering(datExpr[[sample.name]])"
   ]
  },
  {
   "cell_type": "code",
   "execution_count": null,
   "metadata": {},
   "outputs": [],
   "source": [
    "net[[sample.name]] <- blockwiseModules(datExpr[[sample.name]],\n",
    "                        power             = 6,\n",
    "                        TOMType           = \"unsigned\", \n",
    "                        inModuleSize      = 30,\n",
    "                        reassignThreshold = 0,\n",
    "                        mergeCutHeight    = 0.25,\n",
    "                        numericLabels     = TRUE,\n",
    "                        pamRespectsDendro = FALSE,\n",
    "                        verbose           = 3)"
   ]
  },
  {
   "cell_type": "code",
   "execution_count": null,
   "metadata": {},
   "outputs": [],
   "source": [
    "table(net[[sample.name]]$colors)"
   ]
  },
  {
   "cell_type": "code",
   "execution_count": null,
   "metadata": {},
   "outputs": [],
   "source": [
    "VisualizeClustering(net[[sample.name]])"
   ]
  },
  {
   "cell_type": "markdown",
   "metadata": {},
   "source": [
    "## Projection of cells onto clustered space\n",
    "Let's now focus on the \"P2449\" sample which gives cleaner results. Once the gene modules have been identified, we can think of projecting each of the cells onto a space of much lower dimensions, by assessing the activity of each of the genes of the module."
   ]
  },
  {
   "cell_type": "code",
   "execution_count": null,
   "metadata": {},
   "outputs": [],
   "source": [
    "mynet <- net[[\"P2449\"]]\n",
    "myColors <- mynet$colors\n",
    "myGenes <- colnames(datExpr[[\"P2449\"]])"
   ]
  },
  {
   "cell_type": "markdown",
   "metadata": {},
   "source": [
    "I need to select the data from the **treated** J-Lat cells, but only the ones that are alive and only the genes that correspond to the genes I selected before."
   ]
  },
  {
   "cell_type": "code",
   "execution_count": null,
   "metadata": {},
   "outputs": [],
   "source": [
    "myExprMatrix <- exprMatrices[[\"P2449\"]]\n",
    "\n",
    "# select only the genes that we selected before\n",
    "myExprMatrix <- myExprMatrix[mygenes, ]\n",
    "\n",
    "# select only J-Lat treated cells\n",
    "myExprMatrix <- myExprMatrix[, sampleSheets[[\"P2449\"]]$label == \"J-Lat+SAHA\"]\n",
    "\n",
    "# select only alive cells\n",
    "myExprMatrix <- myExprMatrix[, colSums(myExprMatrix) > 100000]\n",
    "\n",
    "# finally, transpose to be interfaced to WGCNA\n",
    "myExprMatrix <- t(myExprMatrix)"
   ]
  },
  {
   "cell_type": "markdown",
   "metadata": {},
   "source": [
    "Now I can invoke the `moduleEigengenes` function from the package to get a projection of the cells onto the space defined by the modules that we identified earlier."
   ]
  },
  {
   "cell_type": "code",
   "execution_count": null,
   "metadata": {},
   "outputs": [],
   "source": [
    "MEs <- moduleEigengenes(myExprMatrix, colors)"
   ]
  },
  {
   "cell_type": "markdown",
   "metadata": {},
   "source": [
    "Based on these module eigengenes, we can now do the modelling."
   ]
  },
  {
   "cell_type": "code",
   "execution_count": null,
   "metadata": {},
   "outputs": [],
   "source": [
    "myCells <- rownames(myExprMatrix)\n",
    "hiv <- as.numeric(exprMatrices[[\"P2449\"]][\"FILIONG01\", myCells])\n",
    "eigengenes <- as.matrix(MEs$eigengenes)\n",
    "model <- lm(formula = hiv ~ eigengenes)\n",
    "summary(model)"
   ]
  },
  {
   "cell_type": "markdown",
   "metadata": {},
   "source": [
    "Coming to think about it, maybe fitting a model that contains 34 variables is not such a great idea. Especially because that model contains modules that have not been tested for biological significance. I still need to check that those lovely dendrograms that I obtain do correspond to something meaningful."
   ]
  }
 ],
 "metadata": {
  "kernelspec": {
   "display_name": "R",
   "language": "R",
   "name": "ir"
  },
  "language_info": {
   "codemirror_mode": "r",
   "file_extension": ".r",
   "mimetype": "text/x-r-source",
   "name": "R",
   "pygments_lexer": "r"
  }
 },
 "nbformat": 4,
 "nbformat_minor": 2
}
