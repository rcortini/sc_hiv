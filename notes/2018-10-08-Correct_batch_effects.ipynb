{
 "cells": [
  {
   "cell_type": "markdown",
   "metadata": {},
   "source": [
    "# 2018-10-08 Correct batch effects\n",
    "\n",
    "Here I'm trying to use the workflow presented as a tutorial to the `scran` R package to do correction of batch effects. There are several steps involved, I'll try to get my head over the whole procedure."
   ]
  },
  {
   "cell_type": "code",
   "execution_count": null,
   "metadata": {},
   "outputs": [],
   "source": [
    "library(scran)\n",
    "library(scater)"
   ]
  },
  {
   "cell_type": "markdown",
   "metadata": {},
   "source": [
    "First we define the name of the files and we load them. Notice that here I put a new `gene_annotations.tsv` file where I saved once and for all all the names of the genes in our list, as extracted by the Ensembl Python API `pyensembl` (release 93)."
   ]
  },
  {
   "cell_type": "code",
   "execution_count": null,
   "metadata": {},
   "outputs": [],
   "source": [
    "# file names\n",
    "matrices_dir <- \"/home/rcortini/work/CRG/projects/sc_hiv/data/matrices\"\n",
    "\n",
    "# P2449\n",
    "matrix_fname_1 <- sprintf(\"%s/%s.tsv.gz\", matrices_dir, \"P2449\")\n",
    "sample_sheet_fname_1 <- sprintf(\"%s/monocle/%s.pd.tsv\", matrices_dir, \"P2449\")\n",
    "\n",
    "# P2458\n",
    "matrix_fname_2 <- sprintf(\"%s/%s.tsv.gz\", matrices_dir, \"P2458\")\n",
    "sample_sheet_fname_2 <- sprintf(\"%s/monocle/%s.pd.tsv\", matrices_dir, \"P2458\")\n",
    "\n",
    "# gene annotations file\n",
    "gene_annotations <- sprintf(\"%s/gene_annotations.tsv\", matrices_dir)"
   ]
  },
  {
   "cell_type": "code",
   "execution_count": null,
   "metadata": {},
   "outputs": [],
   "source": [
    "expr_matrix_1 <- read.table(matrix_fname_1, header = TRUE, row.names = 1,\n",
    "                            sep = \"\\t\", check.names = FALSE)\n",
    "sample_sheet_1 <- read.delim(sample_sheet_fname_1, header = TRUE, row.names = 1)\n",
    "\n",
    "expr_matrix_2 <- read.table(matrix_fname_2, header = TRUE, row.names = 1,\n",
    "                            sep = \"\\t\", check.names = FALSE)\n",
    "sample_sheet_2 <- read.delim(sample_sheet_fname_2, header = TRUE, row.names = 1)\n",
    "\n",
    "gene_data <- read.delim(gene_annotations, header = TRUE, row.names = 1, sep = \"\\t\")"
   ]
  },
  {
   "cell_type": "markdown",
   "metadata": {},
   "source": [
    "Now that we have the data we initialize the basic structure of the experiment by initializing a class called `SingleCellExperiment` which should contain all the information related to a single cell RNA-seq experiment. We supply it with the expression matrices as well as with the sample sheets and the gene annotation file."
   ]
  },
  {
   "cell_type": "code",
   "execution_count": null,
   "metadata": {},
   "outputs": [],
   "source": [
    "library(SingleCellExperiment)\n",
    "sce.p2449 <- SingleCellExperiment(list(counts=as.matrix(expr_matrix_1)),\n",
    "                                  rowData=DataFrame(gene_data),\n",
    "                                  colData=DataFrame(sample_sheet_1))\n",
    "sce.p2458 <- SingleCellExperiment(list(counts=as.matrix(expr_matrix_2)),\n",
    "                                  rowData=DataFrame(gene_data),\n",
    "                                  colData=DataFrame(sample_sheet_2))"
   ]
  },
  {
   "cell_type": "markdown",
   "metadata": {},
   "source": [
    "## Quality control\n",
    "The first downstream step is to do quality control of the experiment. The packages provide us with a function to do exactly that."
   ]
  },
  {
   "cell_type": "code",
   "execution_count": null,
   "metadata": {},
   "outputs": [],
   "source": [
    "sce.p2449 <- calculateQCMetrics(sce.p2449, compact=TRUE)\n",
    "sce.p2458 <- calculateQCMetrics(sce.p2458, compact=TRUE)"
   ]
  },
  {
   "cell_type": "markdown",
   "metadata": {},
   "source": [
    "Once we have the information loaded, we can proceed with removing the outlier (lines of code copied and pasted from the tutorial)."
   ]
  },
  {
   "cell_type": "code",
   "execution_count": null,
   "metadata": {},
   "outputs": [],
   "source": [
    "QC.p2449 <- sce.p2449$scater_qc\n",
    "low.lib <- isOutlier(QC.p2449$all$log10_total_counts, type=\"lower\", nmad=3)\n",
    "low.genes <- isOutlier(QC.p2449$all$log10_total_features_by_counts, type=\"lower\",\n",
    "                      nmad=3)\n",
    "data.frame(LowLib=sum(low.lib), LowNgenes=sum(low.genes))"
   ]
  },
  {
   "cell_type": "code",
   "execution_count": null,
   "metadata": {},
   "outputs": [],
   "source": [
    "discard.p2449 <- low.lib | low.genes\n",
    "sce.p2449 <- sce.p2449[,!discard.p2449]\n",
    "summary(discard.p2449)"
   ]
  },
  {
   "cell_type": "code",
   "execution_count": null,
   "metadata": {},
   "outputs": [],
   "source": [
    "QC.p2458 <- sce.p2458$scater_qc\n",
    "low.lib <- isOutlier(QC.p2458$all$log10_total_counts, type=\"lower\", nmad=3)\n",
    "low.genes <- isOutlier(QC.p2458$all$log10_total_features_by_counts, type=\"lower\",\n",
    "                      nmad=3)\n",
    "data.frame(LowLib=sum(low.lib), LowNgenes=sum(low.genes))"
   ]
  },
  {
   "cell_type": "code",
   "execution_count": null,
   "metadata": {},
   "outputs": [],
   "source": [
    "discard.p2458 <- low.lib | low.genes\n",
    "sce.p2458 <- sce.p2458[,!discard.p2458]\n",
    "summary(discard.p2458)"
   ]
  },
  {
   "cell_type": "markdown",
   "metadata": {},
   "source": [
    "## Normalization\n",
    "Once we removed the low-quality cells, we can proceed with the normalization. "
   ]
  },
  {
   "cell_type": "code",
   "execution_count": null,
   "metadata": {},
   "outputs": [],
   "source": [
    "sizes.p2458 <- c(sum(sce.p2458$label == \"Jurkat\"),\n",
    "                 sum(sce.p2458$label == \"J-Lat+DMSO\"),\n",
    "                 sum(sce.p2458$label == \"J-Lat+SAHA\"))\n",
    "sizes.p2449 <- c(sum(sce.p2449$label == \"Jurkat\"),\n",
    "                 sum(sce.p2449$label == \"J-Lat+DMSO\"),\n",
    "                 sum(sce.p2449$label == \"J-Lat+SAHA\"))"
   ]
  },
  {
   "cell_type": "code",
   "execution_count": null,
   "metadata": {},
   "outputs": [],
   "source": [
    "sizefactors.p2449 <- computeSumFactors(counts(sce.p2449), sizes=sizes.p2449)\n",
    "sizefactors.p2458 <- computeSumFactors(counts(sce.p2458), sizes=sizes.p2458)"
   ]
  },
  {
   "cell_type": "code",
   "execution_count": null,
   "metadata": {},
   "outputs": [],
   "source": [
    "summary(sizefactors.p2449)"
   ]
  },
  {
   "cell_type": "code",
   "execution_count": null,
   "metadata": {},
   "outputs": [],
   "source": [
    "sce.p2449 <- computeSumFactors(sce.p2449, sizes=sizes.p2449)\n",
    "normalized.p2449 <- normalize(sce.p2449)\n",
    "sce.p2458 <- computeSumFactors(sce.p2458, sizes=sizes.p2458)\n",
    "normalized.p2458 <- normalize(sce.p2458)"
   ]
  },
  {
   "cell_type": "markdown",
   "metadata": {},
   "source": [
    "## Identify highly variable genes\n",
    "\n",
    "### P2449"
   ]
  },
  {
   "cell_type": "code",
   "execution_count": null,
   "metadata": {},
   "outputs": [],
   "source": [
    "labels <- sort(unique(sce.p2449$label))\n",
    "par(mfrow=c(ceiling(length(labels)/2), 2), \n",
    "    mar=c(4.1, 4.1, 2.1, 0.1))\n",
    "collected <- list()\n",
    "for (x in unique(sce.p2449$label)) {\n",
    "    current <- sce.p2449[,sce.p2449$label==x]\n",
    "    if (ncol(current)<2L) { next }\n",
    "    current <- normalize(current)\n",
    "    fit <- trendVar(current, parametric=TRUE, use.spikes=FALSE) \n",
    "    dec <- decomposeVar(current, fit)\n",
    "    plot(dec$mean, dec$total, xlab=\"Mean log-expression\",\n",
    "        ylab=\"Variance of log-expression\", pch=16, main=x)\n",
    "    curve(fit$trend(x), col=\"dodgerblue\", add=TRUE)\n",
    "    collected[[x]] <- dec\n",
    "}"
   ]
  },
  {
   "cell_type": "code",
   "execution_count": null,
   "metadata": {},
   "outputs": [],
   "source": [
    "dec.p2449 <- do.call(combineVar, collected)\n",
    "dec.p2449$gene_symbol <- rowData(sce.p2449)$gene_symbol\n",
    "dec.p2449 <- dec.p2449[order(dec.p2449$bio, decreasing=TRUE),]\n",
    "head(dec.p2449)"
   ]
  },
  {
   "cell_type": "markdown",
   "metadata": {},
   "source": [
    "### P2458"
   ]
  },
  {
   "cell_type": "code",
   "execution_count": null,
   "metadata": {},
   "outputs": [],
   "source": [
    "labels <- sort(unique(sce.p2458$label))\n",
    "par(mfrow=c(ceiling(length(labels)/2), 2), \n",
    "    mar=c(4.1, 4.1, 2.1, 0.1))\n",
    "collected <- list()\n",
    "for (x in unique(sce.p2458$label)) {\n",
    "    current <- sce.p2458[,sce.p2458$label==x]\n",
    "    if (ncol(current)<2L) { next }\n",
    "    current <- normalize(current)\n",
    "    fit <- trendVar(current, parametric=TRUE, use.spikes=FALSE) \n",
    "    dec <- decomposeVar(current, fit)\n",
    "    plot(dec$mean, dec$total, xlab=\"Mean log-expression\",\n",
    "        ylab=\"Variance of log-expression\", pch=16, main=x)\n",
    "    curve(fit$trend(x), col=\"dodgerblue\", add=TRUE)\n",
    "    collected[[x]] <- dec\n",
    "}"
   ]
  },
  {
   "cell_type": "code",
   "execution_count": null,
   "metadata": {},
   "outputs": [],
   "source": [
    "dec.p2458 <- do.call(combineVar, collected)\n",
    "dec.p2458$gene_symbol <- rowData(sce.p2458)$gene_symbol\n",
    "dec.p2458 <- dec.p2458[order(dec.p2458$bio, decreasing=TRUE),]\n",
    "head(dec.p2458)"
   ]
  },
  {
   "cell_type": "markdown",
   "metadata": {},
   "source": [
    "## Feature selection across batches\n",
    "This part of the analysis is to select which genes we are going to use to do the batch correction. We select the top-varying genes that are common between the two batches to do the benchmark."
   ]
  },
  {
   "cell_type": "code",
   "execution_count": null,
   "metadata": {},
   "outputs": [],
   "source": [
    "top.p2449 <- rownames(dec.p2449)[seq_len(1000)]\n",
    "top.p2458 <- rownames(dec.p2458)[seq_len(1000)]\n",
    "chosen <- Reduce(intersect, list(top.p2449, top.p2458))"
   ]
  },
  {
   "cell_type": "markdown",
   "metadata": {},
   "source": [
    "## Correct batch effect\n",
    "\n",
    "We are now ready to do the batch correction. We'll select the values we want to use to do the batch corrections, and we apply the `mnnCorrect` function that is the subject of the Nat Biotech publication."
   ]
  },
  {
   "cell_type": "code",
   "execution_count": null,
   "metadata": {},
   "outputs": [],
   "source": [
    "original <- list(logcounts(normalized.p2449[chosen,]),\n",
    "                 logcounts(normalized.p2458[chosen,]))\n",
    "corrected <- do.call(mnnCorrect, c(original, list(k=20, sigma=0.1)))"
   ]
  },
  {
   "cell_type": "markdown",
   "metadata": {},
   "source": [
    "Now we can create a new `SingleCellExperiment` object and stick to it all the information we have from this point."
   ]
  },
  {
   "cell_type": "code",
   "execution_count": null,
   "metadata": {},
   "outputs": [],
   "source": [
    "omat <- do.call(cbind, original)\n",
    "mat <- do.call(cbind, corrected$corrected)\n",
    "colnames(mat) <- NULL\n",
    "sce <- SingleCellExperiment(list(original=omat, corrected=mat))\n",
    "colData(sce)$Batch <- rep(c(\"p2449\", \"p2458\"),\n",
    "                          lapply(corrected$corrected, ncol))\n",
    "colData(sce)$label <- c(as.character(sce.p2449$label), as.character(sce.p2458$label))"
   ]
  },
  {
   "cell_type": "markdown",
   "metadata": {},
   "source": [
    "Now we can do the clustering to figure out whether there is any effect of the gene expression patterns on the expression of the GFP reporter."
   ]
  },
  {
   "cell_type": "code",
   "execution_count": null,
   "metadata": {},
   "outputs": [],
   "source": [
    "osce <- runTSNE(sce, exprs_values=\"original\", rand_seed=100, perplexity=5)\n",
    "ot <- plotTSNE(osce, colour_by=\"Batch\") + ggtitle(\"Original\")\n",
    "csce <- runTSNE(sce, exprs_values=\"corrected\", rand_seed=100, perplexity=5)\n",
    "ct <- plotTSNE(csce, colour_by=\"Batch\") + ggtitle(\"Corrected\")\n",
    "options(repr.plot.width = 10, repr.plot.height = 4)\n",
    "multiplot(ot, ct, cols=2)"
   ]
  },
  {
   "cell_type": "code",
   "execution_count": null,
   "metadata": {},
   "outputs": [],
   "source": [
    "ct.jurkat <- plotTSNE(csce, by_exprs_values=\"corrected\", colour_by=\"label\",\n",
    "                     size_by=\"FILIONG01\")\n",
    "options(repr.plot.width = 5, repr.plot.height = 4)\n",
    "plot(ct.jurkat)"
   ]
  },
  {
   "cell_type": "markdown",
   "metadata": {},
   "source": [
    "The plot above can be considered to be our semi-final result. There is little evidence that the cells that have different expression values for the GFP reporters cluster together based on the gene expression patterns.\n",
    "\n",
    "We can check that this result is robust by performing the clustering only with the treated cells."
   ]
  },
  {
   "cell_type": "code",
   "execution_count": null,
   "metadata": {},
   "outputs": [],
   "source": [
    "treated.sce.clustered <- runTSNE(csce[,csce$label==\"J-Lat+SAHA\"],\n",
    "                                 exprs_values=\"corrected\", rand_seed=100, perplexity=5)\n",
    "plotTSNE(treated.sce.clustered, by_exprs_values=\"corrected\", colour_by=\"FILIONG01\")"
   ]
  },
  {
   "cell_type": "markdown",
   "metadata": {},
   "source": [
    "In this plot as well we do not see any evidence for a specific pattern.\n",
    "\n",
    "## Cell cycle\n",
    "\n",
    "The next step is to take the cell cycle into account. The `cyclone` function from the `scran` package is designed to do the assignment in a semi-supervised manner.\n",
    "\n",
    "The assignment is based on measuring the expression levels of pairs of genes. The list can be supplied if we know cells that have a certain cell cycle stage. In the case of this data set there is no such information. Therefore the package supplies us with a precompiled list of pairs of genes."
   ]
  },
  {
   "cell_type": "code",
   "execution_count": null,
   "metadata": {},
   "outputs": [],
   "source": [
    "# load the list of pairs of genes\n",
    "hs.pairs <- readRDS(system.file(\"exdata\", \"human_cycle_markers.rds\", package=\"scran\"))"
   ]
  },
  {
   "cell_type": "markdown",
   "metadata": {},
   "source": [
    "Before we can proceed with the assignment we face one problem: the list of genes contained in the pairs list is in the standard Ensembl format, whereas we have a more detailed information on the splicing variant. We need to fix such problem. A brutal approach is to just eliminate the genes that give rise to duplicates in the list (45 out of more than 58000, shouldn't be a big deal)."
   ]
  },
  {
   "cell_type": "code",
   "execution_count": null,
   "metadata": {},
   "outputs": [],
   "source": [
    "gene_short_names <- gsub(\"\\\\..*\", \"\", rownames(sce.p2449))\n",
    "non_duplicated <- !duplicated(gene_short_names)\n",
    "mygenes <- rownames(sce.p2449[non_duplicated])\n",
    "\n",
    "# P2449\n",
    "newmat.p2449 <- counts(sce.p2449)[mygenes,]\n",
    "newfdata.p2449 <- rowData(sce.p2449)$gene_symbol[non_duplicated]\n",
    "sce.p2449.new <- SingleCellExperiment(list(counts=newmat.p2449), rowData=newfdata.p2449)\n",
    "rownames(sce.p2449.new) <- gene_short_names[non_duplicated]\n",
    "\n",
    "# P2458\n",
    "newmat.p2458 <- counts(sce.p2458)[mygenes,]\n",
    "newfdata.p2458 <- rowData(sce.p2458)$gene_symbol[non_duplicated]\n",
    "sce.p2458.new <- SingleCellExperiment(list(counts=newmat.p2458), rowData=newfdata.p2458)\n",
    "rownames(sce.p2458.new) <- gene_short_names[non_duplicated]"
   ]
  },
  {
   "cell_type": "markdown",
   "metadata": {},
   "source": [
    "Now we're ready to assign the phases to each cell."
   ]
  },
  {
   "cell_type": "code",
   "execution_count": null,
   "metadata": {},
   "outputs": [],
   "source": [
    "assignments.p2449 <- cyclone(sce.p2449.new, hs.pairs)\n",
    "assignments.p2458 <- cyclone(sce.p2458.new, hs.pairs)"
   ]
  },
  {
   "cell_type": "markdown",
   "metadata": {},
   "source": [
    "Let's see how things look like: how does the expression relate to the cell cycle phase?"
   ]
  },
  {
   "cell_type": "code",
   "execution_count": null,
   "metadata": {},
   "outputs": [],
   "source": [
    "colData(sce)$phase <- c(assignments.p2449$phases, assignments.p2458$phases)\n",
    "jlat <- colData(sce)$label == \"J-Lat+SAHA\""
   ]
  },
  {
   "cell_type": "code",
   "execution_count": null,
   "metadata": {},
   "outputs": [],
   "source": [
    "options(repr.plot.width = 5, repr.plot.height = 4)\n",
    "corrected.hist.plot <- \n",
    "      ggplot(data.frame(expr=assays(sce)$corrected[\"FILIONG01\",jlat],\n",
    "                        phase=colData(sce)$phase[jlat]),\n",
    "             aes(x=phase, y=expr)) + \n",
    "      geom_boxplot() +\n",
    "      xlab(\"Phase\") + ylab('Normalized GFP')\n",
    "original.hist.plot <- \n",
    "      ggplot(data.frame(expr=assays(sce)$original[\"FILIONG01\",jlat],\n",
    "                        phase=colData(sce)$phase[jlat]),\n",
    "             aes(x=phase, y=expr)) + \n",
    "      geom_boxplot() +\n",
    "      xlab(\"Phase\") + ylab('Original GFP')\n",
    "multiplot(corrected.hist.plot, original.hist.plot, cols=2)"
   ]
  }
 ],
 "metadata": {
  "kernelspec": {
   "display_name": "R",
   "language": "R",
   "name": "ir"
  },
  "language_info": {
   "codemirror_mode": "r",
   "file_extension": ".r",
   "mimetype": "text/x-r-source",
   "name": "R",
   "pygments_lexer": "r"
  }
 },
 "nbformat": 4,
 "nbformat_minor": 2
}
