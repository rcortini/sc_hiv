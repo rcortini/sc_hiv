{
 "cells": [
  {
   "cell_type": "markdown",
   "metadata": {},
   "source": [
    "# 2018-11-22 Redefining maximally varying genes\n",
    "So far I used a naïve criterion to define genes that have maximal variation. However, this criterion is not suitable for a serious analysis of the situation, and proves to be particularly bad when we have to judge which genes have good variation patterns *across* groups. The result is that genes that have been selected as candidates for maximal variation in the untreated cells then are stably repressed in the treated group, giving rise to spurious correlation patterns due to outliers. Here, I want to go back and try to get rid of these problems by defining a more robust and sound criterion for telling whether a gene will enter the clustering analysis.\n",
    "\n",
    "## Negative binomial distribution\n",
    "\n",
    "First, let's start by actually assessing the distribution of counts in our data set."
   ]
  },
  {
   "cell_type": "code",
   "execution_count": null,
   "metadata": {},
   "outputs": [],
   "source": [
    "library(Rfast)\n",
    "library(ggplot2)"
   ]
  },
  {
   "cell_type": "code",
   "execution_count": null,
   "metadata": {},
   "outputs": [],
   "source": [
    "# load the data\n",
    "matrices.dir <- \"/home/rcortini/work/CRG/projects/sc_hiv/data/matrices\"\n",
    "merged <- read.table(sprintf('%s/exprMatrix.csv', matrices.dir),\n",
    "                     header = TRUE, row.names = 1,\n",
    "                     sep = \"\\t\", check.names = FALSE)\n",
    "\n",
    "# load sample sheet\n",
    "sampleSheet <- read.table(sprintf('%s/samplesheet.csv', matrices.dir),\n",
    "                          header = TRUE,\n",
    "                          row.names = 1)\n",
    "\n",
    "# remove dead cells\n",
    "sampleSheet <- sampleSheet[sampleSheet$status != \"dead\", ]"
   ]
  },
  {
   "cell_type": "code",
   "execution_count": null,
   "metadata": {},
   "outputs": [],
   "source": [
    "# load gene annotations file\n",
    "gene.annotations <- sprintf(\"%s/gene_annotations.tsv\", matrices.dir)\n",
    "gene.data <- read.delim(gene.annotations, header = TRUE, sep = \"\\t\",\n",
    "                        row.names = 1, stringsAsFactors = FALSE)\n",
    "gene.data <- subset(gene.data, rownames(gene.data) %in% rownames(merged))"
   ]
  },
  {
   "cell_type": "markdown",
   "metadata": {},
   "source": [
    "First let's plot the distribution of read counts."
   ]
  },
  {
   "cell_type": "code",
   "execution_count": null,
   "metadata": {},
   "outputs": [],
   "source": [
    "options(repr.plot.width = 4, repr.plot.height = 4)\n",
    "hist(as.matrix(log(1+merged)), prob = TRUE)"
   ]
  },
  {
   "cell_type": "markdown",
   "metadata": {},
   "source": [
    "Let's look at how different this is from a Poisson distribution."
   ]
  },
  {
   "cell_type": "code",
   "execution_count": null,
   "metadata": {},
   "outputs": [],
   "source": [
    "# group the cell types together as factors\n",
    "groups <- factor(sampleSheet$label, levels = c(\"Jurkat\", \"J-Lat+DMSO\", \"J-Lat+SAHA\"))\n",
    "table(groups)"
   ]
  },
  {
   "cell_type": "code",
   "execution_count": null,
   "metadata": {},
   "outputs": [],
   "source": [
    "# calculate and plot the coverage per gene in the various groups\n",
    "nGenes <- nrow(merged)\n",
    "coverage <- colSums(merged)/nGenes\n",
    "ord <- order(groups)\n",
    "options(repr.plot.width = 10, repr.plot.height = 4)\n",
    "bar.positions <- barplot(coverage[ord], col=groups[ord],\n",
    "                        xaxt='n', ylab=\"Coverage per gene\")"
   ]
  },
  {
   "cell_type": "code",
   "execution_count": null,
   "metadata": {},
   "outputs": [],
   "source": [
    "# simple normalization method\n",
    "counts.norm <- t(t(merged)/coverage)\n",
    "top.genes <- tail(order(rowSums(counts.norm)), 10)\n",
    "expression <- log2(counts.norm[top.genes, ] + 1) # add a pseudocount of 1"
   ]
  },
  {
   "cell_type": "code",
   "execution_count": null,
   "metadata": {},
   "outputs": [],
   "source": [
    "merged.mean <- colMeans(merged)\n",
    "excess.var <- colVars(as.matrix(merged)) - merged.mean\n",
    "excess.var[excess.var < 0] <- NA\n",
    "overdispersion <- excess.var / merged.mean^2\n",
    "\n",
    "# plot\n",
    "options(repr.plot.width = 4, repr.plot.height = 4)\n",
    "hist(log2(overdispersion),main=\"Variance of read counts is higher than Poisson\")"
   ]
  },
  {
   "cell_type": "markdown",
   "metadata": {},
   "source": [
    "This histogram shows that the overdispersion is positive for most samples, so that the negative binomial is indeed a more adequate representation of the data set.\n",
    "\n",
    "## Differential expression analysis\n",
    "\n",
    "Now we're ready to do the differential expression analysis."
   ]
  },
  {
   "cell_type": "code",
   "execution_count": null,
   "metadata": {},
   "outputs": [],
   "source": [
    "library(DESeq)"
   ]
  },
  {
   "cell_type": "code",
   "execution_count": null,
   "metadata": {},
   "outputs": [],
   "source": [
    "# we need to prepare the data because the DESeq package does not accept non-integer\n",
    "# values of the counts\n",
    "merged.int <- as.data.frame(lapply(merged, as.integer))\n",
    "rownames(merged.int) <- rownames(merged)"
   ]
  },
  {
   "cell_type": "code",
   "execution_count": null,
   "metadata": {},
   "outputs": [],
   "source": [
    "# this is the basic data structure that DESeq understands\n",
    "cds <- newCountDataSet(merged.int, groups)"
   ]
  },
  {
   "cell_type": "code",
   "execution_count": null,
   "metadata": {},
   "outputs": [],
   "source": [
    "# here we estimate the size factors of the libraries (cells), which are linearly\n",
    "# correlated to the coverage of the libraries but are estimated using a different,\n",
    "# more robust, method\n",
    "cds <- estimateSizeFactors(cds)"
   ]
  },
  {
   "cell_type": "code",
   "execution_count": null,
   "metadata": {},
   "outputs": [],
   "source": [
    "plot(sizeFactors(cds),colSums(merged.int)/nGenes)"
   ]
  },
  {
   "cell_type": "markdown",
   "metadata": {},
   "source": [
    "We can see here that there is a good correlation between the size factors and the coverages. It is also very evident that there are two groups in this chart, corresponding clearly to the two batches.\n",
    "\n",
    "The next step is to estimate the dispersions from the data set that we have."
   ]
  },
  {
   "cell_type": "code",
   "execution_count": null,
   "metadata": {},
   "outputs": [],
   "source": [
    "# the first method that we will use relies only on the cell-wise information\n",
    "cds <- estimateDispersions(cds, sharingMode=\"gene-est-only\")"
   ]
  },
  {
   "cell_type": "code",
   "execution_count": null,
   "metadata": {},
   "outputs": [],
   "source": [
    "# the second method uses fitting across conditions\n",
    "cds.pooled <- estimateDispersions(cds, method=\"per-condition\", fitType=\"local\")"
   ]
  },
  {
   "cell_type": "markdown",
   "metadata": {},
   "source": [
    "Let's see how the dispersions relate to the normalied counts."
   ]
  },
  {
   "cell_type": "code",
   "execution_count": null,
   "metadata": {},
   "outputs": [],
   "source": [
    "options(repr.plot.width = 3, repr.plot.height = 3)\n",
    "plotDispEsts(cds.pooled,name=\"Jurkat\")"
   ]
  },
  {
   "cell_type": "code",
   "execution_count": null,
   "metadata": {},
   "outputs": [],
   "source": [
    "plotDispEsts(cds.pooled,name=\"J-Lat+DMSO\")"
   ]
  },
  {
   "cell_type": "code",
   "execution_count": null,
   "metadata": {},
   "outputs": [],
   "source": [
    "plotDispEsts(cds.pooled,name=\"J-Lat+SAHA\") "
   ]
  },
  {
   "cell_type": "code",
   "execution_count": null,
   "metadata": {},
   "outputs": [],
   "source": [
    "# here we do the differential expression analysis for the two groups of cells\n",
    "de.test <- nbinomTest(cds, \"J-Lat+DMSO\", \"J-Lat+SAHA\")\n",
    "de.test.pooled <- nbinomTest(cds.pooled, \"J-Lat+DMSO\", \"J-Lat+SAHA\")"
   ]
  },
  {
   "cell_type": "code",
   "execution_count": null,
   "metadata": {},
   "outputs": [],
   "source": [
    "# this function allows to filter and sort the results of the differential\n",
    "# expression analysis\n",
    "find.significant.genes <- function(de.result, alpha = 0.05) {\n",
    "\n",
    "  # filter out significant genes based on FDR adjusted p-values\n",
    "  filtered <- de.result[(de.result$padj < alpha) &\n",
    "                        !is.infinite(de.result$log2FoldChange) & \n",
    "                        !is.nan(de.result$log2FoldChange),]\n",
    "\n",
    "  # order by p-value, and print out only the gene name, mean count, and log2 fold change\n",
    "  sorted <- filtered[order(filtered$pval),]#,c(1,2,6)]\n",
    "}"
   ]
  },
  {
   "cell_type": "code",
   "execution_count": null,
   "metadata": {},
   "outputs": [],
   "source": [
    "# perform the filtering and sorting here\n",
    "de.genes <- find.significant.genes(de.test)\n",
    "de.genes.pooled <- find.significant.genes(de.test.pooled)"
   ]
  },
  {
   "cell_type": "code",
   "execution_count": null,
   "metadata": {},
   "outputs": [],
   "source": [
    "# now attach the information on the genes to the data frames that we obtained\n",
    "de.genes$symbol <- gene.data[de.genes$id, ]\n",
    "de.genes.pooled$symbol <- gene.data[de.genes.pooled$id, ]"
   ]
  },
  {
   "cell_type": "code",
   "execution_count": null,
   "metadata": {},
   "outputs": [],
   "source": [
    "de.genes"
   ]
  },
  {
   "cell_type": "code",
   "execution_count": null,
   "metadata": {},
   "outputs": [],
   "source": [
    "# now create a data frame with the genes in this selection and the HIV, and\n",
    "# let's see what happens\n",
    "X <- as.data.frame(t(merged[c(de.genes$id, \"FILIONG01\"), ]))"
   ]
  },
  {
   "cell_type": "code",
   "execution_count": null,
   "metadata": {},
   "outputs": [],
   "source": [
    "# select the top candidates\n",
    "top.genes <- head(de.genes,n=15)$id\n",
    "top.genes.pooled <- head(de.genes.pooled,n=15)$id"
   ]
  },
  {
   "cell_type": "code",
   "execution_count": null,
   "metadata": {},
   "outputs": [],
   "source": [
    "# let's do a simple scatter plot of some of the most significant genes versus\n",
    "# the expression of the GFP reporter\n",
    "i <- 2\n",
    "ggplot(X, aes_string(top.genes.pooled[i], \"FILIONG01\")) + geom_point() + \n",
    "labs(x = gene.data[top.genes.pooled[i], \"gene_symbol\"])"
   ]
  },
  {
   "cell_type": "markdown",
   "metadata": {},
   "source": [
    "## Differential expression across responders versus non-responders\n",
    "So now that we have an idea of how to perform the analysis, and the results of the analysis actually make sense, let's now go back to the idea of trying to figure out whether there are any signatures for expression in responders versus non-responders."
   ]
  },
  {
   "cell_type": "code",
   "execution_count": null,
   "metadata": {},
   "outputs": [],
   "source": [
    "# let's select the treated cells\n",
    "treated.cells <- sampleSheet[colnames(merged),\"status\"]==\"treated\"\n",
    "treated <- merged[, treated.cells]\n",
    "ntreated <- ncol(treated)\n",
    "\n",
    "# define the responders\n",
    "responder.cells <- which(treated[\"FILIONG01\", ] > 0)\n",
    "nonresponder.cells <- which(treated[\"FILIONG01\", ] == 0)"
   ]
  },
  {
   "cell_type": "code",
   "execution_count": null,
   "metadata": {},
   "outputs": [],
   "source": [
    "# prepare the \"factor\" of responders\n",
    "responders <- factor(rep(\"responder\", ntreated), levels = c(\"responder\", \"nonresponder\"))\n",
    "responders[nonresponder.cells] <- \"nonresponder\""
   ]
  },
  {
   "cell_type": "code",
   "execution_count": null,
   "metadata": {},
   "outputs": [],
   "source": [
    "table(responders)"
   ]
  },
  {
   "cell_type": "code",
   "execution_count": null,
   "metadata": {},
   "outputs": [],
   "source": [
    "# prepare the data for DESeq\n",
    "treated.int <- as.data.frame(lapply(treated, as.integer))\n",
    "rownames(treated.int) <- rownames(treated)"
   ]
  },
  {
   "cell_type": "code",
   "execution_count": null,
   "metadata": {},
   "outputs": [],
   "source": [
    "# define a new object with only the treated cells\n",
    "cds.treated <- newCountDataSet(treated.int, responders)"
   ]
  },
  {
   "cell_type": "code",
   "execution_count": null,
   "metadata": {},
   "outputs": [],
   "source": [
    "# estimate size factors\n",
    "cds.treated <- estimateSizeFactors(cds.treated)\n",
    "\n",
    "# estimate the dispersions\n",
    "cds.treated <- estimateDispersions(cds.treated, sharingMode=\"gene-est-only\")\n",
    "cds.treated.pooled <- estimateDispersions(cds.treated, method=\"per-condition\", fitType=\"local\")"
   ]
  },
  {
   "cell_type": "code",
   "execution_count": null,
   "metadata": {},
   "outputs": [],
   "source": [
    "# do the differential expression analysis\n",
    "de.responders <- nbinomTest(cds.treated, \"responder\", \"nonresponder\")\n",
    "de.responders.pooled <- nbinomTest(cds.treated.pooled, \"responder\", \"nonresponder\")"
   ]
  },
  {
   "cell_type": "code",
   "execution_count": null,
   "metadata": {},
   "outputs": [],
   "source": [
    "# perform the filtering and sorting here\n",
    "de.responder.genes <- find.significant.genes(de.responders)\n",
    "de.responder.genes.pooled <- find.significant.genes(de.responders.pooled)"
   ]
  },
  {
   "cell_type": "markdown",
   "metadata": {},
   "source": [
    "Let's now have a look at the results."
   ]
  },
  {
   "cell_type": "code",
   "execution_count": null,
   "metadata": {},
   "outputs": [],
   "source": [
    "de.responder.genes"
   ]
  },
  {
   "cell_type": "code",
   "execution_count": null,
   "metadata": {},
   "outputs": [],
   "source": [
    "# let's do the scatter plot\n",
    "X <- data.frame(t(treated[\"ENSG00000162927.13\",]), t(treated[\"FILIONG01\", ]))\n",
    "ggplot(X, aes_string(\"ENSG00000162927.13\", \"FILIONG01\")) + geom_point()"
   ]
  },
  {
   "cell_type": "markdown",
   "metadata": {},
   "source": [
    "So the result here is that there is only one gene that seems to be differentially expressed in the group of responders versus non-responders. It is \"PUS10\", an enzyme that catalyzes a reaction involving pseudouridinylation of RNA."
   ]
  }
 ],
 "metadata": {
  "kernelspec": {
   "display_name": "R",
   "language": "R",
   "name": "ir"
  },
  "language_info": {
   "codemirror_mode": "r",
   "file_extension": ".r",
   "mimetype": "text/x-r-source",
   "name": "R",
   "pygments_lexer": "r"
  }
 },
 "nbformat": 4,
 "nbformat_minor": 2
}
