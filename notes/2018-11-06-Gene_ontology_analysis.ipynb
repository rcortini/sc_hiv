{
 "cells": [
  {
   "cell_type": "markdown",
   "metadata": {},
   "source": [
    "# 2018-11-06 Gene ontology analysis\n",
    "Here, I want to try to do gene ontology analysis based on the several `R` packages that are available. The `GOenrichmentAnalysis` function from `WGCNA` seems to be outdated. When using it it outputs a warning, saying to use another function, but the website it points to does not exist. I think the best would be to just manually create the objects containing the lists of genes that we want to analyse, and perform the analysis with up-to-date analysis tools.\n",
    "\n",
    "## topGO tutorial\n",
    "Here I want to explore the `topGO` package to perform gene ontology enrichment analysis. I'm following here the tutorial on the package's website."
   ]
  },
  {
   "cell_type": "code",
   "execution_count": null,
   "metadata": {},
   "outputs": [],
   "source": [
    "library(topGO)\n",
    "library(ALL)\n",
    "data(ALL)\n",
    "data(geneList)"
   ]
  },
  {
   "cell_type": "code",
   "execution_count": null,
   "metadata": {},
   "outputs": [],
   "source": [
    "affyLib <- paste(annotation(ALL), \"db\", sep = \".\")\n",
    "library(package = affyLib, character.only = TRUE)"
   ]
  },
  {
   "cell_type": "code",
   "execution_count": null,
   "metadata": {},
   "outputs": [],
   "source": [
    "sum(topDiffGenes(geneList))"
   ]
  },
  {
   "cell_type": "code",
   "execution_count": null,
   "metadata": {},
   "outputs": [],
   "source": [
    "sampleGOdata <- new(\"topGOdata\",\n",
    "                    description = \"Simple session\",\n",
    "                    ontology = \"BP\",\n",
    "                    allGenes = geneList,\n",
    "                    geneSel = topDiffGenes,\n",
    "                    nodeSize = 10,\n",
    "                    annot = annFUN.db,\n",
    "                    affyLib = affyLib)"
   ]
  },
  {
   "cell_type": "code",
   "execution_count": null,
   "metadata": {},
   "outputs": [],
   "source": [
    "resultFisher <- runTest(sampleGOdata, algorithm = \"classic\", statistic = \"fisher\")"
   ]
  },
  {
   "cell_type": "code",
   "execution_count": null,
   "metadata": {},
   "outputs": [],
   "source": [
    "resultFisher"
   ]
  },
  {
   "cell_type": "code",
   "execution_count": null,
   "metadata": {},
   "outputs": [],
   "source": [
    "resultKS <- runTest(sampleGOdata, algorithm = \"classic\", statistic = \"ks\")\n",
    "resultKS.elim <- runTest(sampleGOdata, algorithm = \"elim\", statistic = \"ks\")"
   ]
  },
  {
   "cell_type": "code",
   "execution_count": null,
   "metadata": {},
   "outputs": [],
   "source": [
    "allRes <- GenTable(sampleGOdata, \n",
    "                   classicFisher = resultFisher,\n",
    "                   classicKS = resultKS, elimKS = resultKS.elim,\n",
    "                   orderBy = \"elimKS\", ranksOf = \"classicFisher\", topNodes = 10)"
   ]
  },
  {
   "cell_type": "code",
   "execution_count": null,
   "metadata": {},
   "outputs": [],
   "source": [
    "allRes"
   ]
  },
  {
   "cell_type": "code",
   "execution_count": null,
   "metadata": {},
   "outputs": [],
   "source": [
    "?termStat"
   ]
  },
  {
   "cell_type": "code",
   "execution_count": null,
   "metadata": {},
   "outputs": [],
   "source": [
    "pValue.classic <- score(resultKS)\n",
    "pValue.elim <- score(resultKS.elim)[names(pValue.classic)]\n",
    "gstat <- termStat(sampleGOdata, names(pValue.classic))\n",
    "gSize <- gstat$Annotated / max(gstat$Annotated) * 4\n",
    "\n",
    "#Defined colMap, ref. https://github.com/Bioconductor-mirror/topGO/blob/master/vignettes/topGO.Rnw\n",
    "colMap <- function(x) {\n",
    "  .col <- rep(rev(heat.colors(length(unique(x)))), time = table(x))\n",
    "  return(.col[match(1:length(x), order(x))])\n",
    "}\n",
    "\n",
    "gCol <- colMap(gstat$Significant)\n",
    "plot(pValue.classic, pValue.elim, xlab = \"p-value classic\", ylab = \"p-value elim\",\n",
    "pch = 19, cex = gSize, col = gCol)"
   ]
  },
  {
   "cell_type": "code",
   "execution_count": null,
   "metadata": {},
   "outputs": [],
   "source": [
    "sel.go <- names(pValue.classic)[pValue.elim < pValue.classic]\n",
    "cbind(termStat(sampleGOdata, sel.go),\n",
    "      elim = pValue.elim[sel.go],\n",
    "      classic = pValue.classic[sel.go])"
   ]
  },
  {
   "cell_type": "code",
   "execution_count": null,
   "metadata": {},
   "outputs": [],
   "source": [
    "showSigOfNodes(sampleGOdata, score(resultKS.elim), firstSigNodes = 5, useInfo = ' all ' )"
   ]
  },
  {
   "cell_type": "markdown",
   "metadata": {},
   "source": [
    "## Scratch code"
   ]
  },
  {
   "cell_type": "code",
   "execution_count": null,
   "metadata": {},
   "outputs": [],
   "source": [
    "# load the biomaRt library\n",
    "library(biomaRt)"
   ]
  },
  {
   "cell_type": "code",
   "execution_count": null,
   "metadata": {},
   "outputs": [],
   "source": [
    "# load the data corresponding to human genome in the ENSEMBL Mart\n",
    "mart <- useMart(biomart = \"ensembl\", dataset = \"hsapiens_gene_ensembl\")"
   ]
  },
  {
   "cell_type": "markdown",
   "metadata": {},
   "source": [
    "Let's now write a piece of code that allows to select a module of interest, extract the gene names, and extract the Gene Ontology IDs."
   ]
  },
  {
   "cell_type": "code",
   "execution_count": null,
   "metadata": {},
   "outputs": [],
   "source": [
    "# a function to extract the names of the genes corresponding to a certain module\n",
    "# of a certain sample name\n",
    "GenesOfColor <- function(sample.name, module.color) {\n",
    "    geneColors <- labels2colors(nets[[sample.name]]$colors)\n",
    "    darkGreenGenes.idx <- which(geneColors == module.color)\n",
    "    darkGreenGenes <- colnames(datExpr[[sample.name]][, darkGreenGenes.idx])\n",
    "}"
   ]
  },
  {
   "cell_type": "code",
   "execution_count": null,
   "metadata": {},
   "outputs": [],
   "source": [
    "# get the names of the genes of interest\n",
    "darkGreenGenes <- GenesOfColor(\"P2449\", \"darkgreen\")"
   ]
  },
  {
   "cell_type": "code",
   "execution_count": null,
   "metadata": {},
   "outputs": [],
   "source": [
    "# now let's interrogate the mart and find out something about the genes that we are\n",
    "# interested in\n",
    "go.ids <- getBM(attributes = c(\"ensembl_gene_id_version\", \"go_id\"),\n",
    "                   filters = \"ensembl_gene_id_version\",\n",
    "                   values = darkGreenGenes,\n",
    "                   mart = mart)$go_id"
   ]
  },
  {
   "cell_type": "code",
   "execution_count": null,
   "metadata": {},
   "outputs": [],
   "source": [
    "library(GO.db)"
   ]
  },
  {
   "cell_type": "code",
   "execution_count": null,
   "metadata": {},
   "outputs": [],
   "source": [
    "goterms <- Term(GOTERM)"
   ]
  },
  {
   "cell_type": "code",
   "execution_count": null,
   "metadata": {},
   "outputs": [],
   "source": [
    "goterms[go.ids]"
   ]
  }
 ],
 "metadata": {
  "kernelspec": {
   "display_name": "R",
   "language": "R",
   "name": "ir"
  },
  "language_info": {
   "codemirror_mode": "r",
   "file_extension": ".r",
   "mimetype": "text/x-r-source",
   "name": "R",
   "pygments_lexer": "r"
  }
 },
 "nbformat": 4,
 "nbformat_minor": 2
}
