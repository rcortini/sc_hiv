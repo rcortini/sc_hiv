{
 "cells": [
  {
   "cell_type": "markdown",
   "metadata": {},
   "source": [
    "# 2018-10-26 Validating gene networks\n",
    "\n",
    "In the previous chapter I used the expression matrices to obtain gene expression networks, in the form of \"modules\" of genes that express themselves in a coherent way. The trouble was that I didn't do validation of those modules, and this left me wondering whether doing any modelling based on those modules would make any sense.\n",
    "\n",
    "Here, I want to follow the `WGCNA` tutorial to understand whether I was doing stuff that was actually meaningful. If so, I will proceed with doing modelling with those modules. If not, I will go back and try to tweak the parameters of the clustering algorithms to try and obtain something meaningful."
   ]
  },
  {
   "cell_type": "code",
   "execution_count": null,
   "metadata": {},
   "outputs": [],
   "source": [
    "# basic data\n",
    "matrices.dir <- \"/home/rcortini/work/CRG/projects/sc_hiv/data/matrices\"\n",
    "sample.names <- c(\"P2449\", \"P2458\")\n",
    "\n",
    "# init data structures that will hold our data\n",
    "exprMatrices <- list()\n",
    "sampleSheets <- list()\n",
    "\n",
    "# load data\n",
    "for (sample.name in sample.names) {\n",
    "    \n",
    "    # file names\n",
    "    matrix.fname <- sprintf(\"%s/%s.tsv.gz\", matrices.dir, sample.name)\n",
    "    sampleSheet.fname <- sprintf(\"%s/monocle/%s.pd.tsv\", matrices.dir, sample.name)\n",
    "\n",
    "    # parse data\n",
    "    exprMatrices[[sample.name]] <- read.table(matrix.fname, header = TRUE, row.names = 1,\n",
    "                                sep = \"\\t\", check.names = FALSE)\n",
    "    sampleSheets[[sample.name]] <- read.delim(sampleSheet.fname, header = TRUE, row.names = 1)\n",
    "}\n",
    "\n",
    "# load gene annotations file\n",
    "gene.annotations <- sprintf(\"%s/gene_annotations.tsv\", matrices.dir)\n",
    "gene.data <- read.delim(gene.annotations, header = TRUE, row.names = 1, sep = \"\\t\")"
   ]
  },
  {
   "cell_type": "code",
   "execution_count": null,
   "metadata": {},
   "outputs": [],
   "source": [
    "source(\"/home/rcortini/work/CRG/projects/sc_hiv/scripts/sc_hiv.R\")"
   ]
  },
  {
   "cell_type": "code",
   "execution_count": null,
   "metadata": {},
   "outputs": [],
   "source": [
    "sample.name <- \"P2449\"\n",
    "exprMatrix <- exprMatrices[[sample.name]]\n",
    "sampleSheet <- sampleSheets[[sample.name]]"
   ]
  },
  {
   "cell_type": "code",
   "execution_count": null,
   "metadata": {},
   "outputs": [],
   "source": [
    "datExpr <- PrepareDataForClustering(exprMatrix, sampleSheet,\n",
    "                                    cut = 14000,\n",
    "                                    ngenes = 5000)"
   ]
  },
  {
   "cell_type": "code",
   "execution_count": null,
   "metadata": {},
   "outputs": [],
   "source": [
    "suppressMessages(PrepareClustering(datExpr))"
   ]
  },
  {
   "cell_type": "code",
   "execution_count": null,
   "metadata": {},
   "outputs": [],
   "source": [
    "net <- blockwiseModules(datExpr,\n",
    "                        power             = 5,\n",
    "                        TOMType           = \"unsigned\", \n",
    "                        inModuleSize      = 30,\n",
    "                        reassignThreshold = 0,\n",
    "                        mergeCutHeight    = 0.25,\n",
    "                        numericLabels     = TRUE,\n",
    "                        pamRespectsDendro = FALSE,\n",
    "                        verbose           = 0)"
   ]
  },
  {
   "cell_type": "code",
   "execution_count": null,
   "metadata": {},
   "outputs": [],
   "source": [
    "VisualizeClustering(net)"
   ]
  },
  {
   "cell_type": "code",
   "execution_count": null,
   "metadata": {},
   "outputs": [],
   "source": [
    "# get the module labels, transform them into colors\n",
    "moduleLabels <- net$colors\n",
    "moduleColors <- labels2colors(net$colors)\n",
    "\n",
    "# get the names of the genes we selected from the original ones\n",
    "myGenes <- colnames(datExpr)\n"
   ]
  },
  {
   "cell_type": "code",
   "execution_count": null,
   "metadata": {},
   "outputs": [],
   "source": [
    "myExprMatrix <- exprMatrices[[sample.name]]\n",
    "\n",
    "# select only the genes that we selected before\n",
    "myExprMatrix <- myExprMatrix[myGenes, ]\n",
    "\n",
    "# select only J-Lat treated cells\n",
    "myExprMatrix <- myExprMatrix[, sampleSheets[[sample.name]]$label == \"J-Lat+SAHA\"]\n",
    "\n",
    "# select only alive cells\n",
    "myExprMatrix <- myExprMatrix[, colSums(myExprMatrix) > 100000]\n",
    "\n",
    "# finally, transpose to be interfaced to WGCNA\n",
    "myExprMatrix <- t(myExprMatrix)"
   ]
  },
  {
   "cell_type": "code",
   "execution_count": null,
   "metadata": {},
   "outputs": [],
   "source": [
    "# get the module eigengenes of the *new* data set: that is, we assign the\n",
    "# expression profiles of the treated data set based on the gene modules of the\n",
    "# untreated cells\n",
    "MEs <- moduleEigengenes(myExprMatrix, moduleColors)$eigengenes\n",
    "MEs <- orderMEs(MEs)"
   ]
  },
  {
   "cell_type": "code",
   "execution_count": null,
   "metadata": {},
   "outputs": [],
   "source": [
    "# get the names of the cells that we have selected, and extract the HIV profile\n",
    "# of those cells\n",
    "myCells <- rownames(myExprMatrix)\n",
    "hiv <- t(exprMatrices[[sample.name]][\"FILIONG01\", myCells])"
   ]
  },
  {
   "cell_type": "code",
   "execution_count": null,
   "metadata": {},
   "outputs": [],
   "source": [
    "# parameters of our data set\n",
    "nGenes <- ncol(myExprMatrix)\n",
    "nSamples <- nrow(myExprMatrix)"
   ]
  },
  {
   "cell_type": "code",
   "execution_count": null,
   "metadata": {},
   "outputs": [],
   "source": [
    "# correlate the module eigengenes to the HIV expression patterns, and \n",
    "# calculate the corresponding p value\n",
    "moduleHivCor <- cor(MEs, hiv, use = \"p\")\n",
    "moduleHivPvalue <- corPvalueStudent(moduleHivCor, nSamples)"
   ]
  },
  {
   "cell_type": "code",
   "execution_count": null,
   "metadata": {},
   "outputs": [],
   "source": [
    "# look at the module statistics together: correlation and p-value\n",
    "moduleStats <- data.frame(correlation = moduleHivCor, pvalue = moduleHivPvalue)\n",
    "names(moduleStats) <- c(\"correlation\", \"p\")\n",
    "moduleStats"
   ]
  },
  {
   "cell_type": "markdown",
   "metadata": {},
   "source": [
    "By looking at this data set, we can see that the **darkgreen** and the **darkturquoise** module eigengenes have a significant correlation to the HIV expression pattern in this data set. We now try to identify what are the relevant genes in those modules."
   ]
  },
  {
   "cell_type": "code",
   "execution_count": null,
   "metadata": {},
   "outputs": [],
   "source": [
    "modNames <- substring(names(MEs), 3)\n",
    "\n",
    "# evaluate gene module membership\n",
    "geneModuleMembership <- as.data.frame(cor(myExprMatrix, MEs, use = \"p\"))\n",
    "MMPvalue <- as.data.frame(corPvalueStudent(as.matrix(geneModuleMembership), nSamples))\n",
    "names(geneModuleMembership) <- paste(\"MM\", modNames, sep=\"\")\n",
    "names(MMPvalue) <- paste(\"p.MM\", modNames, sep=\"\")\n",
    "\n",
    "# evaluate gene trait significance\n",
    "geneTraitSignificance <- as.data.frame(cor(myExprMatrix, hiv, use = \"p\"));\n",
    "GSPvalue <- as.data.frame(corPvalueStudent(as.matrix(geneTraitSignificance), nSamples));\n",
    "names(geneTraitSignificance) <- paste(\"GS.\", names(hiv), sep=\"\");\n",
    "names(GSPvalue) <- paste(\"p.GS.\", names(hiv), sep=\"\");"
   ]
  },
  {
   "cell_type": "code",
   "execution_count": null,
   "metadata": {},
   "outputs": [],
   "source": [
    "# we encapsulate the code do do a plot of Module Membership (MM) \n",
    "# versus Gene Significance (for HIV, GS)\n",
    "ShowMMvsGS <- function (module) {\n",
    "    column <- match(module, modNames);\n",
    "    moduleGenes <- moduleColors==module;\n",
    "\n",
    "    options(repr.plot.width = 4, repr.plot.height = 4)\n",
    "    par(mfrow = c(1,1));\n",
    "    verboseScatterplot(abs(geneModuleMembership[moduleGenes, column]),\n",
    "                       abs(geneTraitSignificance[moduleGenes, 1]),\n",
    "                       xlab = paste(\"Module Membership in\", module, \"module\"),\n",
    "                       ylab = \"Gene significance for HIV\",\n",
    "                       main = paste(\"Module membership vs. gene significance\\n\"),\n",
    "                       cex.main = 1.0,\n",
    "                       cex.lab = 1.0,\n",
    "                       cex.axis = 0.8,\n",
    "                       col = module)\n",
    "}\n",
    "\n",
    "# show the plots for the two interesting modules we identified\n",
    "ShowMMvsGS(\"darkgreen\")\n",
    "ShowMMvsGS(\"darkturquoise\")"
   ]
  },
  {
   "cell_type": "markdown",
   "metadata": {},
   "source": [
    "## Gene Ontology enrichment analysis\n",
    "\n",
    "The next step is to do Gene Ontology enrichment analysis. There is a function provided by the `WGCNA` package which is designed to do this in one go. However, the function takes as input the Entrez gene id, which I have to retrieve. I will use the `biomaRt` package to do this."
   ]
  },
  {
   "cell_type": "code",
   "execution_count": null,
   "metadata": {},
   "outputs": [],
   "source": [
    "# first, remove the dots\n",
    "myGenes.ensembleIds <- gsub(\"\\\\..*\", \"\", myGenes)"
   ]
  },
  {
   "cell_type": "code",
   "execution_count": null,
   "metadata": {},
   "outputs": [],
   "source": [
    "# load the biomaRt library\n",
    "library(biomaRt)"
   ]
  },
  {
   "cell_type": "code",
   "execution_count": null,
   "metadata": {},
   "outputs": [],
   "source": [
    "# load the data corresponding to human genome\n",
    "mart <- useMart(biomart = \"ensembl\", dataset = \"hsapiens_gene_ensembl\")"
   ]
  },
  {
   "cell_type": "code",
   "execution_count": null,
   "metadata": {},
   "outputs": [],
   "source": [
    "# get the entrez gene ids\n",
    "myGenes.entrez <- getBM(attributes = c(\"ensembl_gene_id_version\", \"entrezgene\"),\n",
    "                  filters = \"ensembl_gene_id_version\",\n",
    "                  values = myGenes,\n",
    "                  mart = mart)"
   ]
  },
  {
   "cell_type": "code",
   "execution_count": null,
   "metadata": {},
   "outputs": [],
   "source": [
    "# some of the genes in the corresponding list are duplicated, so we'll have to remove\n",
    "# them\n",
    "duplicated.genes <- duplicated(myGenes.entrez$ensembl_gene_id_version)\n",
    "good.genes <- myGenes.entrez[!duplicated.genes, ]$ensembl_gene_id_version\n",
    "good.gene.idx <- match(good.genes, colnames(myExprMatrix))\n",
    "good.moduleColors <- moduleColors[good.gene.idx]\n",
    "good.entrez <- myGenes.entrez$entrezgene[good.gene.idx]"
   ]
  },
  {
   "cell_type": "code",
   "execution_count": null,
   "metadata": {},
   "outputs": [],
   "source": [
    "# do the GO enrichment analysis\n",
    "GOenr <- GOenrichmentAnalysis(good.moduleColors, good.entrez, organism = \"human\", nBestP = 10);"
   ]
  },
  {
   "cell_type": "code",
   "execution_count": null,
   "metadata": {},
   "outputs": [],
   "source": [
    "# extract the \"most interesting element\" of the return object\n",
    "tab <- GOenr$bestPTerms[[4]]$enrichment"
   ]
  },
  {
   "cell_type": "code",
   "execution_count": null,
   "metadata": {},
   "outputs": [],
   "source": [
    "# write the information on an output file\n",
    "write.table(tab, \n",
    "            file = sprintf(\"%s/G0EnrichmentAnalysis-%s.csv\", matrices.dir, sample.name),\n",
    "            sep = \",\",\n",
    "            quote = TRUE,\n",
    "            row.names = FALSE)"
   ]
  }
 ],
 "metadata": {
  "kernelspec": {
   "display_name": "R",
   "language": "R",
   "name": "ir"
  },
  "language_info": {
   "codemirror_mode": "r",
   "file_extension": ".r",
   "mimetype": "text/x-r-source",
   "name": "R",
   "pygments_lexer": "r"
  }
 },
 "nbformat": 4,
 "nbformat_minor": 2
}
