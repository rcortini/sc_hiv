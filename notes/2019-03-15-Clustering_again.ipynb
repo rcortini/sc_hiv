{
 "cells": [
  {
   "cell_type": "code",
   "execution_count": null,
   "metadata": {},
   "outputs": [],
   "source": [
    "# preliminaries\n",
    "\n",
    "# load the expression matrix\n",
    "data.dir <- \"/home/rcortini/work/CRG/projects/sc_hiv/data\"\n",
    "matrix.fname <- sprintf('%s/matrices/exprMatrix.tsv', data.dir)\n",
    "exprMatrix <- read.table(matrix.fname, header = TRUE, row.names = 1,\n",
    "                                       sep = \"\\t\", check.names = FALSE)\n",
    "\n",
    "# load the sample sheet\n",
    "sample.sheet.fname <- sprintf(\"%s/metadata/sampleSheet.tsv\", data.dir)\n",
    "sampleSheet <- read.delim(sample.sheet.fname, header = TRUE, row.names = 1)\n",
    "\n",
    "# load gene annotations file\n",
    "gene.annotations <- sprintf(\"%s/matrices/gene_annotations.tsv\", data.dir)\n",
    "gene.data <- read.delim(gene.annotations, header = TRUE, sep = \"\\t\",\n",
    "                        row.names = 1, stringsAsFactors = FALSE)\n",
    "gene.data <- subset(gene.data, rownames(gene.data) %in% rownames(exprMatrix))\n",
    "\n",
    "# remove genes that have no expression\n",
    "norm.exprMatrix <- exprMatrix[rowSums(exprMatrix)>1, ]\n",
    "\n",
    "# normalize by row sum\n",
    "total <- colSums(norm.exprMatrix)\n",
    "norm.exprMatrix <- t(norm.exprMatrix)\n",
    "norm.exprMatrix <- norm.exprMatrix / rowSums(norm.exprMatrix)\n",
    "norm.exprMatrix <- t(norm.exprMatrix)\n",
    "\n",
    "# do the PCA\n",
    "exprMatrix.pca <- prcomp(t(norm.exprMatrix), scale = TRUE)\n",
    "pca <- as.data.frame(exprMatrix.pca$x)\n",
    "\n",
    "# filter out the dead cells from the sample sheet and from the matrix\n",
    "alive.cells <- rownames(pca)[pca$PC1 < 0]\n",
    "exprMatrix <- exprMatrix[, alive.cells]\n",
    "sampleSheet <- subset(sampleSheet, rownames(sampleSheet) %in% alive.cells)"
   ]
  },
  {
   "cell_type": "code",
   "execution_count": null,
   "metadata": {},
   "outputs": [],
   "source": [
    "library(scatterpie)"
   ]
  },
  {
   "cell_type": "markdown",
   "metadata": {},
   "source": [
    "# 2019-03-15 Clustering again\n",
    "After the miserable failure of the differential expression analysis approach, we return to the question of whether we can extract some useful information from the data set, by doing clustering of the gene expression patterns.\n",
    "\n",
    "There are many, many, many, packages out there which allow you to do clustering.\n",
    "\n",
    "Here, I'll try to use some of the packages and find out what they (don't) tell us.\n",
    "\n",
    "## CountClust\n",
    "\n",
    "github.com/kkdey/CountClust\n",
    "\n",
    "Based on Grade of Membership Models.\n",
    "\n",
    "### Reproducing results of the tutorial"
   ]
  },
  {
   "cell_type": "code",
   "execution_count": null,
   "metadata": {},
   "outputs": [],
   "source": [
    "library(CountClust)"
   ]
  },
  {
   "cell_type": "code",
   "execution_count": null,
   "metadata": {},
   "outputs": [],
   "source": [
    "library(singleCellRNASeqMouseDeng2014)\n",
    "deng.counts <- exprs(Deng2014MouseESC)\n",
    "deng.meta_data <- pData(Deng2014MouseESC)\n",
    "deng.gene_names <- rownames(deng.counts)"
   ]
  },
  {
   "cell_type": "code",
   "execution_count": null,
   "metadata": {},
   "outputs": [],
   "source": [
    "MouseDeng2014.FitGoM.results <- FitGoM(t(deng.counts),K=3,path_rda=\"MouseDeng2014.FitGoM.rda\")"
   ]
  },
  {
   "cell_type": "code",
   "execution_count": null,
   "metadata": {},
   "outputs": [],
   "source": [
    "data(\"MouseDeng2014.FitGoM\")\n",
    "names(MouseDeng2014.FitGoM)\n",
    "omega <- MouseDeng2014.FitGoM$clust_6$omega\n",
    "\n",
    "annotation <- data.frame(\n",
    "  sample_id = paste0(\"X\", c(1:NROW(omega))),\n",
    "  tissue_label = factor(rownames(omega),\n",
    "                        levels = rev( c(\"zy\", \"early2cell\",\n",
    "                                        \"mid2cell\", \"late2cell\",\n",
    "                                        \"4cell\", \"8cell\", \"16cell\",\n",
    "                                        \"earlyblast\",\"midblast\",\n",
    "                                         \"lateblast\") ) ) )\n",
    "\n",
    "rownames(omega) <- annotation$sample_id;\n",
    "\n",
    "StructureGGplot(omega = omega,\n",
    "                annotation = annotation,\n",
    "                palette = RColorBrewer::brewer.pal(8, \"Accent\"),\n",
    "                yaxis_label = \"Amplification batch\",\n",
    "                order_sample = TRUE,\n",
    "                axis_tick = list(axis_ticks_length = .1,\n",
    "                                 axis_ticks_lwd_y = .1,\n",
    "                                 axis_ticks_lwd_x = .1,\n",
    "                                 axis_label_size = 7,\n",
    "                                 axis_label_face = \"bold\"))"
   ]
  },
  {
   "cell_type": "code",
   "execution_count": null,
   "metadata": {},
   "outputs": [],
   "source": [
    "library(RColorBrewer)"
   ]
  },
  {
   "cell_type": "code",
   "execution_count": null,
   "metadata": {},
   "outputs": [],
   "source": [
    "StructurePie(t(deng.counts), input_type=\"apply_tsne\",\n",
    "             use_voom=FALSE, omega = omega, xlab=\"TSNE1\",\n",
    "             ylab = \"TSNE2\",\n",
    "             main = \"STRUCTURE K=6 pie on tSNE\",\n",
    "             control = list(bg = \"lightcyan\"))"
   ]
  },
  {
   "cell_type": "code",
   "execution_count": null,
   "metadata": {},
   "outputs": [],
   "source": [
    "StructurePie(t(deng.counts), input_type=\"apply_pca\",\n",
    "             use_voom = TRUE, omega = omega, xlab=\"PCA1\",\n",
    "             ylab = \"PCA2\",\n",
    "             main = \"STRUCTURE K=6 pie on PCA\",\n",
    "             control = list(bg = \"lightcyan\"))"
   ]
  },
  {
   "cell_type": "markdown",
   "metadata": {},
   "source": [
    "### Our data\n",
    "\n",
    "The first step is to invoke the clustering function."
   ]
  },
  {
   "cell_type": "code",
   "execution_count": null,
   "metadata": {},
   "outputs": [],
   "source": [
    "K <- 15\n",
    "myresults <- FitGoM(t(exprMatrix), K=K, path_rda=\"CountClust.FitGoM.rda\")\n",
    "# myresults <- FitGoM(t(exprMatrix[-which(rownames(exprMatrix) == \"FILIONG01\"), ]), K=K, path_rda=\"CountClust.FitGoM.rda\")"
   ]
  },
  {
   "cell_type": "markdown",
   "metadata": {},
   "source": [
    "We then arrange the output results according to our needs."
   ]
  },
  {
   "cell_type": "code",
   "execution_count": null,
   "metadata": {},
   "outputs": [],
   "source": [
    "# get the results into variables that can be managed more easily\n",
    "fit <- myresults$fit\n",
    "theta <- as.data.frame(fit$theta)\n",
    "omega <- as.data.frame(fit$omega)\n",
    "\n",
    "# prepare the \"annotation\" data frame\n",
    "cell.types <- as.character(unique(sampleSheet$label))\n",
    "match.idx <- match(rownames(omega), rownames(sampleSheet))\n",
    "cell.ids <- sampleSheet$label[match.idx]\n",
    "annotation <- data.frame(\n",
    "  sample_id = rownames(omega),\n",
    "  tissue_label = cell.ids)\n",
    "\n",
    "# use the function from the CountClust package to visualize the results\n",
    "options(repr.plot.width = 5, repr.plot.height = 7)\n",
    "StructureGGplot(omega = omega,\n",
    "                annotation = annotation,\n",
    "                palette = colorRampPalette(RColorBrewer::brewer.pal(8, \"PRGn\"))(K),\n",
    "                yaxis_label = \"Cell type\",\n",
    "                order_sample = TRUE,\n",
    "                axis_tick = list(axis_ticks_length = .1,\n",
    "                                 axis_ticks_lwd_y = .1,\n",
    "                                 axis_ticks_lwd_x = .1,\n",
    "                                 axis_label_size = 10,\n",
    "                                 axis_label_face = \"bold\"))"
   ]
  },
  {
   "cell_type": "markdown",
   "metadata": {},
   "source": [
    "By looking at this graph, we can actually see that the patterns between cells that undergo the same treatment look similar. This is a good sign.\n",
    "\n",
    "Let's try to have a look at the results for the SAHA-treated cells."
   ]
  },
  {
   "cell_type": "code",
   "execution_count": null,
   "metadata": {},
   "outputs": [],
   "source": [
    "jlat.SAHA.omega <- subset(omega, sampleSheet[rownames(omega), \"label\"] == \"J-LatA2+SAHA\")\n",
    "colnames(jlat.SAHA.omega) <- c(paste0(\"module\", 1:K))\n",
    "jlat.SAHA.omega$hiv <- t(exprMatrix[\"FILIONG01\", rownames(jlat.SAHA.omega)])"
   ]
  },
  {
   "cell_type": "markdown",
   "metadata": {},
   "source": [
    "Let's play around with the correlation between module score and HIV expression levels."
   ]
  },
  {
   "cell_type": "code",
   "execution_count": null,
   "metadata": {},
   "outputs": [],
   "source": [
    "pvals <- list()\n",
    "for (i in 1:K) {\n",
    "    m <- lm(jlat.SAHA.omega[, \"hiv\"] ~ jlat.SAHA.omega[, paste0(\"module\", i)])\n",
    "    p <- summary(m)$coefficients[2, 4]\n",
    "    pvals[i] <- p\n",
    "}\n",
    "which.min(pvals)"
   ]
  },
  {
   "cell_type": "code",
   "execution_count": null,
   "metadata": {},
   "outputs": [],
   "source": [
    "options(repr.plot.width = 3.5, repr.plot.height = 3)\n",
    "ggplot() + geom_point(aes(x = module11, y = hiv), data = jlat.SAHA.omega)"
   ]
  },
  {
   "cell_type": "markdown",
   "metadata": {},
   "source": [
    "It seems that module 11 has something to tell us."
   ]
  },
  {
   "cell_type": "code",
   "execution_count": null,
   "metadata": {},
   "outputs": [],
   "source": [
    "module.11.order <- order(theta[, \"11\"], decreasing = TRUE)\n",
    "head(theta[module.11.order, ])"
   ]
  },
  {
   "cell_type": "code",
   "execution_count": null,
   "metadata": {},
   "outputs": [],
   "source": [
    "library(biomaRt)"
   ]
  },
  {
   "cell_type": "code",
   "execution_count": null,
   "metadata": {},
   "outputs": [],
   "source": [
    "mart <- useMart(biomart = \"ensembl\", dataset = \"hsapiens_gene_ensembl\")"
   ]
  },
  {
   "cell_type": "code",
   "execution_count": null,
   "metadata": {},
   "outputs": [],
   "source": [
    "mygenes <- rownames(theta[module.11.order, ])[1:5]\n",
    "mygenes.uniprot <- getBM(attributes = c(\"ensembl_gene_id_version\", \"uniprotswissprot\"),\n",
    "                  filters = \"ensembl_gene_id_version\",\n",
    "                  values = mygenes,\n",
    "                  mart = mart)\n",
    "ids <- subset(mygenes.uniprot$uniprotswissprot, mygenes.uniprot$uniprotswissprot != \"\")\n",
    "cat(paste(ids, collapse = \"\\n\"))"
   ]
  },
  {
   "cell_type": "code",
   "execution_count": null,
   "metadata": {},
   "outputs": [],
   "source": [
    "listAttributes(mart)[which(startsWith(listAttributes(mart)$name, \"uniprot\")), ]"
   ]
  },
  {
   "cell_type": "code",
   "execution_count": null,
   "metadata": {},
   "outputs": [],
   "source": []
  }
 ],
 "metadata": {
  "kernelspec": {
   "display_name": "R",
   "language": "R",
   "name": "ir"
  },
  "language_info": {
   "codemirror_mode": "r",
   "file_extension": ".r",
   "mimetype": "text/x-r-source",
   "name": "R",
   "pygments_lexer": "r"
  }
 },
 "nbformat": 4,
 "nbformat_minor": 2
}
