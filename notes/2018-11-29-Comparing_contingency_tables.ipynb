{
 "cells": [
  {
   "cell_type": "markdown",
   "metadata": {},
   "source": [
    "# 2018-11-29 Comparing contingency tables\n",
    "In the previous analyses that I ran, I realized that there were great problems due to the fact that the values of the Pearson correlation between the genes' expression values and the values of the expression of the GFP reporter were highly sensitive to whether there was a single point in or outside of the analysis.\n",
    "\n",
    "Here, I want to try a different approach: I want to compare the contingency tables of the genes: that is, whether a gene is on or off, simply."
   ]
  },
  {
   "cell_type": "code",
   "execution_count": null,
   "metadata": {},
   "outputs": [],
   "source": [
    "library(ggplot2)\n",
    "library(RColorBrewer)\n",
    "theme_set(theme_bw())"
   ]
  },
  {
   "cell_type": "code",
   "execution_count": null,
   "metadata": {},
   "outputs": [],
   "source": [
    "# load the data\n",
    "matrices.dir <- \"/home/rcortini/work/CRG/projects/sc_hiv/data/matrices\"\n",
    "merged <- read.table(sprintf('%s/exprMatrix.csv', matrices.dir),\n",
    "                     header = TRUE, row.names = 1,\n",
    "                     sep = \"\\t\", check.names = FALSE)\n",
    "\n",
    "# load sample sheet\n",
    "sampleSheet <- read.table(sprintf('%s/samplesheet.csv', matrices.dir),\n",
    "                          header = TRUE,\n",
    "                          row.names = 1)\n",
    "\n",
    "# remove dead cells\n",
    "sampleSheet <- sampleSheet[sampleSheet$status != \"dead\", ]\n",
    "\n",
    "# load gene annotations file\n",
    "gene.annotations <- sprintf(\"%s/gene_annotations.tsv\", matrices.dir)\n",
    "gene.data <- read.delim(gene.annotations, header = TRUE, sep = \"\\t\",\n",
    "                        row.names = 1, stringsAsFactors = FALSE)\n",
    "gene.data <- subset(gene.data, rownames(gene.data) %in% rownames(merged))"
   ]
  },
  {
   "cell_type": "code",
   "execution_count": null,
   "metadata": {},
   "outputs": [],
   "source": [
    "# define treated cells\n",
    "treated <- sampleSheet$status == \"treated\""
   ]
  },
  {
   "cell_type": "code",
   "execution_count": null,
   "metadata": {},
   "outputs": [],
   "source": [
    "onoff <- merged[, treated] > 1\n",
    "hiv.onoff <- merged[\"FILIONG01\", treated] > 1"
   ]
  },
  {
   "cell_type": "code",
   "execution_count": null,
   "metadata": {},
   "outputs": [],
   "source": [
    "# threshold for significance of p-values\n",
    "threshold <- 0.5\n",
    "\n",
    "# init data frame that will contain the list of interesting genes\n",
    "interesting <- data.frame()\n",
    "\n",
    "# for the Fisher exact test not to fail we need to init contingency\n",
    "# tables that have predefined levels\n",
    "levs <- c(TRUE, FALSE)\n",
    "\n",
    "for (TF.name in rownames(merged)) {\n",
    "    if (TF.name == \"FILIONG01\") next\n",
    "    tab <- table(factor(onoff[TF.name, ], levs), factor(hiv.onoff, levs))\n",
    "    test <- fisher.test(tab)\n",
    "    if (test$p.value < threshold){\n",
    "        interesting <- rbind(interesting, data.frame(name = TF.name, p = test$p.value))\n",
    "    }\n",
    "}\n",
    "\n",
    "# add row names and gene symbols for readibility\n",
    "rownames(interesting) <- interesting$name\n",
    "interesting$gene_symbol <- gene.data[rownames(interesting), \"gene_symbol\"]\n",
    "interesting <- interesting[, -1]\n",
    "\n",
    "# order by p-value\n",
    "interesting <- interesting[order(interesting$p), ]\n",
    "\n",
    "# show\n",
    "interesting"
   ]
  },
  {
   "cell_type": "markdown",
   "metadata": {},
   "source": [
    "We obtained a list of possible candidate genes associated to HIV expression. Let's look at their scatter plots."
   ]
  },
  {
   "cell_type": "code",
   "execution_count": null,
   "metadata": {},
   "outputs": [],
   "source": [
    "# prepare data for plotting\n",
    "X <- data.frame(expr = t(merged[rownames(interesting), treated]), hiv = t(merged[\"FILIONG01\", treated]))\n",
    "colnames(X) <- c(rownames(interesting), \"hiv\")"
   ]
  },
  {
   "cell_type": "code",
   "execution_count": null,
   "metadata": {},
   "outputs": [],
   "source": [
    "# let's now plot all the results\n",
    "options(repr.plot.width = 2.5, repr.plot.height = 2)\n",
    "for (TF.name in rownames(interesting)[1:10]) {\n",
    "    gg <- ggplot(X, aes_string(TF.name, \"hiv\")) + geom_point()  +\n",
    "    geom_smooth(method='lm') +\n",
    "    labs(x = gene.data[TF.name, \"gene_symbol\"], y = \"GFP expression\", \n",
    "         title = sprintf(\"p = %.3e\", interesting[TF.name, \"pHIV\"]))\n",
    "    print(gg)\n",
    "}"
   ]
  },
  {
   "cell_type": "markdown",
   "metadata": {},
   "source": [
    "Clearly the scatter plots don't really show the information that the contingency tables show. Let's look at the contingency tables for the best candidates."
   ]
  },
  {
   "cell_type": "code",
   "execution_count": null,
   "metadata": {},
   "outputs": [],
   "source": [
    "i <- 3\n",
    "INTS1 <- \"ENSG00000164880.15\"\n",
    "PUS10 <- \"ENSG00000162927.13\"\n",
    "TF.name <- INTS1\n",
    "# TF.name <- rownames(interesting)[i]\n",
    "table(onoff[TF.name, ], hiv.onoff, dnn = c(gene.data[TF.name, \"gene_symbol\"], \"HIV\"))\n",
    "t(merged[c(INTS1, PUS10, \"FILIONG01\"), treated])"
   ]
  },
  {
   "cell_type": "code",
   "execution_count": null,
   "metadata": {},
   "outputs": [],
   "source": [
    "table(onoff[INTS1, ], onoff[PUS10, ], dnn = c(\"INTS1\", \"PUS10\"))"
   ]
  },
  {
   "cell_type": "code",
   "execution_count": null,
   "metadata": {},
   "outputs": [],
   "source": [
    "options(repr.plot.width = 5, repr.plot.height = 4)\n",
    "gg <- ggplot(X, aes_string(INTS1, PUS10)) + geom_point(aes(color=log10(1+hiv)), size=3)  +\n",
    "scale_colour_gradient(low=\"blue\", high=\"red\") +\n",
    "labs(x = \"INTS1\", y = \"PUS10\")\n",
    "print(gg)"
   ]
  },
  {
   "cell_type": "markdown",
   "metadata": {},
   "source": [
    "This result is quite striking. Let's look at the distribution of these two proteins across the entire data set."
   ]
  },
  {
   "cell_type": "code",
   "execution_count": null,
   "metadata": {},
   "outputs": [],
   "source": [
    "INTS1.expr <- as.data.frame(t(merged[INTS1, ]))\n",
    "INTS1.expr$gene <- \"INTS1\"\n",
    "INTS1.expr$label <- sampleSheet$label\n",
    "colnames(INTS1.expr) <- c(\"expr\", \"gene\", \"label\")\n",
    "PUS10.expr <- as.data.frame(t(merged[PUS10, ]))\n",
    "PUS10.expr$gene <- \"PUS10\"\n",
    "PUS10.expr$label <- sampleSheet$label\n",
    "colnames(PUS10.expr) <- c(\"expr\", \"gene\", \"label\")\n",
    "Y <- rbind(INTS1.expr, PUS10.expr)"
   ]
  },
  {
   "cell_type": "code",
   "execution_count": null,
   "metadata": {},
   "outputs": [],
   "source": [
    "ggplot(Y, aes(x = gene, y = expr, fill = label)) + geom_boxplot(outlier.size = 0.3) +\n",
    "scale_y_log10() + labs(y = \"Expression\", title = \"Non-zero expression values\")"
   ]
  },
  {
   "cell_type": "code",
   "execution_count": null,
   "metadata": {},
   "outputs": [],
   "source": [
    "labels <- unique(Y$label)\n",
    "\n",
    "# zero-expression fraction\n",
    "zef <- data.frame()\n",
    "for (label in labels) {\n",
    "    INTS1.zef <- sum((merged[INTS1,sampleSheet$label == label] == 0)/sum(sampleSheet$label==label))\n",
    "    PUS10.zef <- sum((merged[PUS10, sampleSheet$label == label] == 0)/sum(sampleSheet$label==label))\n",
    "    zef <- rbind(zef, data.frame(zef = INTS1.zef, label = label, gene = \"INTS1\"))\n",
    "    zef <- rbind(zef, data.frame(zef = PUS10.zef, label = label, gene = \"PUS10\"))\n",
    "}"
   ]
  },
  {
   "cell_type": "code",
   "execution_count": null,
   "metadata": {},
   "outputs": [],
   "source": [
    "ggplot(zef, aes(x = gene, y = zef, fill = label)) +\n",
    "geom_bar(position = position_dodge(), stat = \"identity\") +\n",
    "labs(y = \"Number\", title = \"Fraction of cells with zero expression\")"
   ]
  }
 ],
 "metadata": {
  "kernelspec": {
   "display_name": "R",
   "language": "R",
   "name": "ir"
  },
  "language_info": {
   "codemirror_mode": "r",
   "file_extension": ".r",
   "mimetype": "text/x-r-source",
   "name": "R",
   "pygments_lexer": "r"
  }
 },
 "nbformat": 4,
 "nbformat_minor": 2
}
