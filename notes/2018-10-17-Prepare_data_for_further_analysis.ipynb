{
 "cells": [
  {
   "cell_type": "markdown",
   "metadata": {},
   "source": [
    "# 2018-10-17 Prepare data for further analysis\n",
    "\n",
    "In the previous notebook (2018-10-08) I went quite far away with the analysis of the single-cell RNA-seq data. Here I want to find a way to conveniently encapsulate all that code into a function that I can then call in further analysis scripts."
   ]
  },
  {
   "cell_type": "code",
   "execution_count": null,
   "metadata": {},
   "outputs": [],
   "source": [
    "# load libraries needed for the analysis\n",
    "library(scran)\n",
    "library(scater)\n",
    "library(SingleCellExperiment)"
   ]
  },
  {
   "cell_type": "code",
   "execution_count": null,
   "metadata": {},
   "outputs": [],
   "source": [
    "# file names\n",
    "matrices_dir <- \"/home/rcortini/work/CRG/projects/sc_hiv/data/matrices\"\n",
    "\n",
    "# init variables\n",
    "sample_names <- c(\"P2449\", \"P2458\")\n",
    "normalized <- list()\n",
    "dec <- list()\n",
    "\n",
    "# gene annotations file\n",
    "gene_annotations <- sprintf(\"%s/gene_annotations.tsv\", matrices_dir)\n",
    "gene_data <- read.delim(gene_annotations, header = TRUE, row.names = 1, sep = \"\\t\")\n",
    "\n",
    "# load sample sheets and expression matrices\n",
    "for (sample_name in sample_names) {\n",
    "    \n",
    "    # build file names\n",
    "    matrix_fname <- sprintf(\"%s/%s.tsv.gz\", matrices_dir, sample_name)\n",
    "    sample_sheet_fname <- sprintf(\"%s/monocle/%s.pd.tsv\", matrices_dir, sample_name)\n",
    "    \n",
    "    # parse files\n",
    "    expr_matrix  <- read.table(matrix_fname, header = TRUE, row.names = 1,\n",
    "                               sep = \"\\t\", check.names = FALSE)\n",
    "    sample_sheet <- read.delim(sample_sheet_fname,\n",
    "                               header = TRUE, row.names = 1)\n",
    "    \n",
    "    # build the SingleCellExperiment object\n",
    "    sce <- SingleCellExperiment(list(counts=as.matrix(expr_matrix)),\n",
    "                                rowData = DataFrame(gene_data),\n",
    "                                colData = DataFrame(sample_sheet))\n",
    "    \n",
    "    # do quality control\n",
    "    sce <- calculateQCMetrics(sce, compact=TRUE)\n",
    "    QC <- sce$scater_qc\n",
    "    low.lib <- isOutlier(QC$all$log10_total_counts,\n",
    "                         type=\"lower\", nmad=3)\n",
    "    low.genes <- isOutlier(QC$all$log10_total_features_by_counts,\n",
    "                           type=\"lower\", nmad=3)\n",
    "    discard <- low.lib | low.genes\n",
    "    sce <- sce[,!discard]\n",
    "    \n",
    "    # estimate size factors\n",
    "    sizes <- c(sum(sce$label == \"Jurkat\"),\n",
    "               sum(sce$label == \"J-Lat+DMSO\"),\n",
    "               sum(sce$label == \"J-Lat+SAHA\"))\n",
    "    sce <- computeSumFactors(sce, sizes=sizes)\n",
    "    \n",
    "    # normalize\n",
    "    normalized[[sample_name]] <- normalize(sce)\n",
    "    \n",
    "    # now normalize based on the sample labels to obtain a list of genes\n",
    "    # that have maximal biological variation\n",
    "    collected <- list()\n",
    "    for (x in unique(sce$label)) {\n",
    "        current <- sce[, sce$label==x]\n",
    "        current <- normalize(current)\n",
    "        fit <- trendVar(current, parametric=TRUE, use.spikes=FALSE) \n",
    "        dec[[sample_name]] <- decomposeVar(current, fit)\n",
    "        collected[[x]] <- dec[[sample_name]]\n",
    "    }\n",
    "    \n",
    "    # compile list of genes\n",
    "    dec[[sample_name]] <- do.call(combineVar, collected)\n",
    "    dec[[sample_name]]$gene_symbol <- rowData(sce)$gene_symbol\n",
    "    ordering <- order(dec[[sample_name]]$bio, decreasing=TRUE)\n",
    "    dec[[sample_name]] <- dec[[sample_name]][ordering,]\n",
    "}"
   ]
  },
  {
   "cell_type": "code",
   "execution_count": null,
   "metadata": {},
   "outputs": [],
   "source": [
    "# determine which are the top-varying genes and intersect the lists\n",
    "top <- lapply(dec,\n",
    "              function(x) {\n",
    "                 y <- rownames(x)\n",
    "                 y[seq_len(1000)]\n",
    "              }\n",
    "             )\n",
    "chosen <- Reduce(intersect, top)"
   ]
  },
  {
   "cell_type": "code",
   "execution_count": null,
   "metadata": {},
   "outputs": [],
   "source": [
    "# create a list with the log-counts of the chosen genes\n",
    "original <- lapply(normalized, logcounts)\n",
    "\n",
    "# and invoke the MNN correction algorithm to remove batch effects\n",
    "corrected <- do.call(mnnCorrect, c(original, list(k=20, sigma=0.1)))"
   ]
  },
  {
   "cell_type": "code",
   "execution_count": null,
   "metadata": {},
   "outputs": [],
   "source": [
    "omat <- do.call(cbind, original)\n",
    "mat <- do.call(cbind, corrected$corrected)\n",
    "colnames(mat) <- NULL\n",
    "sc_hiv <- SingleCellExperiment(list(counts=mat))\n",
    "colData(sc_hiv)$Batch <- rep(sample_names,\n",
    "                          lapply(corrected$corrected, ncol))\n",
    "colData(sc_hiv)$label <- unlist(lapply(normalized,\n",
    "                                 function(x) {\n",
    "                                     as.character(x$label)\n",
    "                                     }\n",
    "                                ), use.names = FALSE)"
   ]
  },
  {
   "cell_type": "code",
   "execution_count": null,
   "metadata": {},
   "outputs": [],
   "source": [
    "# load the list of pairs of genes\n",
    "hs.pairs <- readRDS(system.file(\"exdata\", \"human_cycle_markers.rds\", package=\"scran\"))"
   ]
  },
  {
   "cell_type": "code",
   "execution_count": null,
   "metadata": {},
   "outputs": [],
   "source": [
    "gene_short_names <- gsub(\"\\\\..*\", \"\", rownames(gene_data))\n",
    "non_duplicated <- !duplicated(gene_short_names)\n",
    "mygenes <- rownames(gene_data)[non_duplicated]\n",
    "sce_temp = sc_hiv[mygenes, ]\n",
    "rownames(sce_temp) <- gene_short_names[non_duplicated]\n",
    "assignments <- cyclone(sce_temp , hs.pairs)"
   ]
  },
  {
   "cell_type": "code",
   "execution_count": null,
   "metadata": {},
   "outputs": [],
   "source": [
    "sc_hiv$phases <- assignments$phases\n",
    "sc_hiv$scores <- assignments$scores"
   ]
  }
 ],
 "metadata": {
  "kernelspec": {
   "display_name": "R",
   "language": "R",
   "name": "ir"
  },
  "language_info": {
   "codemirror_mode": "r",
   "file_extension": ".r",
   "mimetype": "text/x-r-source",
   "name": "R",
   "pygments_lexer": "r"
  }
 },
 "nbformat": 4,
 "nbformat_minor": 2
}
