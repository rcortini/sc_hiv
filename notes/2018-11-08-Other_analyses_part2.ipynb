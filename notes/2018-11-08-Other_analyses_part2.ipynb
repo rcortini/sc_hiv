{
 "cells": [
  {
   "cell_type": "markdown",
   "metadata": {},
   "source": [
    "# 2018-11-09 Other analyses part 2\n",
    "To avoid namespace collisions I open a new notebook.\n",
    "\n",
    "## Pooling samples together\n",
    "\n",
    "I want to try to pool samples together when it comes to performing the clustering analysis. Let's see what comes out."
   ]
  },
  {
   "cell_type": "code",
   "execution_count": null,
   "metadata": {},
   "outputs": [],
   "source": [
    "source(\"/home/rcortini/work/CRG/projects/sc_hiv/scripts/sc_hiv.R\")"
   ]
  },
  {
   "cell_type": "code",
   "execution_count": null,
   "metadata": {},
   "outputs": [],
   "source": [
    "# basic data\n",
    "matrices.dir <- \"/home/rcortini/work/CRG/projects/sc_hiv/data/matrices\"\n",
    "sample.names <- c(\"P2449\", \"P2458\")\n",
    "\n",
    "# init data structures that will hold our data\n",
    "exprMatrices <- list()\n",
    "sampleSheets <- list()\n",
    "\n",
    "# load data\n",
    "for (sample.name in sample.names) {\n",
    "    \n",
    "    # file names\n",
    "    matrix.fname <- sprintf(\"%s/%s.tsv.gz\", matrices.dir, sample.name)\n",
    "    sampleSheet.fname <- sprintf(\"%s/monocle/%s.pd.tsv\", matrices.dir, sample.name)\n",
    "\n",
    "    # parse data\n",
    "    exprMatrices[[sample.name]] <- read.table(matrix.fname, header = TRUE, row.names = 1,\n",
    "                                sep = \"\\t\", check.names = FALSE)\n",
    "    sampleSheets[[sample.name]] <- read.delim(sampleSheet.fname, header = TRUE, row.names = 1)\n",
    "}\n",
    "\n",
    "# load gene annotations file\n",
    "gene.annotations <- sprintf(\"%s/gene_annotations.tsv\", matrices.dir)\n",
    "gene.data <- read.delim(gene.annotations, header = TRUE, row.names = 1, sep = \"\\t\")"
   ]
  },
  {
   "cell_type": "code",
   "execution_count": null,
   "metadata": {},
   "outputs": [],
   "source": [
    "# prepare data\n",
    "exprMatrix <- cbind(exprMatrices[[\"P2449\"]], exprMatrices[[\"P2458\"]])\n",
    "sampleSheet <- rbind(sampleSheets[[\"P2449\"]], sampleSheets[[\"P2458\"]])"
   ]
  },
  {
   "cell_type": "code",
   "execution_count": null,
   "metadata": {},
   "outputs": [],
   "source": [
    "datExpr <- PrepareDataForClustering(exprMatrix, sampleSheet,\n",
    "                                    cut = 18000,\n",
    "                                    ngenes = 5000)"
   ]
  },
  {
   "cell_type": "code",
   "execution_count": null,
   "metadata": {},
   "outputs": [],
   "source": [
    "PrepareClustering(datExpr)"
   ]
  },
  {
   "cell_type": "code",
   "execution_count": null,
   "metadata": {},
   "outputs": [],
   "source": [
    "net <- blockwiseModules(datExpr,\n",
    "                        power             = 5,\n",
    "                        TOMType           = \"unsigned\", \n",
    "                        inModuleSize      = 30,\n",
    "                        reassignThreshold = 0,\n",
    "                        mergeCutHeight    = 0.25,\n",
    "                        numericLabels     = TRUE,\n",
    "                        pamRespectsDendro = FALSE,\n",
    "                        verbose           = 0)"
   ]
  },
  {
   "cell_type": "code",
   "execution_count": null,
   "metadata": {},
   "outputs": [],
   "source": [
    "VisualizeClustering(net)"
   ]
  },
  {
   "cell_type": "code",
   "execution_count": null,
   "metadata": {},
   "outputs": [],
   "source": [
    "# get the module labels, transform them into colors\n",
    "moduleLabels <- net$colors\n",
    "moduleColors <- labels2colors(net$colors)\n",
    "\n",
    "# get the names of the genes we selected from the original ones\n",
    "myGenes <- colnames(datExpr)"
   ]
  },
  {
   "cell_type": "code",
   "execution_count": null,
   "metadata": {},
   "outputs": [],
   "source": [
    "myExprMatrix <- exprMatrices[[sample.name]]\n",
    "\n",
    "# select only the genes that we selected before\n",
    "myExprMatrix <- myExprMatrix[myGenes, ]\n",
    "\n",
    "# select only J-Lat treated cells\n",
    "myExprMatrix <- myExprMatrix[, sampleSheets[[sample.name]]$label == \"J-Lat+SAHA\"]\n",
    "\n",
    "# select only alive cells\n",
    "myExprMatrix <- myExprMatrix[, colSums(myExprMatrix) > 100000]\n",
    "\n",
    "# finally, transpose to be interfaced to WGCNA\n",
    "myExprMatrix <- t(myExprMatrix)"
   ]
  },
  {
   "cell_type": "code",
   "execution_count": null,
   "metadata": {},
   "outputs": [],
   "source": [
    "# get the module eigengenes of the *new* data set: that is, we assign the\n",
    "# expression profiles of the treated data set based on the gene modules of the\n",
    "# untreated cells\n",
    "MEs <- moduleEigengenes(myExprMatrix, moduleColors)$eigengenes\n",
    "MEs <- orderMEs(MEs)"
   ]
  },
  {
   "cell_type": "code",
   "execution_count": null,
   "metadata": {},
   "outputs": [],
   "source": [
    "# get the names of the cells that we have selected, and extract the HIV profile\n",
    "# of those cells\n",
    "myCells <- rownames(myExprMatrix)\n",
    "hiv <- t(exprMatrices[[sample.name]][\"FILIONG01\", myCells])"
   ]
  },
  {
   "cell_type": "code",
   "execution_count": null,
   "metadata": {},
   "outputs": [],
   "source": [
    "# parameters of our data set\n",
    "nGenes <- ncol(myExprMatrix)\n",
    "nSamples <- nrow(myExprMatrix)"
   ]
  },
  {
   "cell_type": "code",
   "execution_count": null,
   "metadata": {},
   "outputs": [],
   "source": [
    "# correlate the module eigengenes to the HIV expression patterns, and \n",
    "# calculate the corresponding p value\n",
    "moduleHivCor <- cor(MEs, hiv, use = \"p\")\n",
    "moduleHivPvalue <- corPvalueStudent(moduleHivCor, nSamples)"
   ]
  },
  {
   "cell_type": "code",
   "execution_count": null,
   "metadata": {},
   "outputs": [],
   "source": [
    "# look at the module statistics together: correlation and p-value\n",
    "moduleStats <- data.frame(correlation = moduleHivCor, pvalue = moduleHivPvalue)\n",
    "names(moduleStats) <- c(\"correlation\", \"p\")\n",
    "moduleStats"
   ]
  },
  {
   "cell_type": "markdown",
   "metadata": {},
   "source": [
    "None of these modules are even remotely as significant as the ones that were identified when considering only the P2449 samples alone."
   ]
  }
 ],
 "metadata": {
  "kernelspec": {
   "display_name": "R",
   "language": "R",
   "name": "ir"
  },
  "language_info": {
   "codemirror_mode": "r",
   "file_extension": ".r",
   "mimetype": "text/x-r-source",
   "name": "R",
   "pygments_lexer": "r"
  }
 },
 "nbformat": 4,
 "nbformat_minor": 2
}
