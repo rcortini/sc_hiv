{
 "cells": [
  {
   "cell_type": "code",
   "execution_count": null,
   "metadata": {},
   "outputs": [],
   "source": [
    "%matplotlib inline\n",
    "%load_ext autoreload\n",
    "%autoreload 2"
   ]
  },
  {
   "cell_type": "code",
   "execution_count": null,
   "metadata": {},
   "outputs": [],
   "source": [
    "import numpy as np\n",
    "import matplotlib.pyplot as plt\n",
    "import mybiotools as mbt\n",
    "import os, gzip, sys\n",
    "import pandas as pd"
   ]
  },
  {
   "cell_type": "markdown",
   "metadata": {},
   "source": [
    "# 2018-09-06 First analysis\n",
    "Guillaume passed me the links to the data in the single-cell HIV expression experiments. Now I want to open up the files and have a first look at what the data looks like."
   ]
  },
  {
   "cell_type": "code",
   "execution_count": null,
   "metadata": {},
   "outputs": [],
   "source": [
    "# define paths and file names\n",
    "sc_hiv_rootdir = '%s/work/CRG/projects/sc_hiv'%(os.getenv('HOME'))\n",
    "datadir = '%s/data'%(sc_hiv_rootdir)\n",
    "matrices_dir = '%s/matrices'%(datadir)"
   ]
  },
  {
   "cell_type": "markdown",
   "metadata": {},
   "source": [
    "The convenient way of storing the information is with a class, so we can easily keep the data together that pertains to the same experiment."
   ]
  },
  {
   "cell_type": "code",
   "execution_count": null,
   "metadata": {},
   "outputs": [],
   "source": [
    "class SsHIVExperiment :\n",
    "    def __init__(self, sample_name) :\n",
    "        self.sample_name = sample_name\n",
    "        self.matrix_fname = '%s/%s.tsv.gz'%(matrices_dir, sample_name)"
   ]
  },
  {
   "cell_type": "markdown",
   "metadata": {},
   "source": [
    "Now look at the `matrices_dir` directory and extract the names of the samples. I'll also load the data into a Pandas data frame."
   ]
  },
  {
   "cell_type": "code",
   "execution_count": null,
   "metadata": {},
   "outputs": [],
   "source": [
    "# matrices\n",
    "matrix_fnames = os.listdir(matrices_dir)\n",
    "experiments = []\n",
    "for matrix_fname in matrix_fnames :\n",
    "    sample_name = matrix_fname.strip('.tsv.gz')\n",
    "    experiment = SsHIVExperiment(sample_name)\n",
    "    experiment.expression = pd.DataFrame.from_csv(experiment.matrix_fname, sep='\\t', header=0)\n",
    "    experiments.append(experiment)"
   ]
  },
  {
   "cell_type": "markdown",
   "metadata": {},
   "source": [
    "Now that I have the data loaded, I can have a quick look at what the matrices look like."
   ]
  },
  {
   "cell_type": "code",
   "execution_count": null,
   "metadata": {},
   "outputs": [],
   "source": [
    "fig, axes = plt.subplots(1, 2, figsize=(10,10))\n",
    "for i, experiment in enumerate(experiments) :\n",
    "    axes[i].matshow(np.log(1+experiment.expression.as_matrix()), aspect='auto', cmap=plt.cm.Greys)\n",
    "    axes[i].set_title(experiment.sample_name, fontsize=32)"
   ]
  },
  {
   "cell_type": "markdown",
   "metadata": {},
   "source": [
    "Let's measure a very simple thing: the correlation coefficient between the two matrices."
   ]
  },
  {
   "cell_type": "code",
   "execution_count": null,
   "metadata": {},
   "outputs": [],
   "source": [
    "print np.corrcoef(experiments[0].expression.as_matrix().flatten(),\n",
    "                  experiments[1].expression.as_matrix().flatten())[0,1]**2"
   ]
  },
  {
   "cell_type": "markdown",
   "metadata": {},
   "source": [
    "So there is a considerable degree of correlation between the two samples. Probably that's due to housekeeping genes and genes that are repressed all the time."
   ]
  }
 ],
 "metadata": {
  "kernelspec": {
   "display_name": "Python 2",
   "language": "python",
   "name": "python2"
  },
  "language_info": {
   "codemirror_mode": {
    "name": "ipython",
    "version": 2
   },
   "file_extension": ".py",
   "mimetype": "text/x-python",
   "name": "python",
   "nbconvert_exporter": "python",
   "pygments_lexer": "ipython2"
  }
 },
 "nbformat": 4,
 "nbformat_minor": 2
}
