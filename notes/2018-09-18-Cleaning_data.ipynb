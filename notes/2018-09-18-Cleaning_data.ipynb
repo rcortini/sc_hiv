{
 "cells": [
  {
   "cell_type": "code",
   "execution_count": null,
   "metadata": {},
   "outputs": [],
   "source": [
    "%matplotlib inline\n",
    "%load_ext autoreload\n",
    "%autoreload 2"
   ]
  },
  {
   "cell_type": "code",
   "execution_count": null,
   "metadata": {},
   "outputs": [],
   "source": [
    "import numpy as np\n",
    "import matplotlib.pyplot as plt\n",
    "import mybiotools as mbt\n",
    "import os, sys, gzip"
   ]
  },
  {
   "cell_type": "markdown",
   "metadata": {},
   "source": [
    "# 2018-09-18 Cleaning data\n",
    "Now I have the expression matrices and I know that certain columns correspond to the control conditions and others correspond to infected cells that are either GFP positive or negative. So I want to select properly the cells in each condition, and this comes by eliminating the dead cells. I will select the dead cells by eliminating the ones that have very few reads (that is already quite evident from visually looking at the matrices."
   ]
  },
  {
   "cell_type": "code",
   "execution_count": null,
   "metadata": {},
   "outputs": [],
   "source": [
    "# define paths and file names\n",
    "sc_hiv_rootdir = '%s/work/CRG/projects/sc_hiv'%(os.getenv('HOME'))\n",
    "datadir = '%s/data'%(sc_hiv_rootdir)\n",
    "matrices_dir = '%s/matrices'%(datadir)"
   ]
  },
  {
   "cell_type": "code",
   "execution_count": null,
   "metadata": {},
   "outputs": [],
   "source": [
    "class SsHIVExperiment :\n",
    "    def __init__(self, sample_name) :\n",
    "        self.sample_name = sample_name\n",
    "        self.matrix_fname = '%s/%s.tsv.gz'%(matrices_dir, sample_name)"
   ]
  },
  {
   "cell_type": "code",
   "execution_count": null,
   "metadata": {},
   "outputs": [],
   "source": [
    "rows = ['A', 'B', 'C', 'D', 'E', 'F', 'G', 'H']\n",
    "columns = [str(i) for i in range(1, 13)]\n",
    "names = []\n",
    "for row in rows :\n",
    "    for column in columns :\n",
    "        names.append('%s%s'%(row, column))\n",
    "\n",
    "def parse_expression_matrix(matrix_fname) :\n",
    "    gene_to_idx = {}\n",
    "    idx_to_gene = {}\n",
    "    cell_to_idx = {}\n",
    "    idx_to_cell = {}\n",
    "    values = []\n",
    "    with gzip.open(matrix_fname, 'r') as f :\n",
    "        for lineno, line in enumerate(f) :\n",
    "            curatedline = line.strip('\\n').split('\\t')\n",
    "            if lineno==0 :\n",
    "                cell_to_idx = {curatedline[i] : i-1 for i in range(1, len(names)+1)}\n",
    "                idx_to_cell = {i-1 : curatedline[i] for i in range(1, len(names)+1)}\n",
    "            else :\n",
    "                idx_to_gene[lineno-1] = curatedline[0]\n",
    "                gene_to_idx[curatedline[0]] = lineno-1\n",
    "                values.append(curatedline[1:])\n",
    "    expression = np.array(values, dtype=float)\n",
    "    return gene_to_idx, idx_to_gene, cell_to_idx, idx_to_cell, expression"
   ]
  },
  {
   "cell_type": "code",
   "execution_count": null,
   "metadata": {},
   "outputs": [],
   "source": [
    "# matrices\n",
    "matrix_fnames = os.listdir(matrices_dir)\n",
    "experiments = []\n",
    "for matrix_fname in matrix_fnames :\n",
    "    if matrix_fname.endswith('.tsv.gz') :\n",
    "        sample_name = matrix_fname.strip('.tsv.gz')\n",
    "        experiment = SsHIVExperiment(sample_name)\n",
    "        experiment.gene_to_idx,\\\n",
    "        experiment.idx_to_gene,\\\n",
    "        experiment.cell_to_idx,\\\n",
    "        experiment.idx_to_cell,\\\n",
    "        experiment.expression =\\\n",
    "                     parse_expression_matrix(experiment.matrix_fname)\n",
    "        experiments.append(experiment)"
   ]
  },
  {
   "cell_type": "markdown",
   "metadata": {},
   "source": [
    "Now we have a data structure that allows us to ask: which cells were dead? We will ask then which cells have a very low total level of expression of all the genes put together."
   ]
  },
  {
   "cell_type": "code",
   "execution_count": null,
   "metadata": {},
   "outputs": [],
   "source": [
    "for experiment in experiments :\n",
    "    experiment.total_expression = experiment.expression.sum(axis=0)\n",
    "    fig, ax = plt.subplots(1, 1, figsize=(15,2))\n",
    "    mbt.line_plot(ax, range(96), np.log10(experiment.total_expression), color='b', show_xaxis=True)\n",
    "    ax.set_title(experiment.sample_name, fontsize=24)\n",
    "    ax.set_xticks(range(96))\n",
    "    ax.set_xticklabels(names, fontsize=8, rotation=90)\n",
    "    ax.set_ylabel('Log EGFP expression')"
   ]
  },
  {
   "cell_type": "markdown",
   "metadata": {},
   "source": [
    "Okay, so putting a threshold at about 10^5 should be fine to discriminate alive and dead cells."
   ]
  },
  {
   "cell_type": "code",
   "execution_count": null,
   "metadata": {},
   "outputs": [],
   "source": [
    "thresholds = np.arange(0, 100000, 10000)\n",
    "for experiment in experiments :\n",
    "    experiment.ndead = np.zeros_like(thresholds)\n",
    "    for i,threshold in enumerate(thresholds) :\n",
    "        experiment.ndead[i] = (experiment.total_expression<threshold).sum()"
   ]
  },
  {
   "cell_type": "code",
   "execution_count": null,
   "metadata": {},
   "outputs": [],
   "source": [
    "for experiment in experiments :\n",
    "    plt.plot(thresholds, experiment.ndead, label=experiment.sample_name)\n",
    "plt.xlabel('Threshold')\n",
    "plt.ylabel('Number of dead cells')\n",
    "plt.legend()\n",
    "plt.show()"
   ]
  },
  {
   "cell_type": "code",
   "execution_count": null,
   "metadata": {},
   "outputs": [],
   "source": [
    "threshold = 900000\n",
    "for experiment in experiments :\n",
    "    experiment.dead_cells = np.where(experiment.total_expression<threshold)[0]\n",
    "    experiment.alive_cells = [i for i in range(96) if i not in dead_cells]"
   ]
  },
  {
   "cell_type": "markdown",
   "metadata": {},
   "source": [
    "Next, I want to find out whether there is good correlation or not between the GFP expression state as characterized by the single-cell RNA-seq data and the fluorescence intensity. Let's load the data."
   ]
  },
  {
   "cell_type": "code",
   "execution_count": null,
   "metadata": {},
   "outputs": [],
   "source": [
    "for experiment in experiments :\n",
    "    experiment.GFP = np.genfromtxt(experiment.matrix_fname.replace('.tsv.gz', '.csv'),\n",
    "                                  dtype=np.dtype([('name','S4'), ('expression','f')]))"
   ]
  },
  {
   "cell_type": "code",
   "execution_count": null,
   "metadata": {},
   "outputs": [],
   "source": [
    "for experiment in experiments :\n",
    "    plt.scatter(np.log(experiment.expression[experiment.gene_to_idx['FILIONG01']]+1), np.log(experiment.GFP['expression']),\n",
    "               label=experiment.sample_name)\n",
    "plt.xlabel('Log RNA-seq expression')\n",
    "plt.ylabel('GFP intensity')\n",
    "plt.legend(loc='upper right')\n",
    "plt.show()"
   ]
  },
  {
   "cell_type": "markdown",
   "metadata": {},
   "source": [
    "Not the most spectacular correlation I've ever seen, we'll have to admit.\n",
    "\n",
    "## Classification using UMAP\n",
    "\n",
    "Now I want to use UMAP to perform classification of the data points."
   ]
  },
  {
   "cell_type": "code",
   "execution_count": null,
   "metadata": {},
   "outputs": [],
   "source": [
    "embedding = umap.UMAP().fit_transform(experiment.expression.T)"
   ]
  },
  {
   "cell_type": "code",
   "execution_count": null,
   "metadata": {},
   "outputs": [],
   "source": [
    "plt.scatter(embedding[:6,0], embedding[:6,1], color='b', label='Jurkat')\n",
    "plt.scatter(embedding[6:36,0], embedding[6:36,1], color='g', label='J-Lat+DMSO')\n",
    "plt.scatter(embedding[36:96,0], embedding[36:96,1], color='k', label='J-Lat+SAHA')\n",
    "plt.legend(loc='lower left')\n",
    "plt.xlabel('UMAP component 1')\n",
    "plt.ylabel('UMAP component 2')\n",
    "plt.show()"
   ]
  },
  {
   "cell_type": "markdown",
   "metadata": {},
   "source": [
    "Let's try to see plotting the dead versus alive cells."
   ]
  },
  {
   "cell_type": "code",
   "execution_count": null,
   "metadata": {},
   "outputs": [],
   "source": [
    "plt.scatter(embedding[:6,0], embedding[:6,1], color='b', label='Jurkat')\n",
    "plt.scatter(embedding[6:36,0], embedding[6:36,1], color='g', label='J-Lat+DMSO')\n",
    "plt.scatter(embedding[alive_cells,0], embedding[alive_cells,1], color='r', label='J-Lat+SAHA alive')\n",
    "plt.scatter(embedding[dead_cells,0], embedding[dead_cells,1], color='k', label='J-Lat+SAHA dead')\n",
    "plt.legend(loc='lower left')\n",
    "plt.xlabel('UMAP component 1')\n",
    "plt.ylabel('UMAP component 2')\n",
    "plt.show()"
   ]
  },
  {
   "cell_type": "markdown",
   "metadata": {},
   "source": [
    "This gives the interesting result that the Jurkat and the latent untreated cells are in the same group. The dead cells all are in the same group. Now let's do better: I'll first get out of the way the dead cells, and then perform the classification."
   ]
  },
  {
   "cell_type": "code",
   "execution_count": null,
   "metadata": {},
   "outputs": [],
   "source": [
    "alive = np.concatenate((experiments[0].expression[experiments[0].alive_cells],\n",
    "                       experiments[1].expression[experiments[1].alive_cells]), axis=0)"
   ]
  },
  {
   "cell_type": "markdown",
   "metadata": {},
   "source": [
    "Build labels so that we can then plot the data nicely."
   ]
  }
 ],
 "metadata": {
  "kernelspec": {
   "display_name": "Python 2",
   "language": "python",
   "name": "python2"
  },
  "language_info": {
   "codemirror_mode": {
    "name": "ipython",
    "version": 2
   },
   "file_extension": ".py",
   "mimetype": "text/x-python",
   "name": "python",
   "nbconvert_exporter": "python",
   "pygments_lexer": "ipython2"
  }
 },
 "nbformat": 4,
 "nbformat_minor": 2
}
