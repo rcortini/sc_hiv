{
 "cells": [
  {
   "cell_type": "code",
   "execution_count": null,
   "metadata": {},
   "outputs": [],
   "source": [
    "%matplotlib inline\n",
    "%load_ext autoreload\n",
    "%autoreload 2"
   ]
  },
  {
   "cell_type": "code",
   "execution_count": null,
   "metadata": {},
   "outputs": [],
   "source": [
    "import numpy as np\n",
    "import matplotlib.pyplot as plt\n",
    "import mybiotools as mbt\n",
    "import os, sys, gzip\n",
    "import pandas as pd\n",
    "import umap"
   ]
  },
  {
   "cell_type": "markdown",
   "metadata": {},
   "source": [
    "# 2018-09-19 Classification of cells\n",
    "\n",
    "Building upon previous results. I want to do a proper classification of the cells based on their expression profiles. I want to generate a data structure that will allow me to plot and classify stuff without going nuts.\n",
    "\n",
    "It's time to go to Pandas."
   ]
  },
  {
   "cell_type": "code",
   "execution_count": null,
   "metadata": {},
   "outputs": [],
   "source": [
    "# define paths and file names\n",
    "sc_hiv_rootdir = '%s/work/CRG/projects/sc_hiv'%(os.getenv('HOME'))\n",
    "datadir = '%s/data'%(sc_hiv_rootdir)\n",
    "matrices_dir = '%s/matrices'%(datadir)"
   ]
  },
  {
   "cell_type": "code",
   "execution_count": null,
   "metadata": {},
   "outputs": [],
   "source": [
    "class SsHIVExperiment :\n",
    "    def __init__(self, sample_name) :\n",
    "        \n",
    "        # sample name\n",
    "        self.sample_name = sample_name\n",
    "        \n",
    "        # expression matrix\n",
    "        self.matrix_fname = '%s/%s.tsv.gz'%(matrices_dir, sample_name)\n",
    "        # we use the read_csv function with option \"index_col = 'gene'\" so that we will\n",
    "        # be able to classify the rows of the file according to the gene name\n",
    "        self.matrix = pd.read_csv(self.matrix_fname,\n",
    "                                  delimiter='\\t',\n",
    "                                  index_col='gene').transpose()"
   ]
  },
  {
   "cell_type": "code",
   "execution_count": null,
   "metadata": {},
   "outputs": [],
   "source": [
    "# parse the experiment matrices and put everything in a Pandas DataFrame\n",
    "sample_names = ['P2449', 'P2458']\n",
    "experiments = []\n",
    "for sample_name in sample_names :\n",
    "    experiment = SsHIVExperiment(sample_name)\n",
    "    experiment.labels = pd.Series(['Jurkat']*6 + ['J-Lat+DMSO']*30 + ['J-Lat+SAHA']*60,\n",
    "                                  index=experiment.matrix.index)\n",
    "    experiments.append(experiment)"
   ]
  },
  {
   "cell_type": "markdown",
   "metadata": {},
   "source": [
    "Next, I'll filter out the dead cells."
   ]
  },
  {
   "cell_type": "code",
   "execution_count": null,
   "metadata": {},
   "outputs": [],
   "source": [
    "threshold = 100000.0\n",
    "for experiment in experiments :\n",
    "    experiment.alive_mask = experiment.matrix.sum(axis=1) > threshold\n",
    "    experiment.alive = experiment.matrix.loc[experiment.alive_mask]\n",
    "    experiment.alive_labels = experiment.labels[experiment.alive_mask]"
   ]
  },
  {
   "cell_type": "markdown",
   "metadata": {},
   "source": [
    "Now we can do the clustering with UMAP having eliminated the dead cells."
   ]
  },
  {
   "cell_type": "code",
   "execution_count": null,
   "metadata": {},
   "outputs": [],
   "source": [
    "for experiment in experiments :\n",
    "    experiment.reducer = umap.UMAP()\n",
    "    experiment.embedding = experiment.reducer.fit_transform(experiment.alive)"
   ]
  },
  {
   "cell_type": "markdown",
   "metadata": {},
   "source": [
    "And let's look at the results."
   ]
  },
  {
   "cell_type": "code",
   "execution_count": null,
   "metadata": {},
   "outputs": [],
   "source": [
    "def scatter_with_label(xy, labels, label, color) :\n",
    "    mask = labels==label\n",
    "    plt.scatter(xy[mask,0], xy[mask,1], c=color, label=label)"
   ]
  },
  {
   "cell_type": "code",
   "execution_count": null,
   "metadata": {},
   "outputs": [],
   "source": [
    "colors = {'Jurkat' : 'r',\n",
    "          'J-Lat+DMSO' : 'b',\n",
    "          'J-Lat+SAHA' : 'g'}\n",
    "for experiment in experiments :\n",
    "    fig = plt.figure()\n",
    "    scatter_with_label(experiment.embedding, experiment.alive_labels, 'Jurkat', colors['Jurkat'])\n",
    "    scatter_with_label(experiment.embedding, experiment.alive_labels, 'J-Lat+DMSO', colors['J-Lat+DMSO'])\n",
    "    scatter_with_label(experiment.embedding, experiment.alive_labels, 'J-Lat+SAHA', colors['J-Lat+SAHA'])\n",
    "    plt.title(experiment.sample_name, fontsize=32)\n",
    "    plt.legend()\n",
    "    fig.savefig('%s/figures/%s.png'%(sc_hiv_rootdir, experiment.sample_name))\n",
    "    plt.show()"
   ]
  },
  {
   "cell_type": "markdown",
   "metadata": {},
   "source": [
    "## Cell cycle\n",
    "Now I'll try to factor in the information on the cell cycle. I downloaded a dataset of genes associated with a given cell cycle phase. Let's try to plot the cells with a color that corresponds to how likely that cell is in a given cell cycle phase."
   ]
  },
  {
   "cell_type": "code",
   "execution_count": null,
   "metadata": {},
   "outputs": [],
   "source": [
    "# create a dictionary with all the genes listed\n",
    "cell_cycle_genes = {}\n",
    "with open('%s/data/Dominguez2016/cell_cycle_genes.csv'%(sc_hiv_rootdir), 'r') as f :\n",
    "    for line in f :\n",
    "        gene, phase = line.strip('\\n').split()\n",
    "        cell_cycle_genes[gene] = phase"
   ]
  },
  {
   "cell_type": "code",
   "execution_count": null,
   "metadata": {},
   "outputs": [],
   "source": [
    "# create a list of genes with their names without their splicing variants\n",
    "condensedgenes = {g.split('.')[0] : g for g in experiment.matrix.columns}"
   ]
  },
  {
   "cell_type": "code",
   "execution_count": null,
   "metadata": {},
   "outputs": [],
   "source": [
    "# get the name of the phases\n",
    "phases = set(cell_cycle_genes.values())"
   ]
  },
  {
   "cell_type": "code",
   "execution_count": null,
   "metadata": {},
   "outputs": [],
   "source": [
    "for experiment in experiments :\n",
    "    experiment.phase_score = {}\n",
    "    for phase in phases :\n",
    "        experiment.phase_score[phase] = pd.Series(0, index=experiment.matrix.index)\n",
    "    for gene, phase in cell_cycle_genes.iteritems() :\n",
    "        if gene not in condensedgenes :\n",
    "            continue\n",
    "        experiment.phase_score[phase] += experiment.matrix[condensedgenes[gene]]"
   ]
  },
  {
   "cell_type": "code",
   "execution_count": null,
   "metadata": {},
   "outputs": [],
   "source": [
    "for experiment in experiments :\n",
    "    experiment.total_expression = experiment.matrix.sum(axis=1)"
   ]
  },
  {
   "cell_type": "code",
   "execution_count": null,
   "metadata": {},
   "outputs": [],
   "source": [
    "for cell in experiment.matrix.iterrows() :\n",
    "    cell_tot = experiment.total_expression[cell[0]]\n",
    "    print '%s %.3f %.3f'%(cell[0], experiment.phase_score['G1-S'][cell[0]]/cell_tot,\n",
    "                                   experiment.phase_score['G2-M'][cell[0]]/cell_tot)\n",
    "    # experiment.phase_score['G1-S']"
   ]
  },
  {
   "cell_type": "code",
   "execution_count": null,
   "metadata": {},
   "outputs": [],
   "source": [
    "plt.scatter(experiment.phase_score['G1-S']/experiment.total_expression,\n",
    "            experiment.phase_score['G2-M']/experiment.total_expression)"
   ]
  }
 ],
 "metadata": {
  "kernelspec": {
   "display_name": "Python 2",
   "language": "python",
   "name": "python2"
  },
  "language_info": {
   "codemirror_mode": {
    "name": "ipython",
    "version": 2
   },
   "file_extension": ".py",
   "mimetype": "text/x-python",
   "name": "python",
   "nbconvert_exporter": "python",
   "pygments_lexer": "ipython2"
  }
 },
 "nbformat": 4,
 "nbformat_minor": 2
}
