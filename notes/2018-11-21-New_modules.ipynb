{
 "cells": [
  {
   "cell_type": "markdown",
   "metadata": {},
   "source": [
    "# 2018-11-21 New modules\n",
    "In the last few notes we redefined dead and alive cells. Let's now recalculate the gene expression modules with this new definition.\n",
    "\n",
    "I'll copy and paste the function from the scripts \"sc_hiv.R\" and \"GeneExpressionClustering.R\" because we need to adapt them to the new definition of alive vs dead."
   ]
  },
  {
   "cell_type": "code",
   "execution_count": null,
   "metadata": {},
   "outputs": [],
   "source": [
    "# load useful libraries\n",
    "library(WGCNA)\n",
    "allowWGCNAThreads()\n",
    "library(biomaRt)\n",
    "library(ggplot2)\n",
    "library(RColorBrewer)\n",
    "theme_set(theme_bw())"
   ]
  },
  {
   "cell_type": "code",
   "execution_count": null,
   "metadata": {},
   "outputs": [],
   "source": [
    "MostVariableGenesNaive <- function(X, ngenes, sampleSheet) {\n",
    "    # select the group of genes from the untreated J-Lat cells\n",
    "    jlat.untreated <- X[, sampleSheet$status == 'nontreated']\n",
    "\n",
    "    # establish which are the most highly varying genes, based on a simple\n",
    "    # criterion of maximum variance/mean.\n",
    "    gene.variances <- apply(jlat.untreated, 1, var)\n",
    "    gene.means <- apply(jlat.untreated, 1, mean)\n",
    "    gene.variability <- gene.variances/gene.means\n",
    "\n",
    "    # get the names of the genes that have the greatest biological variation, \n",
    "    selected <- order(gene.variability, decreasing = TRUE)[1:ngenes]\n",
    "    rownames(jlat.untreated[selected, ])\n",
    "}"
   ]
  },
  {
   "cell_type": "code",
   "execution_count": null,
   "metadata": {},
   "outputs": [],
   "source": [
    "PrepareDataForClustering <- function(X, sampleSheet, genes, cut) {\n",
    "    # select the group of genes from the untreated J-Lat cells\n",
    "    jlat.untreated <- X[, sampleSheet$status == 'nontreated']\n",
    "\n",
    "    # extract a data frame with the values of the expressions for each of the genes\n",
    "    # that the user selected\n",
    "    datExpr0 <- as.data.frame(t(jlat.untreated[genes, ]))\n",
    "\n",
    "    # do quality control\n",
    "    gsg <- goodSamplesGenes(datExpr0, verbose = 3);\n",
    "    if (!gsg$allOK) {\n",
    "        stop(\"Do proper quality control on genes!\") \n",
    "    }\n",
    "\n",
    "    # extract the hierarchical clustering tree of the samples\n",
    "    sampleTree <- hclust(dist(datExpr0), method = \"average\");\n",
    "\n",
    "    # plot size\n",
    "    options(repr.plot.width = 10, repr.plot.height = 6)\n",
    "\n",
    "    # detect outliers\n",
    "    par(cex = 0.6);\n",
    "    par(mar = c(0,4,2,0))\n",
    "    plot(sampleTree,\n",
    "         main     = \"Sample clustering to detect outliers\",\n",
    "         sub      = \"\",\n",
    "         xlab     = \"\",\n",
    "         cex.lab  = 1.5,\n",
    "         cex.axis = 1.5,\n",
    "         cex.main = 2)\n",
    "\n",
    "    # Plot a line to show the cut\n",
    "    abline(h = cut, col = \"red\");\n",
    "\n",
    "    # cut the tree according to the user-supplied `cut` parameter, and then \n",
    "    # clust 1 will contains the samples we want to keep.\n",
    "    clust <- cutreeStatic(sampleTree, cutHeight = cut, minSize = 10)\n",
    "    keepSamples <- (clust == 1)\n",
    "\n",
    "    # if everything is okay, define a new data expression data.frame\n",
    "    datExpr0[keepSamples, ]\n",
    "}"
   ]
  },
  {
   "cell_type": "code",
   "execution_count": null,
   "metadata": {},
   "outputs": [],
   "source": [
    "# this function outputs a plot that allows to choose the best value of the\n",
    "# soft thresholding power\n",
    "PrepareClustering <- function (datExpr) {\n",
    "    # Choose a set of soft-thresholding powers\n",
    "    powers <- c(c(1:10), seq(from = 12, to=20, by=2))\n",
    "\n",
    "    # Call the network topology analysis function\n",
    "    sft <- pickSoftThreshold(datExpr, powerVector = powers, verbose = 5)\n",
    "    \n",
    "    # number of genes and number of samples\n",
    "    nGenes <- ncol(datExpr)\n",
    "    nSamples <- nrow(datExpr)\n",
    "\n",
    "    # Plot the results:\n",
    "    par(mfrow = c(1,2))\n",
    "    cex1 = 0.9\n",
    "    options(repr.plot.width = 10, repr.plot.height = 6)\n",
    "\n",
    "    # Scale-free topology fit index as a function of the soft-thresholding power\n",
    "    plot(sft$fitIndices[,1], -sign(sft$fitIndices[,3])*sft$fitIndices[,2],\n",
    "         xlab = \"Soft Threshold (power)\",\n",
    "         ylab = \"Scale Free Topology Model Fit,signed R^2\",\n",
    "         type = \"n\",\n",
    "         main = paste(\"Scale independence\"))\n",
    "\n",
    "    text(sft$fitIndices[,1], -sign(sft$fitIndices[,3])*sft$fitIndices[,2],\n",
    "         labels = powers,\n",
    "         cex    = cex1,\n",
    "         col    = \"red\");\n",
    "\n",
    "    # this line corresponds to using an R^2 cut-off of h\n",
    "    abline(h = 0.90, col = \"red\")\n",
    "\n",
    "    # Mean connectivity as a function of the soft-thresholding power\n",
    "    plot(sft$fitIndices[,1], sft$fitIndices[,5],\n",
    "         xlab = \"Soft Threshold (power)\",\n",
    "         ylab = \"Mean Connectivity\",\n",
    "         type = \"n\",\n",
    "         main = paste(\"Mean connectivity\"))\n",
    "\n",
    "    text(sft$fitIndices[,1], sft$fitIndices[,5],\n",
    "         labels = powers,\n",
    "         cex    = cex1,\n",
    "         col    = \"red\")\n",
    "}"
   ]
  },
  {
   "cell_type": "code",
   "execution_count": null,
   "metadata": {},
   "outputs": [],
   "source": [
    "VisualizeClustering <- function (net) {\n",
    "    # plot size\n",
    "    options(repr.plot.width = 10, repr.plot.height = 6)\n",
    "\n",
    "    # Convert labels to colors for plotting\n",
    "    mergedColors <- labels2colors(net$colors)\n",
    "\n",
    "    # Plot the dendrogram and the module colors underneath\n",
    "    plotDendroAndColors(net$dendrograms[[1]],\n",
    "                        mergedColors[net$blockGenes[[1]]],\n",
    "                        \"Module colors\",\n",
    "                        dendroLabels = FALSE,\n",
    "                        hang = 0.03,\n",
    "                        addGuide = TRUE,\n",
    "                        guideHang = 0.05)\n",
    "}"
   ]
  },
  {
   "cell_type": "code",
   "execution_count": null,
   "metadata": {},
   "outputs": [],
   "source": [
    "GeneColors <- function (datExpr, net) {\n",
    "    # get the module labels, transform them into colors\n",
    "    colors <- labels2colors(net$colors)\n",
    "\n",
    "    # get the names of the genes\n",
    "    genes <- colnames(datExpr)\n",
    "    \n",
    "    # put the things together\n",
    "    C <- data.frame(color = colors)\n",
    "    rownames(C) <- genes\n",
    "    \n",
    "    # return\n",
    "    C\n",
    "}"
   ]
  },
  {
   "cell_type": "code",
   "execution_count": null,
   "metadata": {},
   "outputs": [],
   "source": [
    "ModuleAnalysis <- function (colors, exprMatrix, sampleSheet) {\n",
    "\n",
    "    # here, \"colors\" is a data frame that has as row names the names of \n",
    "    # the genes that were use in the identification of the modules. Then\n",
    "    # there is a column that is called \"color\" that represents what module that\n",
    "    # particular gene belongs to.\n",
    "\n",
    "    # select only the genes that we selected before, of the treated cells,\n",
    "    # and then transpose the matrix to be given to WGCNA\n",
    "    myExprMatrix <- t(exprMatrix[rownames(colors), sampleSheet$status == \"treated\"])\n",
    "\n",
    "    # get the module eigengenes of the *new* data set: that is, we assign the\n",
    "    # expression profiles of the treated data set based on the gene modules of the\n",
    "    # untreated cells\n",
    "    MEs <- moduleEigengenes(myExprMatrix, colors$color)$eigengenes\n",
    "    MEs <- orderMEs(MEs)\n",
    "\n",
    "    # get the names of the cells that we have selected, and extract the HIV profile\n",
    "    # of those cells\n",
    "    myCells <- rownames(myExprMatrix)\n",
    "    hiv <- t(exprMatrix[\"FILIONG01\", myCells])\n",
    "\n",
    "    # parameters of our data set\n",
    "    nGenes <- ncol(myExprMatrix)\n",
    "    nSamples <- nrow(myExprMatrix)\n",
    "\n",
    "    # correlate the module eigengenes to the HIV expression patterns, and \n",
    "    # calculate the corresponding p value\n",
    "    moduleHivCor <- cor(MEs, hiv, use = \"p\")\n",
    "    moduleHivPvalue <- corPvalueStudent(moduleHivCor, nSamples)\n",
    "\n",
    "    # prepare the return data structure `module`\n",
    "    modules <- list()\n",
    "\n",
    "    # add the information on the module eigengenes, together with the hiv\n",
    "    # expression associated to each cell\n",
    "    modules[[\"MEs\"]] <- data.frame(MEs)\n",
    "    rownames(modules[[\"MEs\"]]) <- myCells\n",
    "    modules[[\"MEs\"]]$hiv <- hiv\n",
    "\n",
    "    # add the statistics associated to the module eigengenes - to - HIV\n",
    "    # correlation\n",
    "    modules[[\"stats\"]] <- data.frame(cor = moduleHivCor, p = moduleHivPvalue)\n",
    "    names(modules[[\"stats\"]]) <- c(\"cor\", \"p\")\n",
    "\n",
    "    # extract the names from the MEs (because they are MEgrey...)\n",
    "    modNames <- substring(names(MEs), 3)\n",
    "\n",
    "    # evaluate gene module membership, with associated p-values, and gene\n",
    "    # to HIV correlations, together with p-values. The following two data frames are\n",
    "    # full matrices: the row is the gene, the column is the module membership score,\n",
    "    # and in the second one it is the p-value associated to belonging to that module.\n",
    "    geneModuleMembership  <- cor(myExprMatrix, MEs, use = \"p\")\n",
    "    MMPvalue              <- corPvalueStudent(as.matrix(geneModuleMembership), nSamples)\n",
    "    colnames(geneModuleMembership) <- modNames\n",
    "    colnames(MMPvalue) <- modNames\n",
    "    modules[[\"MM\"]] <- as.data.frame(geneModuleMembership)\n",
    "    modules[[\"MMP\"]] <- as.data.frame(MMPvalue)\n",
    "\n",
    "    # calculate gene correlation to HIV expression, along with its p-value\n",
    "    geneTraitSignificance <- cor(myExprMatrix, hiv, use = \"p\")\n",
    "    GSPvalue              <- corPvalueStudent(as.matrix(geneTraitSignificance), nSamples)\n",
    "    GS <- data.frame(TS = geneTraitSignificance, TSP = GSPvalue)\n",
    "    colnames(GS) <- c(\"GS\", \"GSP\")\n",
    "    modules[[\"GS\"]] <- GS\n",
    "    \n",
    "    # return\n",
    "    modules\n",
    "}"
   ]
  },
  {
   "cell_type": "markdown",
   "metadata": {},
   "source": [
    "## Load data"
   ]
  },
  {
   "cell_type": "code",
   "execution_count": null,
   "metadata": {},
   "outputs": [],
   "source": [
    "# load the data\n",
    "matrices.dir <- \"/home/rcortini/work/CRG/projects/sc_hiv/data/matrices\"\n",
    "merged <- read.table(sprintf('%s/exprMatrix.csv', matrices.dir),\n",
    "                     header = TRUE, row.names = 1,\n",
    "                     sep = \"\\t\", check.names = FALSE)\n",
    "\n",
    "# load sample sheet\n",
    "sampleSheet <- read.table(sprintf('%s/samplesheet.csv', matrices.dir),\n",
    "                          header = TRUE,\n",
    "                          row.names = 1)\n",
    "\n",
    "# remove dead cells\n",
    "sampleSheet <- sampleSheet[sampleSheet$status != \"dead\", ]"
   ]
  },
  {
   "cell_type": "markdown",
   "metadata": {},
   "source": [
    "## Two plates merged\n",
    "After loading the data, we have the choice on how to treat it. We can either separate the two samples, or we can decide that we merge the two samples and do the clustering on the whole data set. Let's start by the latter.\n",
    "\n",
    "The thing is that it will be impossible to do clustering on the two merged samples without removing the batch effects first. The simplest possible approach to remove batch effects, without doing the complicated `mnnCorrect` procedure, is to normalize by the total expression."
   ]
  },
  {
   "cell_type": "code",
   "execution_count": null,
   "metadata": {},
   "outputs": [],
   "source": [
    "# normalize\n",
    "totalExpression <- colSums(merged)\n",
    "merged.normalized <- t(t(merged)/totalExpression)"
   ]
  },
  {
   "cell_type": "code",
   "execution_count": null,
   "metadata": {},
   "outputs": [],
   "source": [
    "merged.most.variable.genes.naive <- MostVariableGenesNaive(merged, sampleSheet, ngenes = 5000)\n",
    "merged.datExpr <- PrepareDataForClustering(merged.normalized, sampleSheet,\n",
    "                                          merged.most.variable.genes.naive,\n",
    "                                          cut = 0.02)"
   ]
  },
  {
   "cell_type": "code",
   "execution_count": null,
   "metadata": {},
   "outputs": [],
   "source": [
    "PrepareClustering(merged.datExpr)"
   ]
  },
  {
   "cell_type": "code",
   "execution_count": null,
   "metadata": {},
   "outputs": [],
   "source": [
    "merged.net <- blockwiseModules(merged.datExpr,\n",
    "                        power             = 5,\n",
    "                        TOMType           = \"unsigned\",\n",
    "                        inModuleSize      = 30,\n",
    "                        reassignThreshold = 0,\n",
    "                        mergeCutHeight    = 0.25,\n",
    "                        numericLabels     = TRUE,\n",
    "                        pamRespectsDendro = FALSE,\n",
    "                        verbose           = 0)"
   ]
  },
  {
   "cell_type": "code",
   "execution_count": null,
   "metadata": {},
   "outputs": [],
   "source": [
    "VisualizeClustering(merged.net)"
   ]
  },
  {
   "cell_type": "markdown",
   "metadata": {},
   "source": [
    "So here the clustering looks not very encouraging. Let's associate the clustering to the HIV expression."
   ]
  },
  {
   "cell_type": "code",
   "execution_count": null,
   "metadata": {},
   "outputs": [],
   "source": [
    "merged.colors <- GeneColors(merged.datExpr, merged.net)\n",
    "merged.modules <- ModuleAnalysis(merged.colors, merged, sampleSheet)"
   ]
  },
  {
   "cell_type": "code",
   "execution_count": null,
   "metadata": {},
   "outputs": [],
   "source": [
    "merged.modules$stats"
   ]
  },
  {
   "cell_type": "markdown",
   "metadata": {},
   "source": [
    "So, as we already saw in the previous analysis, there is no significant correlation between the modules here and the HIV expression values.\n",
    "\n",
    "## Two separate samples\n",
    "\n",
    "Now let's go back and try to do the analysis with the two samples separated.\n",
    "\n",
    "### P2449"
   ]
  },
  {
   "cell_type": "code",
   "execution_count": null,
   "metadata": {},
   "outputs": [],
   "source": [
    "# select the cells from the sample that we want\n",
    "P2449.cells <- substring(colnames(merged), 0, 5) == \"P2449\"\n",
    "P2449 <- merged[, P2449.cells]\n",
    "P2449.sampleSheet <- sampleSheet[P2449.cells, ]"
   ]
  },
  {
   "cell_type": "code",
   "execution_count": null,
   "metadata": {},
   "outputs": [],
   "source": [
    "P2449.most.variable.genes.naive <- MostVariableGenesNaive(P2449, P2449.sampleSheet, ngenes = 5000)\n",
    "P2449.datExpr <- PrepareDataForClustering(P2449, P2449.sampleSheet,\n",
    "                                          genes = P2449.most.variable.genes.naive,\n",
    "                                          cut = 14000)"
   ]
  },
  {
   "cell_type": "code",
   "execution_count": null,
   "metadata": {},
   "outputs": [],
   "source": [
    "PrepareClustering(P2449.datExpr)"
   ]
  },
  {
   "cell_type": "code",
   "execution_count": null,
   "metadata": {},
   "outputs": [],
   "source": [
    "P2449.net <- blockwiseModules(P2449.datExpr,\n",
    "                        power             = 5,\n",
    "                        TOMType           = \"unsigned\",\n",
    "                        inModuleSize      = 30,\n",
    "                        reassignThreshold = 0,\n",
    "                        mergeCutHeight    = 0.25,\n",
    "                        numericLabels     = TRUE,\n",
    "                        pamRespectsDendro = FALSE,\n",
    "                        verbose           = 0)"
   ]
  },
  {
   "cell_type": "code",
   "execution_count": null,
   "metadata": {},
   "outputs": [],
   "source": [
    "VisualizeClustering(P2449.net)"
   ]
  },
  {
   "cell_type": "code",
   "execution_count": null,
   "metadata": {},
   "outputs": [],
   "source": [
    "P2449.colors <- GeneColors(P2449.datExpr, P2449.net)\n",
    "P2449.modules <- ModuleAnalysis(P2449.colors, P2449, P2449.sampleSheet)"
   ]
  },
  {
   "cell_type": "code",
   "execution_count": null,
   "metadata": {},
   "outputs": [],
   "source": [
    "P2449.modules$stats"
   ]
  },
  {
   "cell_type": "markdown",
   "metadata": {},
   "source": [
    "So in this case it's interesting because we obtain a result that is different from the one that we obtained before."
   ]
  },
  {
   "cell_type": "code",
   "execution_count": null,
   "metadata": {},
   "outputs": [],
   "source": [
    "# define the genes we are interested in\n",
    "greyGenes <- rownames(P2449.colors)[which(P2449.colors == \"grey\")]"
   ]
  },
  {
   "cell_type": "code",
   "execution_count": null,
   "metadata": {},
   "outputs": [],
   "source": [
    "grey <- data.frame(MM = P2449.modules[[\"MM\"]][greyGenes, \"grey\"],\n",
    "                   GS = P2449.modules[[\"GS\"]][greyGenes, \"GS\"])\n",
    "rownames(grey) <- greyGenes"
   ]
  },
  {
   "cell_type": "code",
   "execution_count": null,
   "metadata": {},
   "outputs": [],
   "source": [
    "options(repr.plot.width = 3, repr.plot.height = 3)\n",
    "ggplot(grey, aes(x = MM, y = GS)) +\n",
    "       geom_point(col=\"darkgreen\") + \n",
    "       geom_smooth(method=\"lm\", col=\"black\") +\n",
    "       labs(main = \"Grey module\",\n",
    "            x = \"Module Membership\",\n",
    "            y = \"Gene Significance\")"
   ]
  },
  {
   "cell_type": "markdown",
   "metadata": {},
   "source": [
    "The result of this analysis outputs this interesting module that was not picked up before. This \"grey\" module is full of genes that have a high correlation to HIV expression. Let's pick the highest performing genes and make plots of their correlation to HIV expression."
   ]
  },
  {
   "cell_type": "code",
   "execution_count": null,
   "metadata": {},
   "outputs": [],
   "source": [
    "# order the grey genes based on the gene significance values\n",
    "grey.ordered <- rownames(grey[order(grey$GS, decreasing = TRUE),])"
   ]
  },
  {
   "cell_type": "code",
   "execution_count": null,
   "metadata": {},
   "outputs": [],
   "source": [
    "# now put in a data frame the expression values of the grey genes in the treated cells,\n",
    "# together with the HIV expression\n",
    "treated <- P2449.sampleSheet$status==\"treated\"\n",
    "X <- data.frame(expr = t(P2449[grey.ordered, treated]), hiv = t(P2449[\"FILIONG01\", treated]))\n",
    "colnames(X) <- c(grey.ordered, \"hiv\")"
   ]
  },
  {
   "cell_type": "code",
   "execution_count": null,
   "metadata": {},
   "outputs": [],
   "source": [
    "# let's now plot the columns of our X matrix, which has the most significant genes in \n",
    "# the first columns\n",
    "options(repr.plot.width = 2.5, repr.plot.height = 2)\n",
    "for (i in seq(1:10)) {\n",
    "    mygene <- grey.ordered[[i]]\n",
    "    gg <- ggplot(X, aes_string(mygene, \"hiv\")) + geom_point()  +\n",
    "    labs(x = grey.ordered[i], y = \"GFP expression\",\n",
    "         title = sprintf(\"p = %.3f\", P2449.modules[[\"GS\"]][mygene, \"GS\"]))\n",
    "    print(gg)\n",
    "}"
   ]
  },
  {
   "cell_type": "markdown",
   "metadata": {},
   "source": [
    "At this point I could do the analysis also for the P2458 sample, but I would actually like to stop and rethink about how I defined the significant genes in the first place. These plots show that some of the genes that were dubbed as maximally varying in the untreated cells, are actually stably repressed in the treated cells. So it would perhaps be better to think of a better way of defining the maximally varying genes, probably in terms of maximal variability *between the groups* and not *within the groups*. This way we would avoid this tricky problem of having a very high correlation between the HIV expression and the gene expression driven entirely by one outlier."
   ]
  }
 ],
 "metadata": {
  "kernelspec": {
   "display_name": "R",
   "language": "R",
   "name": "ir"
  },
  "language_info": {
   "codemirror_mode": "r",
   "file_extension": ".r",
   "mimetype": "text/x-r-source",
   "name": "R",
   "pygments_lexer": "r"
  }
 },
 "nbformat": 4,
 "nbformat_minor": 2
}
