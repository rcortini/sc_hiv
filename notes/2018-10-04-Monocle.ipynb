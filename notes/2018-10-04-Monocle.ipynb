{
 "cells": [
  {
   "cell_type": "markdown",
   "metadata": {},
   "source": [
    "# 2018-10-04 Monocle\n",
    "I looked at several packages to perform the analysis of the single-cell RNA-seq data, and I found that one of the most cited, best documented packages is an R package called Monocle. I want to explore here the possibilities that open up to use this package to perform the requested task."
   ]
  },
  {
   "cell_type": "code",
   "execution_count": null,
   "metadata": {},
   "outputs": [],
   "source": [
    "# load required libraries\n",
    "library(monocle)\n",
    "library(biomaRt)"
   ]
  },
  {
   "cell_type": "markdown",
   "metadata": {},
   "source": [
    "## Loading data\n",
    "\n",
    "The first thing we'll do is we'll load the data into a data frame that R can handle easily. The Monocle package requires to load three things:\n",
    "- the expression matrix (loaded into a data frame)\n",
    "- the sample sheet (*phenoData*) which contains the information on all the cells\n",
    "- the gene annotation data (*featureData*) which contains information on the genes in the expression matrix\n",
    "\n",
    "The expression matrix has been given to us by the CNAG. Separately I wrote files that describe the characteristics of the cells in each well, as well as very basic information on the genes. We now load the data."
   ]
  },
  {
   "cell_type": "code",
   "execution_count": null,
   "metadata": {},
   "outputs": [],
   "source": [
    "# file names\n",
    "matrices_dir <- \"/home/rcortini/work/CRG/projects/sc_hiv/data/matrices\"\n",
    "sample_name <- \"P2449\"\n",
    "sample_sheet_fname <- sprintf(\"%s/monocle/%s.pd.tsv\", matrices_dir, sample_name)\n",
    "expr_matrix_fname <- sprintf(\"%s/%s.tsv.gz\", matrices_dir, sample_name)"
   ]
  },
  {
   "cell_type": "markdown",
   "metadata": {},
   "source": [
    "Before loading the data a few notes on the options given to the `read.delim` and `read.table` functions. I write `header = TRUE` and `row.names = 1` because the first row and the first column contain the names of the genes, the cells, or the column labels. It is very important to give the `check.names = FALSE` option to `read.table` because otherwise it will automatically convert a dash symbol into a dot, generating an inconsistency between the names of the cells in the `expr_matrix` and the `phenoData`."
   ]
  },
  {
   "cell_type": "code",
   "execution_count": null,
   "metadata": {},
   "outputs": [],
   "source": [
    "# load data\n",
    "sample_sheet <- read.delim(sample_sheet_fname, header = TRUE, row.names = 1)\n",
    "expr_matrix <- read.table(expr_matrix_fname, header = TRUE, row.names = 1,\n",
    "                          sep = \"\\t\", check.names = FALSE)"
   ]
  },
  {
   "cell_type": "markdown",
   "metadata": {},
   "source": [
    "For the gene annotations we extract the names of the genes from the expression matrix, then we use the biomaRt package to get all the symbols associated to the gene names."
   ]
  },
  {
   "cell_type": "code",
   "execution_count": null,
   "metadata": {},
   "outputs": [],
   "source": [
    "gene_full_names <- row.names(expr_matrix)\n",
    "gene_short_names <- gsub(\"\\\\..*\",\"\",gene_full_names)\n",
    "mart <- useDataset(\"hsapiens_gene_ensembl\", useMart(\"ensembl\"))\n",
    "allgenes <- getBM(attributes = c(\"ensembl_gene_id\", \"hgnc_symbol\"),\n",
    "                  values = gene_short_names,\n",
    "                  mart = mart)\n",
    "allgenes_idx <- match(gene_short_names, allgenes$ensembl_gene_id)\n",
    "gene_annotations <- data.frame(gene_full_names, gene_short_names,\n",
    "                               allgenes$hgnc_symbol[allgenes_idx],\n",
    "                               check.names = FALSE, row.names = 1)\n",
    "colnames(gene_annotations) <- c(\"gene_short_name\", \"symbol\")"
   ]
  },
  {
   "cell_type": "markdown",
   "metadata": {},
   "source": [
    "We're now ready to put all this data together in the data structures provided by the Monocle package. We're going to give the `expressionFamily = negbinomial.size()` option to the `newCellDataSet` function because the matrices represent number of reads for each gene, unnormalized."
   ]
  },
  {
   "cell_type": "code",
   "execution_count": null,
   "metadata": {},
   "outputs": [],
   "source": [
    "# apply constructs from monocle package\n",
    "pd <- new(\"AnnotatedDataFrame\", data = sample_sheet)\n",
    "fd <- new(\"AnnotatedDataFrame\", data = gene_annotations)\n",
    "HSMM <- newCellDataSet(as.matrix(expr_matrix),\n",
    "    phenoData = pd, featureData = fd, expressionFamily = negbinomial.size())"
   ]
  },
  {
   "cell_type": "markdown",
   "metadata": {},
   "source": [
    "`HSMM` is the basic data structure that contains all the information on the experiment that we have. Monocle requires to call functions that estimate size factors and dispersions, to then evaluate differences between cells in successive analyses."
   ]
  },
  {
   "cell_type": "code",
   "execution_count": null,
   "metadata": {},
   "outputs": [],
   "source": [
    "# estimate size factors and dispersions\n",
    "HSMM <- estimateSizeFactors(HSMM)\n",
    "HSMM <- estimateDispersions(HSMM)"
   ]
  },
  {
   "cell_type": "markdown",
   "metadata": {},
   "source": [
    "The `HSMM` object is now ready to be used.\n",
    "\n",
    "## Filtering out dead cells\n",
    "\n",
    "The next step in the analysis is to remove cells from the analysis that do not pass quality control. These are already quite evident from the previous plots I made in the Python notebooks. The way we do this in the Monocle package is to add a column to the `phenoData` structure with parameters that allow us to identify cells that don't pass quality control.\n",
    "\n",
    "We'll add a column that we call `Total_mRNAs` to the `phenoData`."
   ]
  },
  {
   "cell_type": "code",
   "execution_count": null,
   "metadata": {},
   "outputs": [],
   "source": [
    "# add total expression to experiment phenoData\n",
    "pData(HSMM)$Total_mRNAs <- Matrix::colSums(exprs(HSMM))\n",
    "print(head(pData(HSMM)))"
   ]
  },
  {
   "cell_type": "markdown",
   "metadata": {},
   "source": [
    "We now want to eliminate from the data set those cells that have too many or too few reads. We'll define the lower limit and upper limit as the ones defined by having less than mean - two standard deviations and mean + two standard deviations. To calculate these means we'll only use the class of \"control\" cells, that are the Jurkat + the non-treated latent cells."
   ]
  },
  {
   "cell_type": "code",
   "execution_count": null,
   "metadata": {},
   "outputs": [],
   "source": [
    "# define the class of control cells\n",
    "jkt <- row.names(subset(pData(HSMM), label == \"Jurkat\"))\n",
    "jlat_untreated <- row.names(subset(pData(HSMM), label == \"J-Lat+DMSO\"))\n",
    "controls <- union(jkt, jlat_untreated)"
   ]
  },
  {
   "cell_type": "code",
   "execution_count": null,
   "metadata": {},
   "outputs": [],
   "source": [
    "# define lower and upper bound on the total mRNA values\n",
    "mRNA_mean <- mean(log10(pData(HSMM[,controls])$Total_mRNAs))\n",
    "mRNA_std  <- sd(log10(pData(HSMM[,controls])$Total_mRNAs))\n",
    "upper_bound <- 10^(mRNA_mean + 2*mRNA_std)\n",
    "lower_bound <- 10^(mRNA_mean - 2*mRNA_std)"
   ]
  },
  {
   "cell_type": "code",
   "execution_count": null,
   "metadata": {},
   "outputs": [],
   "source": [
    "# remove cells that don't pass the criterion\n",
    "HSMM <- HSMM[,pData(HSMM)$Total_mRNAs > lower_bound &\n",
    "              pData(HSMM)$Total_mRNAs < upper_bound]"
   ]
  },
  {
   "cell_type": "markdown",
   "metadata": {},
   "source": [
    "Now the `HSMM` data structure contains the information we want. Let's have a look at the distribution of values of total mRNA counts across the samples we selected."
   ]
  },
  {
   "cell_type": "code",
   "execution_count": null,
   "metadata": {},
   "outputs": [],
   "source": [
    "qplot(Total_mRNAs, data = pData(HSMM), color = label, geom =\n",
    "\"density\") +\n",
    "geom_vline(xintercept = lower_bound) +\n",
    "geom_vline(xintercept = upper_bound)"
   ]
  },
  {
   "cell_type": "code",
   "execution_count": null,
   "metadata": {},
   "outputs": [],
   "source": [
    "HSMM <- detectGenes(HSMM, min_expr = 0.1)\n",
    "head(fData(HSMM))"
   ]
  },
  {
   "cell_type": "markdown",
   "metadata": {},
   "source": [
    "Once we're through with this part, we should verify that the distribution of FPKM in the class of expressed genes follows a roughly log-normal distribution."
   ]
  },
  {
   "cell_type": "code",
   "execution_count": null,
   "metadata": {},
   "outputs": [],
   "source": [
    "library(reshape2)\n",
    "\n",
    "# this generates the list of genes that are expressed in at least 10 cells\n",
    "expressed_genes <- row.names(subset(fData(HSMM),\n",
    "    num_cells_expressed >= 10))\n",
    "\n",
    "# Log-transform each value in the expression matrix.\n",
    "L <- log(exprs(HSMM[expressed_genes,]))\n",
    "\n",
    "# Standardize each gene, so that they are all on the same scale,\n",
    "# Then melt the data with plyr so we can plot it easily\n",
    "melted_dens_df <- melt(Matrix::t(scale(Matrix::t(L))))\n",
    "\n",
    "# Plot the distribution of the standardized gene expression values.\n",
    "qplot(value, geom = \"density\", data = melted_dens_df) +\n",
    "stat_function(fun = dnorm, size = 0.5, color = 'red') +\n",
    "xlab(\"Standardized log(FPKM)\") +\n",
    "ylab(\"Density\")"
   ]
  },
  {
   "cell_type": "markdown",
   "metadata": {},
   "source": [
    "This seems to be ok.\n",
    "\n",
    "## Classification of cells\n",
    "We initialize a `CellTypeHierarchy` to then perform differential expression analysis."
   ]
  },
  {
   "cell_type": "code",
   "execution_count": null,
   "metadata": {},
   "outputs": [],
   "source": [
    "cth <- newCellTypeHierarchy()\n",
    "cth <- addCellType(cth, \"Controls\", classify_func =\n",
    "    function(x) { x[\"FILIONG01\",] < 1 & colnames(x) %in% controls})\n",
    "cth <- addCellType(cth, \"NonResponders\", classify_func =\n",
    "    function(x) { x[\"FILIONG01\",] < 1 & ! colnames(x) %in% controls})\n",
    "cth <- addCellType(cth, \"Responders\", classify_func =\n",
    "    function(x) { x[\"FILIONG01\",] >= 1 })\n",
    "HSMM <- classifyCells(HSMM, cth, 0.1)\n",
    "table(pData(HSMM)$CellType)"
   ]
  },
  {
   "cell_type": "markdown",
   "metadata": {},
   "source": [
    "# Differential expression analysis\n",
    "Once we have our classes and our labels, we can proceed with differential expression analysis. We have a very large list of genes in our list, many of which are non-coding RNAs.\n",
    "\n",
    "First, I remove symbols that don't have a name."
   ]
  },
  {
   "cell_type": "code",
   "execution_count": null,
   "metadata": {},
   "outputs": [],
   "source": [
    "marker_genes <- subset(fData(HSMM)[expressed_genes,],\n",
    "                                 !is.na(symbol))"
   ]
  },
  {
   "cell_type": "markdown",
   "metadata": {},
   "source": [
    "Next, I'll remove LINC genes."
   ]
  },
  {
   "cell_type": "code",
   "execution_count": null,
   "metadata": {},
   "outputs": [],
   "source": [
    "marker_genes <- subset(marker_genes, !grepl(\"^LINC\", symbol))"
   ]
  },
  {
   "cell_type": "markdown",
   "metadata": {},
   "source": [
    "Finally, I'll remove genes without a symbol."
   ]
  },
  {
   "cell_type": "code",
   "execution_count": null,
   "metadata": {},
   "outputs": [],
   "source": [
    "marker_genes <- subset(marker_genes, symbol != \"\")"
   ]
  },
  {
   "cell_type": "markdown",
   "metadata": {},
   "source": [
    "Now I have a list of expressed, not non-coding, with-name genes. Let's see how many they are."
   ]
  },
  {
   "cell_type": "code",
   "execution_count": null,
   "metadata": {},
   "outputs": [],
   "source": [
    "dim(marker_genes)"
   ]
  },
  {
   "cell_type": "markdown",
   "metadata": {},
   "source": [
    "Now let's try to perform the differential expression analysis with all these genes."
   ]
  },
  {
   "cell_type": "code",
   "execution_count": null,
   "metadata": {},
   "outputs": [],
   "source": [
    "diff_test_res <- differentialGeneTest(HSMM[row.names(marker_genes),],\n",
    "                                      fullModelFormulaStr = \"~CellType\")"
   ]
  },
  {
   "cell_type": "code",
   "execution_count": null,
   "metadata": {},
   "outputs": [],
   "source": [
    "sig_genes <- subset(diff_test_res, qval < 0.1)\n",
    "head(sig_genes[,c(\"symbol\", \"pval\", \"qval\")])"
   ]
  },
  {
   "cell_type": "markdown",
   "metadata": {},
   "source": [
    "How many are there?"
   ]
  },
  {
   "cell_type": "code",
   "execution_count": null,
   "metadata": {},
   "outputs": [],
   "source": [
    "dim(sig_genes)"
   ]
  },
  {
   "cell_type": "markdown",
   "metadata": {},
   "source": [
    "Let's plot something."
   ]
  },
  {
   "cell_type": "code",
   "execution_count": null,
   "metadata": {},
   "outputs": [],
   "source": [
    "testgenes <- HSMM[row.names(subset(fData(HSMM),\n",
    "              symbol %in% c(\"UBE3C\", \"TTC27\"))),]\n",
    "plot_genes_jitter(testgenes, grouping = \"label\", ncol= 2)"
   ]
  },
  {
   "cell_type": "markdown",
   "metadata": {},
   "source": [
    "Okay so these plots are not very representative nor very nice. The thing is: what should I do now with all these genes? Maybe better going back to the unsupervised classification."
   ]
  }
 ],
 "metadata": {
  "kernelspec": {
   "display_name": "R",
   "language": "R",
   "name": "ir"
  },
  "language_info": {
   "codemirror_mode": "r",
   "file_extension": ".r",
   "mimetype": "text/x-r-source",
   "name": "R",
   "pygments_lexer": "r"
  }
 },
 "nbformat": 4,
 "nbformat_minor": 2
}
