{
 "cells": [
  {
   "cell_type": "markdown",
   "metadata": {},
   "source": [
    "# 2018-11-28 Modules again\n",
    "We identified that there is a gene module that contains genes that collectively are significantly associated to HIV expression.\n",
    "\n",
    "By redefining maximally varying genes based on a more robust criterion (using a negative binomial distribution instead of a very rough criterion) we discovered that there is one candidate gene that has significant association to the difference between responders and non-responders to the SAHA treatment: PUS10.\n",
    "\n",
    "The disappointing news is that PUS10 does not belong to any of the significant gene modules that we identified earlier. A rapid analysis shows that the problem might be that the definition of which genes go in the analysis and which ones stay out was based on a criterion that has a large impact on the results of the analysis. Therefore, here I want to try to use the criterion adopted for the differential expression analysis, based on negative binomial distribution probabilities, to establish whether a gene will or will not participate in the definition of the modules."
   ]
  },
  {
   "cell_type": "code",
   "execution_count": null,
   "metadata": {},
   "outputs": [],
   "source": [
    "# load WGCNA library\n",
    "library(WGCNA)\n",
    "allowWGCNAThreads()\n",
    "\n",
    "# biomaRt for obtaining information on genes\n",
    "library(biomaRt)\n",
    "\n",
    "# ggplot stuff\n",
    "library(ggplot2)\n",
    "library(RColorBrewer)\n",
    "theme_set(theme_bw())\n",
    "\n",
    "# DESeq\n",
    "library(DESeq)\n",
    "\n",
    "# extra goodies\n",
    "library(Rfast)"
   ]
  },
  {
   "cell_type": "code",
   "execution_count": null,
   "metadata": {},
   "outputs": [],
   "source": [
    "# load the data\n",
    "matrices.dir <- \"/home/rcortini/work/CRG/projects/sc_hiv/data/matrices\"\n",
    "merged <- read.table(sprintf('%s/exprMatrix.csv', matrices.dir),\n",
    "                     header = TRUE, row.names = 1,\n",
    "                     sep = \"\\t\", check.names = FALSE)\n",
    "\n",
    "# load sample sheet\n",
    "sampleSheet <- read.table(sprintf('%s/samplesheet.csv', matrices.dir),\n",
    "                          header = TRUE,\n",
    "                          row.names = 1)\n",
    "\n",
    "# remove dead cells\n",
    "sampleSheet <- sampleSheet[sampleSheet$status != \"dead\", ]"
   ]
  },
  {
   "cell_type": "code",
   "execution_count": null,
   "metadata": {},
   "outputs": [],
   "source": [
    "# load gene annotations file\n",
    "gene.annotations <- sprintf(\"%s/gene_annotations.tsv\", matrices.dir)\n",
    "gene.data <- read.delim(gene.annotations, header = TRUE, sep = \"\\t\",\n",
    "                        row.names = 1, stringsAsFactors = FALSE)\n",
    "gene.data <- subset(gene.data, rownames(gene.data) %in% rownames(merged))"
   ]
  },
  {
   "cell_type": "code",
   "execution_count": null,
   "metadata": {},
   "outputs": [],
   "source": [
    "# load script\n",
    "source(\"/home/rcortini/work/CRG/projects/sc_hiv/scripts/GeneExpressionClustering.R\")"
   ]
  },
  {
   "cell_type": "code",
   "execution_count": null,
   "metadata": {},
   "outputs": [],
   "source": [
    "# normalize\n",
    "totalExpression <- colSums(merged)\n",
    "merged.normalized <- t(t(merged)/totalExpression)"
   ]
  },
  {
   "cell_type": "markdown",
   "metadata": {},
   "source": [
    "So now instead of using the naive criterion for the definition of maximally varying genes, I'll use a new approach. Prepare first the data for interfacing to DESeq."
   ]
  },
  {
   "cell_type": "code",
   "execution_count": null,
   "metadata": {},
   "outputs": [],
   "source": [
    "# select the cells from the sample that we want\n",
    "P2449.cells <- substring(colnames(merged), 0, 5) == \"P2449\"\n",
    "P2449 <- merged[, P2449.cells]\n",
    "P2449.sampleSheet <- sampleSheet[P2449.cells, ]"
   ]
  },
  {
   "cell_type": "code",
   "execution_count": null,
   "metadata": {},
   "outputs": [],
   "source": [
    "# group the cell types together as factors\n",
    "groups <- factor(P2449.sampleSheet$label,\n",
    "                 levels = c(\"Jurkat\", \"J-Lat+DMSO\", \"J-Lat+SAHA\"))\n",
    "table(groups)\n",
    "\n",
    "# cast to integer\n",
    "P2449.int <- as.data.frame(lapply(P2449, as.integer))\n",
    "rownames(P2449.int) <- rownames(P2449)\n",
    "\n",
    "# this is the basic data structure that DESeq understands\n",
    "cds <- newCountDataSet(P2449.int, groups)\n",
    "\n",
    "# estimate size factors\n",
    "cds <- estimateSizeFactors(cds)\n",
    "\n",
    "# estimate dispersion\n",
    "cds <- estimateDispersions(cds, sharingMode=\"gene-est-only\")"
   ]
  },
  {
   "cell_type": "markdown",
   "metadata": {},
   "source": [
    "Now, let's do the differential expression analysis between the treated and non-treated cells."
   ]
  },
  {
   "cell_type": "code",
   "execution_count": null,
   "metadata": {},
   "outputs": [],
   "source": [
    "de.test <- nbinomTest(cds, \"J-Lat+DMSO\", \"J-Lat+SAHA\")"
   ]
  },
  {
   "cell_type": "code",
   "execution_count": null,
   "metadata": {},
   "outputs": [],
   "source": [
    "# this function allows to filter and sort the results of the differential\n",
    "# expression analysis\n",
    "find.significant.genes <- function(de.result, alpha = 0.05) {\n",
    "\n",
    "  # filter out significant genes based on FDR adjusted p-values\n",
    "  filtered <- de.result[(de.result$padj < alpha) &\n",
    "                        !is.infinite(de.result$log2FoldChange) & \n",
    "                        !is.nan(de.result$log2FoldChange),]\n",
    "\n",
    "  # order by p-value\n",
    "  sorted <- filtered[order(filtered$pval),]\n",
    "}"
   ]
  },
  {
   "cell_type": "code",
   "execution_count": null,
   "metadata": {},
   "outputs": [],
   "source": [
    "# perform the filtering and sorting here\n",
    "de.genes <- find.significant.genes(de.test)"
   ]
  },
  {
   "cell_type": "code",
   "execution_count": null,
   "metadata": {},
   "outputs": [],
   "source": [
    "# get the names of the genes\n",
    "genes <- de.genes$id"
   ]
  },
  {
   "cell_type": "code",
   "execution_count": null,
   "metadata": {},
   "outputs": [],
   "source": [
    "# now proceed with the clustering\n",
    "P2449.datExpr <- PrepareDataForClustering(P2449, P2449.sampleSheet,\n",
    "                                          genes = genes,\n",
    "                                          cut = 10000)"
   ]
  },
  {
   "cell_type": "code",
   "execution_count": null,
   "metadata": {},
   "outputs": [],
   "source": [
    "PrepareClustering(P2449.datExpr)"
   ]
  },
  {
   "cell_type": "code",
   "execution_count": null,
   "metadata": {},
   "outputs": [],
   "source": [
    "P2449.net <- blockwiseModules(P2449.datExpr,\n",
    "                        power             = 7,\n",
    "                        TOMType           = \"unsigned\",\n",
    "                        inModuleSize      = 30,\n",
    "                        reassignThreshold = 0,\n",
    "                        mergeCutHeight    = 0.25,\n",
    "                        numericLabels     = TRUE,\n",
    "                        pamRespectsDendro = FALSE,\n",
    "                        verbose           = 0)"
   ]
  },
  {
   "cell_type": "code",
   "execution_count": null,
   "metadata": {},
   "outputs": [],
   "source": [
    "VisualizeClustering(P2449.net)"
   ]
  },
  {
   "cell_type": "code",
   "execution_count": null,
   "metadata": {},
   "outputs": [],
   "source": [
    "P2449.colors <- GeneColors(P2449.datExpr, P2449.net)\n",
    "P2449.modules <- ModuleAnalysis(P2449.colors, P2449, P2449.sampleSheet)\n",
    "P2449.modules$stats"
   ]
  },
  {
   "cell_type": "code",
   "execution_count": null,
   "metadata": {},
   "outputs": [],
   "source": [
    "PUS10 <- \"ENSG00000162927.13\"\n",
    "P2449.modules$MMP #[PUS10,]"
   ]
  },
  {
   "cell_type": "code",
   "execution_count": null,
   "metadata": {},
   "outputs": [],
   "source": [
    "nSamples <- ncol(merged)\n",
    "nGenes <- nrow(merged)"
   ]
  },
  {
   "cell_type": "code",
   "execution_count": null,
   "metadata": {},
   "outputs": [],
   "source": [
    "threshold <- 0.5\n",
    "percent.zero <- rowSums(merged == 0)/nSamples\n",
    "active.genes <- rownames(merged)[percent.zero<threshold]"
   ]
  },
  {
   "cell_type": "code",
   "execution_count": null,
   "metadata": {},
   "outputs": [],
   "source": [
    "# now proceed with the clustering\n",
    "P2449.datExpr <- PrepareDataForClustering(P2449, P2449.sampleSheet,\n",
    "                                          genes = active.genes,\n",
    "                                          cut = 14000)"
   ]
  },
  {
   "cell_type": "code",
   "execution_count": null,
   "metadata": {},
   "outputs": [],
   "source": [
    "PrepareClustering(P2449.datExpr)"
   ]
  },
  {
   "cell_type": "code",
   "execution_count": null,
   "metadata": {},
   "outputs": [],
   "source": [
    "P2449.net <- blockwiseModules(P2449.datExpr,\n",
    "                        power             = 7,\n",
    "                        TOMType           = \"unsigned\",\n",
    "                        inModuleSize      = 30,\n",
    "                        reassignThreshold = 0,\n",
    "                        mergeCutHeight    = 0.25,\n",
    "                        numericLabels     = TRUE,\n",
    "                        pamRespectsDendro = FALSE,\n",
    "                        verbose           = 0)"
   ]
  },
  {
   "cell_type": "code",
   "execution_count": null,
   "metadata": {},
   "outputs": [],
   "source": [
    "VisualizeClustering(P2449.net)"
   ]
  },
  {
   "cell_type": "code",
   "execution_count": null,
   "metadata": {},
   "outputs": [],
   "source": [
    "P2449.colors <- GeneColors(P2449.datExpr, P2449.net)\n",
    "P2449.modules <- ModuleAnalysis(P2449.colors, P2449, P2449.sampleSheet)\n",
    "P2449.modules$stats"
   ]
  }
 ],
 "metadata": {
  "kernelspec": {
   "display_name": "R",
   "language": "R",
   "name": "ir"
  },
  "language_info": {
   "codemirror_mode": "r",
   "file_extension": ".r",
   "mimetype": "text/x-r-source",
   "name": "R",
   "pygments_lexer": "r"
  }
 },
 "nbformat": 4,
 "nbformat_minor": 2
}
