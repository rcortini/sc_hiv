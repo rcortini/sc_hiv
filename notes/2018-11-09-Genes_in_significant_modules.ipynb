{
 "cells": [
  {
   "cell_type": "markdown",
   "metadata": {},
   "source": [
    "# 2018-11-09 Genes in significant modules\n",
    "\n",
    "I was asked to give the list of the genes that belong to the modules with significant association to HIV. I have to recompile the gene networks, the module eigengenes, and add the information on the genes. Then finally save files in a compact format."
   ]
  },
  {
   "cell_type": "code",
   "execution_count": null,
   "metadata": {},
   "outputs": [],
   "source": [
    "# load our lovely script\n",
    "source(\"/home/rcortini/work/CRG/projects/sc_hiv/scripts/GeneExpressionClustering.R\")\n",
    "library(biomaRt)"
   ]
  },
  {
   "cell_type": "code",
   "execution_count": null,
   "metadata": {},
   "outputs": [],
   "source": [
    "# basic data\n",
    "matrices.dir <- \"/home/rcortini/work/CRG/projects/sc_hiv/data/matrices\"\n",
    "sample.names <- c(\"P2449\", \"P2458\")\n",
    "\n",
    "# init data structures that will hold our data\n",
    "exprMatrices <- list()\n",
    "sampleSheets <- list()\n",
    "\n",
    "# load data\n",
    "for (sample.name in sample.names) {\n",
    "    \n",
    "    # file names\n",
    "    matrix.fname <- sprintf(\"%s/%s.tsv.gz\", matrices.dir, sample.name)\n",
    "    sampleSheet.fname <- sprintf(\"%s/monocle/%s.pd.tsv\", matrices.dir, sample.name)\n",
    "\n",
    "    # parse data\n",
    "    exprMatrices[[sample.name]] <- read.table(matrix.fname, header = TRUE, row.names = 1,\n",
    "                                sep = \"\\t\", check.names = FALSE)\n",
    "    sampleSheets[[sample.name]] <- read.delim(sampleSheet.fname, header = TRUE, row.names = 1)\n",
    "}\n",
    "\n",
    "# load gene annotations file\n",
    "gene.annotations <- sprintf(\"%s/gene_annotations.tsv\", matrices.dir)\n",
    "gene.data <- read.delim(gene.annotations, header = TRUE, row.names = 1, sep = \"\\t\")"
   ]
  },
  {
   "cell_type": "code",
   "execution_count": null,
   "metadata": {},
   "outputs": [],
   "source": [
    "# select our sample\n",
    "sample.name <- \"P2449\"\n",
    "exprMatrix <- exprMatrices[[sample.name]]\n",
    "sampleSheet <- sampleSheets[[sample.name]]\n",
    "\n",
    "# filter the expression data\n",
    "datExpr <- PrepareDatExpr(exprMatrix, sampleSheet, ngenes = 5000, cut = 14000)"
   ]
  },
  {
   "cell_type": "code",
   "execution_count": null,
   "metadata": {},
   "outputs": [],
   "source": [
    "# reconstruct the network\n",
    "net <- ClusterGenes(datExpr, softThresholdPower = 5)\n",
    "\n",
    "# associate network motifs to HIV expression patterns\n",
    "modules <- AssociateClustersToHIV(datExpr, exprMatrix, sampleSheet, net,\n",
    "                                  aliveThreshold = 100000)"
   ]
  },
  {
   "cell_type": "markdown",
   "metadata": {},
   "source": [
    "Now we go on and calculate the module membership (MM) and gene significance (GS) for the individual modules."
   ]
  },
  {
   "cell_type": "code",
   "execution_count": null,
   "metadata": {},
   "outputs": [],
   "source": [
    "# let's go back and calculate the gene module membership and trait significance\n",
    "myExprMatrix <- exprMatrices[[sample.name]]\n",
    "\n",
    "# select only the genes that we selected before\n",
    "myGenes <- colnames(datExpr)\n",
    "myExprMatrix <- myExprMatrix[myGenes, ]\n",
    "\n",
    "# select only J-Lat treated cells\n",
    "myExprMatrix <- myExprMatrix[, sampleSheets[[sample.name]]$label == \"J-Lat+SAHA\"]\n",
    "\n",
    "# select only alive cells\n",
    "myExprMatrix <- myExprMatrix[, colSums(myExprMatrix) > 100000]\n",
    "\n",
    "# finally, transpose to be interfaced to WGCNA\n",
    "myExprMatrix <- t(myExprMatrix)\n",
    "\n",
    "# get the names of the cells that we have selected, and extract the HIV profile\n",
    "# of those cells\n",
    "myCells <- rownames(myExprMatrix)\n",
    "hiv <- t(exprMatrices[[sample.name]][\"FILIONG01\", myCells])"
   ]
  },
  {
   "cell_type": "code",
   "execution_count": null,
   "metadata": {},
   "outputs": [],
   "source": [
    "# parameters of our data set\n",
    "nGenes <- ncol(myExprMatrix)\n",
    "nSamples <- nrow(myExprMatrix)"
   ]
  },
  {
   "cell_type": "code",
   "execution_count": null,
   "metadata": {},
   "outputs": [],
   "source": [
    "# get module eigengenes\n",
    "moduleColors <- labels2colors(net$colors)\n",
    "MEs <- moduleEigengenes(myExprMatrix, moduleColors)$eigengenes\n",
    "MEs <- orderMEs(MEs)\n",
    "\n",
    "# module names\n",
    "modNames <- substring(names(MEs), 3)\n",
    "\n",
    "# evaluate gene module membership\n",
    "geneModuleMembership <- as.data.frame(cor(myExprMatrix, MEs, use = \"p\"))\n",
    "MMPvalue <- as.data.frame(corPvalueStudent(as.matrix(geneModuleMembership), nSamples))\n",
    "names(geneModuleMembership) <- modNames\n",
    "names(MMPvalue) <- paste(\"p.\", modNames, sep=\"\")\n",
    "\n",
    "# evaluate gene trait significance\n",
    "geneTraitSignificance <- as.data.frame(cor(myExprMatrix, hiv, use = \"p\"));\n",
    "GSPvalue <- as.data.frame(corPvalueStudent(as.matrix(geneTraitSignificance), nSamples));\n",
    "names(geneTraitSignificance) <- \"GS.HIV\"\n",
    "names(GSPvalue) <- \"p.GS.HIV\""
   ]
  },
  {
   "cell_type": "markdown",
   "metadata": {},
   "source": [
    "The next step is to get the information for the genes in the significant modules. I'll encapsulate the function to generate the table in one place, so I can then invoke the same piece of code for all the modules I want to study. This function fetches information from the Ensembl database through the `biomaRt` R package, which does the magic."
   ]
  },
  {
   "cell_type": "code",
   "execution_count": null,
   "metadata": {},
   "outputs": [],
   "source": [
    "# a function to extract the names of the genes corresponding to a certain module\n",
    "# of a certain sample name\n",
    "GenesOfModuleTable <- function(module.color, net, datExpr, mart,\n",
    "                              geneModuleMembership, MMPvalue,\n",
    "                              geneTraitSignificance, GSPvalue) {\n",
    "    \n",
    "    # get the list of colors\n",
    "    geneColors <- labels2colors(net$colors)\n",
    "    \n",
    "    # select the genes from that module\n",
    "    genes.idx <- which(geneColors == module.color)\n",
    "    genes <- colnames(datExpr[, genes.idx])\n",
    "    \n",
    "    # get information on the genes\n",
    "    info <- getBM(attributes = c(\"ensembl_gene_id_version\", \"hgnc_symbol\", \"description\"),\n",
    "                  filters = \"ensembl_gene_id_version\",\n",
    "                  values = genes,\n",
    "                  mart = mart)\n",
    "    \n",
    "    # use the \"ensembl_gene_id_version\" column as row names of the data frame\n",
    "    rownames(info) <- info$ensembl_gene_id_version\n",
    "    info$ensembl_gene_id_version <- NULL\n",
    "    \n",
    "    # Now the problem is that not all the genes in the gene lists that we provided were found.\n",
    "    # Therefore we need to define the lists of genes of interest taking that into account.    \n",
    "    genes <- rownames(info)\n",
    "    \n",
    "    # put everything together\n",
    "    info <- cbind(info, MM  = geneModuleMembership[genes, module.color])\n",
    "    info <- cbind(info, MMP = MMPvalue[genes, paste(\"p.\", module.color, sep=\"\")])\n",
    "    info <- cbind(info, GS  = geneTraitSignificance[genes, ])\n",
    "    info <- cbind(info, GSP = GSPvalue[genes, ])\n",
    "    \n",
    "    # save to file\n",
    "    write.table(info,\n",
    "            file = sprintf(\"%s/%s-%s.csv\", matrices.dir, sample.name, module.color),\n",
    "            sep = \",\", col.names = NA)\n",
    "    \n",
    "    # return\n",
    "    as.data.frame(info)\n",
    "}"
   ]
  },
  {
   "cell_type": "code",
   "execution_count": null,
   "metadata": {},
   "outputs": [],
   "source": [
    "# load the data corresponding to human genome in the ENSEMBL Mart\n",
    "mart <- useMart(biomart = \"ensembl\", dataset = \"hsapiens_gene_ensembl\")"
   ]
  },
  {
   "cell_type": "code",
   "execution_count": null,
   "metadata": {},
   "outputs": [],
   "source": [
    "# here I select the modules that are significantly associated to HIV expression\n",
    "darkGreen.info <- GenesOfModuleTable(\"darkgreen\", net, datExpr, mart,\n",
    "                              geneModuleMembership, MMPvalue,\n",
    "                              geneTraitSignificance, GSPvalue)\n",
    "\n",
    "darkTurquoise.info <- GenesOfModuleTable(\"darkturquoise\", net, datExpr, mart,\n",
    "                              geneModuleMembership, MMPvalue,\n",
    "                              geneTraitSignificance, GSPvalue)"
   ]
  }
 ],
 "metadata": {
  "kernelspec": {
   "display_name": "R",
   "language": "R",
   "name": "ir"
  },
  "language_info": {
   "codemirror_mode": "r",
   "file_extension": ".r",
   "mimetype": "text/x-r-source",
   "name": "R",
   "pygments_lexer": "r"
  }
 },
 "nbformat": 4,
 "nbformat_minor": 2
}
