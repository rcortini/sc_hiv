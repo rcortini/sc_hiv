{
 "cells": [
  {
   "cell_type": "markdown",
   "metadata": {},
   "source": [
    "# 2019-03-07 Comparing old and new\n",
    "\n",
    "I did data processing starting from the FASTQ files by myself. I applied a pipeline of data processing both to the new and to the old data.\n",
    "\n",
    "## Comparing old and new pipeline\n",
    "\n",
    "The first that I'm asking myself is whether the results from the old pipeline (data processed at the CNAG) and the current ones are consistent or not."
   ]
  },
  {
   "cell_type": "code",
   "execution_count": null,
   "metadata": {},
   "outputs": [],
   "source": [
    "# load old data\n",
    "old.datadir <- \"../data/matrices\"\n",
    "P2449 <- read.table(sprintf('%s/P2449.tsv.gz', old.datadir),\n",
    "                    header = TRUE, row.names = 1,\n",
    "                    sep = \"\\t\", check.names = FALSE)\n",
    "P2458 <- read.table(sprintf('%s/P2458.tsv.gz', old.datadir),\n",
    "                    header = TRUE, row.names = 1,\n",
    "                    sep = \"\\t\", check.names = FALSE)\n",
    "old.data <- cbind(P2449, P2458)"
   ]
  },
  {
   "cell_type": "code",
   "execution_count": null,
   "metadata": {},
   "outputs": [],
   "source": [
    "# load new data\n",
    "new.datadir <- \"../data/fastq/postprocess\"\n",
    "new.data <- read.table(sprintf('%s/exprMatrix.tsv', new.datadir),\n",
    "                    header = TRUE, row.names = 1,\n",
    "                    sep = \"\\t\", check.names = FALSE)"
   ]
  },
  {
   "cell_type": "markdown",
   "metadata": {},
   "source": [
    "Load also the sample sheet."
   ]
  },
  {
   "cell_type": "code",
   "execution_count": null,
   "metadata": {},
   "outputs": [],
   "source": [
    "sample.sheet.fname <- sprintf(\"%s/samplesheet.csv\", old.datadir)\n",
    "sample.sheet <- read.delim(sample.sheet.fname, header = TRUE, row.names = 1)"
   ]
  },
  {
   "cell_type": "markdown",
   "metadata": {},
   "source": [
    "The first thing I want to look at is whether the HIV expression values are consistent between the two.\n",
    "\n",
    "**CAREFUL**: when doing the analysis, we must take care when comparing different samples, as the order of the samples is different in the two matrices!"
   ]
  },
  {
   "cell_type": "code",
   "execution_count": null,
   "metadata": {},
   "outputs": [],
   "source": [
    "# prepare a data frame that will hold only the values of the HIV expression in the two samples\n",
    "hiv <- data.frame(old = t(old.data[\"FILIONG01\", ]),\n",
    "                  new = t(new.data[\"FILIONG01\",match(colnames(old.data), colnames(new.data))]))\n",
    "colnames(hiv) <- c(\"old\", \"new\")\n",
    "hiv$status <- sample.sheet$status\n",
    "hiv$label <- sample.sheet$label"
   ]
  },
  {
   "cell_type": "markdown",
   "metadata": {},
   "source": [
    "Let's start by asking a simple question: what is the mean expression level of the HIV in the non-treated samples? Should be zero."
   ]
  },
  {
   "cell_type": "code",
   "execution_count": null,
   "metadata": {},
   "outputs": [],
   "source": [
    "mean(hiv[hiv$status == \"nontreated\", \"new\"])"
   ]
  },
  {
   "cell_type": "markdown",
   "metadata": {},
   "source": [
    "Good. Inspecting the data frame I see that there is only one cell that was not treated in which there is a value of 2 in column.\n",
    "\n",
    "Let's look at the correlation between old results and new ones as for the HIV transcript."
   ]
  },
  {
   "cell_type": "code",
   "execution_count": null,
   "metadata": {},
   "outputs": [],
   "source": [
    "options(repr.plot.width = 4, repr.plot.height = 4)\n",
    "plot(hiv$old, hiv$new, xlab = \"Old Pipeline\", ylab = \"New Pipeline\", main = \"HIV\")"
   ]
  },
  {
   "cell_type": "markdown",
   "metadata": {},
   "source": [
    "Very good.\n",
    "\n",
    "Let's have a look at some other cases. I'll select the case of highly expressed genes and see whether there is some good correlation."
   ]
  },
  {
   "cell_type": "code",
   "execution_count": null,
   "metadata": {},
   "outputs": [],
   "source": [
    "highly.expressed.genes <- row.names(old.data[rowSums(old.data) > 5000, ])\n",
    "my.gene <- highly.expressed.genes[[3]]\n",
    "df <- data.frame(old = t(old.data[my.gene, ]),\n",
    "                 new = t(new.data[my.gene, match(colnames(old.data), colnames(new.data))]))\n",
    "colnames(df) <- c(\"old\", \"new\")"
   ]
  },
  {
   "cell_type": "code",
   "execution_count": null,
   "metadata": {},
   "outputs": [],
   "source": [
    "options(repr.plot.width = 4, repr.plot.height = 4)\n",
    "plot(df$old, df$new, xlab = \"Old Pipeline\", ylab = \"New Pipeline\",\n",
    "     main = my.gene)"
   ]
  },
  {
   "cell_type": "markdown",
   "metadata": {},
   "source": [
    "Let's do some more global analyses.\n",
    "\n",
    "Correlation of the expression levels of all the genes."
   ]
  },
  {
   "cell_type": "code",
   "execution_count": null,
   "metadata": {},
   "outputs": [],
   "source": [
    "# this is needed because the names of the genes in the old data set does not coincide\n",
    "# with the names of the genes in the second data set\n",
    "mygenes <- intersect(rownames(salmon.genes), rownames(old.data))"
   ]
  },
  {
   "cell_type": "code",
   "execution_count": null,
   "metadata": {},
   "outputs": [],
   "source": [
    "sample.id <- \"P2458_N710-S518\"\n",
    "plot(old.data[mygenes, sample.id],\n",
    "     new.data[mygenes, sample.id],\n",
    "     xlab = \"Old Pipeline\",\n",
    "     ylab = \"New Pipeline\",\n",
    "     main = \"All genes\")"
   ]
  },
  {
   "cell_type": "markdown",
   "metadata": {},
   "source": [
    "Okay, so apart from a few weirdos, everything is looking good. Let's look at global gene expression and global number of reads."
   ]
  },
  {
   "cell_type": "code",
   "execution_count": null,
   "metadata": {},
   "outputs": [],
   "source": [
    "# gene sums\n",
    "gene.sums <- data.frame(old = rowSums(old.data)[mygenes] ,\n",
    "                        new = rowSums(new.data)[mygenes])\n",
    "plot(gene.sums$old,\n",
    "     gene.sums$new, xlab = \"Old Pipeline\", ylab = \"New Pipeline\", main = \"Gene Sums\")"
   ]
  },
  {
   "cell_type": "code",
   "execution_count": null,
   "metadata": {},
   "outputs": [],
   "source": [
    "# gene sums\n",
    "cell.sums <- data.frame(old = colSums(old.data) ,\n",
    "                        new = colSums(new.data)[match(colnames(old.data), colnames(new.data))])\n",
    "plot(cell.sums$old,\n",
    "     cell.sums$new, xlab = \"Old Pipeline\", ylab = \"New Pipeline\", main = \"Cell Sums\")"
   ]
  },
  {
   "cell_type": "markdown",
   "metadata": {},
   "source": [
    "This is good."
   ]
  }
 ],
 "metadata": {
  "kernelspec": {
   "display_name": "R",
   "language": "R",
   "name": "ir"
  },
  "language_info": {
   "codemirror_mode": "r",
   "file_extension": ".r",
   "mimetype": "text/x-r-source",
   "name": "R",
   "pygments_lexer": "r"
  }
 },
 "nbformat": 4,
 "nbformat_minor": 2
}
