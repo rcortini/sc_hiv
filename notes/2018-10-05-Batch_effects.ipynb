{
 "cells": [
  {
   "cell_type": "markdown",
   "metadata": {},
   "source": [
    "# 2018-10-05 Batch effects\n",
    "\n",
    "This is just a vague hope that there will be a way to avoid the removal of batch effects, just due to the fact that putting together the two batches and clustering will do the magic."
   ]
  },
  {
   "cell_type": "code",
   "execution_count": null,
   "metadata": {},
   "outputs": [],
   "source": [
    "%matplotlib inline\n",
    "%load_ext autoreload\n",
    "%autoreload 2"
   ]
  },
  {
   "cell_type": "code",
   "execution_count": null,
   "metadata": {},
   "outputs": [],
   "source": [
    "import numpy as np\n",
    "import matplotlib.pyplot as plt\n",
    "import mybiotools as mbt\n",
    "import os, sys, gzip\n",
    "import pandas as pd\n",
    "import umap"
   ]
  },
  {
   "cell_type": "code",
   "execution_count": null,
   "metadata": {},
   "outputs": [],
   "source": [
    "# define paths and file names\n",
    "sc_hiv_rootdir = '%s/work/CRG/projects/sc_hiv'%(os.getenv('HOME'))\n",
    "datadir = '%s/data'%(sc_hiv_rootdir)\n",
    "matrices_dir = '%s/matrices'%(datadir)"
   ]
  },
  {
   "cell_type": "code",
   "execution_count": null,
   "metadata": {},
   "outputs": [],
   "source": [
    "class SsHIVExperiment :\n",
    "    def __init__(self, sample_name) :\n",
    "        \n",
    "        # sample name\n",
    "        self.sample_name = sample_name\n",
    "        \n",
    "        # expression matrix\n",
    "        self.matrix_fname = '%s/%s.tsv.gz'%(matrices_dir, sample_name)\n",
    "        # we use the read_csv function with option \"index_col = 'gene'\" so that we will\n",
    "        # be able to classify the rows of the file according to the gene name\n",
    "        self.matrix = pd.read_csv(self.matrix_fname,\n",
    "                                  delimiter='\\t',\n",
    "                                  index_col='gene').transpose()"
   ]
  },
  {
   "cell_type": "code",
   "execution_count": null,
   "metadata": {},
   "outputs": [],
   "source": [
    "# parse the experiment matrices and put everything in a Pandas DataFrame\n",
    "sample_names = ['P2449', 'P2458']\n",
    "experiments = []\n",
    "for sample_name in sample_names :\n",
    "    experiment = SsHIVExperiment(sample_name)\n",
    "    experiment.labels = pd.Series(['Jurkat']*6 + ['J-Lat+DMSO']*30 + ['J-Lat+SAHA']*60,\n",
    "                                  index=experiment.matrix.index)\n",
    "    experiments.append(experiment)"
   ]
  },
  {
   "cell_type": "code",
   "execution_count": null,
   "metadata": {},
   "outputs": [],
   "source": [
    "threshold = 100000.0\n",
    "for experiment in experiments :\n",
    "    experiment.alive_mask = experiment.matrix.sum(axis=1) > threshold\n",
    "    experiment.alive = experiment.matrix.loc[experiment.alive_mask]\n",
    "    experiment.alive_labels = experiment.labels[experiment.alive_mask]"
   ]
  },
  {
   "cell_type": "code",
   "execution_count": null,
   "metadata": {},
   "outputs": [],
   "source": [
    "alldata = pd.concat((experiments[0].alive, experiments[1].alive))"
   ]
  },
  {
   "cell_type": "code",
   "execution_count": null,
   "metadata": {},
   "outputs": [],
   "source": [
    "reducer = umap.UMAP()\n",
    "embedding = reducer.fit_transform(alldata)"
   ]
  },
  {
   "cell_type": "code",
   "execution_count": null,
   "metadata": {},
   "outputs": [],
   "source": [
    "def scatter_with_label(xy, labels, label, color) :\n",
    "    mask = labels==label\n",
    "    plt.scatter(xy[mask,0], xy[mask,1], c=color, label=label)"
   ]
  },
  {
   "cell_type": "code",
   "execution_count": null,
   "metadata": {},
   "outputs": [],
   "source": [
    "colors = {'Jurkat' : 'r',\n",
    "          'J-Lat+DMSO' : 'b',\n",
    "          'J-Lat+SAHA' : 'g'}\n",
    "\n",
    "fig = plt.figure()\n",
    "alive_labels = pd.concat((experiments[0].alive_labels, experiments[1].alive_labels))\n",
    "scatter_with_label(embedding, alive_labels, 'Jurkat', colors['Jurkat'])\n",
    "scatter_with_label(embedding, alive_labels, 'J-Lat+DMSO', colors['J-Lat+DMSO'])\n",
    "scatter_with_label(embedding, alive_labels, 'J-Lat+SAHA', colors['J-Lat+SAHA'])\n",
    "plt.legend()\n",
    "plt.show()"
   ]
  },
  {
   "cell_type": "markdown",
   "metadata": {},
   "source": [
    "So it doesn't do the magic. Still there are kinda weird results here."
   ]
  }
 ],
 "metadata": {
  "kernelspec": {
   "display_name": "Python 2",
   "language": "python",
   "name": "python2"
  },
  "language_info": {
   "codemirror_mode": {
    "name": "ipython",
    "version": 2
   },
   "file_extension": ".py",
   "mimetype": "text/x-python",
   "name": "python",
   "nbconvert_exporter": "python",
   "pygments_lexer": "ipython2"
  }
 },
 "nbformat": 4,
 "nbformat_minor": 2
}
