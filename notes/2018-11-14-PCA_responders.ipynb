{
 "cells": [
  {
   "cell_type": "markdown",
   "metadata": {},
   "source": [
    "# 2018-11-14 PCA responders\n",
    "Let's look at whether PCA can give us significant information about responders versus non-responders."
   ]
  },
  {
   "cell_type": "code",
   "execution_count": null,
   "metadata": {},
   "outputs": [],
   "source": [
    "library(ggplot2)\n",
    "library(RColorBrewer)"
   ]
  },
  {
   "cell_type": "code",
   "execution_count": null,
   "metadata": {},
   "outputs": [],
   "source": [
    "# Multiple plot function\n",
    "#\n",
    "# ggplot objects can be passed in ..., or to plotlist (as a list of ggplot objects)\n",
    "# - cols:   Number of columns in layout\n",
    "# - layout: A matrix specifying the layout. If present, 'cols' is ignored.\n",
    "#\n",
    "# If the layout is something like matrix(c(1,2,3,3), nrow=2, byrow=TRUE),\n",
    "# then plot 1 will go in the upper left, 2 will go in the upper right, and\n",
    "# 3 will go all the way across the bottom.\n",
    "#\n",
    "multiplot <- function(..., plotlist=NULL, file, cols=1, layout=NULL) {\n",
    "  library(grid)\n",
    "\n",
    "  # Make a list from the ... arguments and plotlist\n",
    "  plots <- c(list(...), plotlist)\n",
    "\n",
    "  numPlots = length(plots)\n",
    "\n",
    "  # If layout is NULL, then use 'cols' to determine layout\n",
    "  if (is.null(layout)) {\n",
    "    # Make the panel\n",
    "    # ncol: Number of columns of plots\n",
    "    # nrow: Number of rows needed, calculated from # of cols\n",
    "    layout <- matrix(seq(1, cols * ceiling(numPlots/cols)),\n",
    "                    ncol = cols, nrow = ceiling(numPlots/cols))\n",
    "  }\n",
    "\n",
    " if (numPlots==1) {\n",
    "    print(plots[[1]])\n",
    "\n",
    "  } else {\n",
    "    # Set up the page\n",
    "    grid.newpage()\n",
    "    pushViewport(viewport(layout = grid.layout(nrow(layout), ncol(layout))))\n",
    "\n",
    "    # Make each plot, in the correct location\n",
    "    for (i in 1:numPlots) {\n",
    "      # Get the i,j matrix positions of the regions that contain this subplot\n",
    "      matchidx <- as.data.frame(which(layout == i, arr.ind = TRUE))\n",
    "\n",
    "      print(plots[[i]], vp = viewport(layout.pos.row = matchidx$row,\n",
    "                                      layout.pos.col = matchidx$col))\n",
    "    }\n",
    "  }\n",
    "}"
   ]
  },
  {
   "cell_type": "code",
   "execution_count": null,
   "metadata": {},
   "outputs": [],
   "source": [
    "# basic data\n",
    "matrices.dir <- \"/home/rcortini/work/CRG/projects/sc_hiv/data/matrices\"\n",
    "sample.names <- c(\"P2449\", \"P2458\")\n",
    "\n",
    "# init data structures that will hold our data\n",
    "exprMatrices <- list()\n",
    "sampleSheets <- list()\n",
    "\n",
    "# load data\n",
    "for (sample.name in sample.names) {\n",
    "    \n",
    "    # file names\n",
    "    matrix.fname <- sprintf(\"%s/%s.tsv.gz\", matrices.dir, sample.name)\n",
    "    sampleSheet.fname <- sprintf(\"%s/monocle/%s.pd.tsv\", matrices.dir, sample.name)\n",
    "\n",
    "    # parse data\n",
    "    exprMatrices[[sample.name]] <- read.table(matrix.fname, header = TRUE, row.names = 1,\n",
    "                                sep = \"\\t\", check.names = FALSE)\n",
    "    sampleSheets[[sample.name]] <- read.delim(sampleSheet.fname, header = TRUE, row.names = 1)\n",
    "}\n",
    "\n",
    "# load gene annotations file\n",
    "gene.annotations <- sprintf(\"%s/gene_annotations.tsv\", matrices.dir)\n",
    "gene.data <- read.delim(gene.annotations, header = TRUE, row.names = 1, sep = \"\\t\")"
   ]
  },
  {
   "cell_type": "markdown",
   "metadata": {},
   "source": [
    "## Unnormalized P2449"
   ]
  },
  {
   "cell_type": "code",
   "execution_count": null,
   "metadata": {},
   "outputs": [],
   "source": [
    "sample.name <- \"P2449\"\n",
    "\n",
    "# select only one of the matrices\n",
    "exprMatrix <- exprMatrices[[sample.name]]\n",
    "\n",
    "# select only treated cells\n",
    "jlat.treated <- sampleSheets[[sample.name]]$label == \"J-Lat+SAHA\"\n",
    "exprMatrix <- exprMatrix[, jlat.treated]\n",
    "\n",
    "# select only alive cells\n",
    "totalExpression <- colSums(exprMatrix)\n",
    "alive <- totalExpression > 100000\n",
    "exprMatrix <- exprMatrix[, alive]\n",
    "\n",
    "# exclude the FILIONG01 gene\n",
    "HIV <- log(exprMatrix[\"FILIONG01\", ]+1)\n",
    "exprMatrix <- exprMatrix[rownames(exprMatrix) != 'FILIONG01', ]\n",
    "\n",
    "# remove genes with zero expression\n",
    "exprMatrix <- exprMatrix[rowSums(exprMatrix)>1, ]"
   ]
  },
  {
   "cell_type": "code",
   "execution_count": null,
   "metadata": {},
   "outputs": [],
   "source": [
    "# do the PCA\n",
    "exprMatrix.pca <- prcomp(t(exprMatrix), center = TRUE)"
   ]
  },
  {
   "cell_type": "code",
   "execution_count": null,
   "metadata": {},
   "outputs": [],
   "source": [
    "# prepare a data.frame for plotting\n",
    "pca <- as.data.frame(exprMatrix.pca$x)\n",
    "pca$totalExpression <- colSums(exprMatrix)\n",
    "pca$HIV <- t(HIV)"
   ]
  },
  {
   "cell_type": "code",
   "execution_count": null,
   "metadata": {},
   "outputs": [],
   "source": [
    "options(repr.plot.width = 8, repr.plot.height = 2)\n",
    "gg1 <- ggplot(pca, aes(PC1, PC2)) + geom_point(aes(color = totalExpression)) +\n",
    "scale_colour_gradient(low=\"blue\", high=\"red\") + theme_bw()\n",
    "gg2 <- ggplot(pca, aes(PC1, PC2)) + geom_point(aes(color = HIV))  +\n",
    "scale_colour_gradient(low=\"blue\", high=\"red\") + theme_bw()\n",
    "multiplot(gg1, gg2, cols=2)"
   ]
  },
  {
   "cell_type": "markdown",
   "metadata": {},
   "source": [
    "It's clear from these first plots that the first principal component is acually proportional to the total expression. Let's look at this more clearly."
   ]
  },
  {
   "cell_type": "code",
   "execution_count": null,
   "metadata": {},
   "outputs": [],
   "source": [
    "options(repr.plot.width = 3, repr.plot.height = 3)\n",
    "ggplot(pca, aes(PC1, totalExpression)) + geom_point() + geom_smooth(method='lm') +\n",
    "theme_bw()"
   ]
  },
  {
   "cell_type": "markdown",
   "metadata": {},
   "source": [
    "So I'll try plotting the deeper principal components."
   ]
  },
  {
   "cell_type": "code",
   "execution_count": null,
   "metadata": {},
   "outputs": [],
   "source": [
    "options(repr.plot.width = 4, repr.plot.height = 3)\n",
    "ggplot(pca, aes(PC2, PC3)) + geom_point(aes(color = HIV)) +\n",
    "scale_colour_gradient(low=\"blue\", high=\"red\") + theme_bw()"
   ]
  },
  {
   "cell_type": "markdown",
   "metadata": {},
   "source": [
    "There's not a very clear pattern emerging here. We have few points though, so it would be interesting to perform the same analysis but with the two samples pooled together, and normalized.\n",
    "\n",
    "# Normalized pooled samples\n",
    "\n",
    "Here I take the two samples together, normalize the expression of the genes by the total expression of the cell, and do the PCA."
   ]
  },
  {
   "cell_type": "code",
   "execution_count": null,
   "metadata": {},
   "outputs": [],
   "source": [
    "# pool together the expression matrices\n",
    "exprMatrix <- cbind(exprMatrices[[\"P2449\"]], exprMatrices[[\"P2458\"]])\n",
    "\n",
    "# select only treated cells\n",
    "sampleSheet <- cbind(sampleSheets[[\"P2449\"]], sampleSheets[[\"P2458\"]])\n",
    "jlat.treated <- sampleSheet$label == \"J-Lat+SAHA\"\n",
    "exprMatrix <- exprMatrix[, jlat.treated]\n",
    "\n",
    "# select only alive cells\n",
    "totalExpression <- colSums(exprMatrix)\n",
    "alive <- totalExpression > 100000\n",
    "exprMatrix <- exprMatrix[, alive]\n",
    "\n",
    "# exclude the FILIONG01 gene\n",
    "HIV <- log(exprMatrix[\"FILIONG01\", ]+1)\n",
    "exprMatrix <- exprMatrix[rownames(exprMatrix) != 'FILIONG01', ]\n",
    "\n",
    "# exclude genes that have zero expression in all the cells\n",
    "genesTotalExpression <- rowSums(exprMatrix)\n",
    "exprMatrix <- exprMatrix[genesTotalExpression>0, ]\n",
    "\n",
    "# now we can normalize by the total expression\n",
    "totalExpression <- totalExpression[alive]\n",
    "\n",
    "# normalize\n",
    "exprMatrix <- t(t(exprMatrix) / totalExpression)"
   ]
  },
  {
   "cell_type": "code",
   "execution_count": null,
   "metadata": {},
   "outputs": [],
   "source": [
    "# do the PCA\n",
    "exprMatrix.pca <- prcomp(t(exprMatrix), center = TRUE, scale. = TRUE)"
   ]
  },
  {
   "cell_type": "code",
   "execution_count": null,
   "metadata": {},
   "outputs": [],
   "source": [
    "# prepare a data.frame for plotting\n",
    "pca <- as.data.frame(exprMatrix.pca$x)\n",
    "pca$totalExpression <- colSums(exprMatrix)\n",
    "pca$HIV <- t(HIV)\n",
    "\n",
    "# add information on the batch\n",
    "pca$Batch <- substring(rownames(pca), 0, 5)\n",
    "\n",
    "# add a digital \"responder\" variable\n",
    "is.responder <- HIV>0\n",
    "pca$responder <- rep(\"Responder\", length(is.responder))\n",
    "pca$responder[!is.responder] <- \"Non-responder\""
   ]
  },
  {
   "cell_type": "code",
   "execution_count": null,
   "metadata": {},
   "outputs": [],
   "source": [
    "options(repr.plot.width = 8, repr.plot.height = 6)\n",
    "gg1 <- ggplot(pca, aes(PC1, PC2)) + geom_point(aes(color = HIV))  +\n",
    "scale_colour_gradient(low=\"blue\", high=\"red\") + theme_bw()\n",
    "gg2 <- ggplot(pca, aes(PC1, PC2)) + geom_point(aes(color = Batch))  + theme_bw()\n",
    "gg3 <- ggplot(pca, aes(PC1, PC2)) + geom_point(aes(color = responder))  + theme_bw()\n",
    "multiplot(gg1, gg2, gg3, cols=2)"
   ]
  },
  {
   "cell_type": "markdown",
   "metadata": {},
   "source": [
    "Here I can see that the PCA reveals two groups of cells, but the two groups are not related to HIV expression, nor the fact that the cells have active or inactive HIV, nor the cell batch."
   ]
  },
  {
   "cell_type": "code",
   "execution_count": null,
   "metadata": {},
   "outputs": [],
   "source": [
    "options(repr.plot.width = 6, repr.plot.height = 3)\n",
    "gg1 <- ggplot(pca, aes(PC1, HIV)) + geom_point() + geom_smooth(method='lm') +\n",
    "theme_bw()\n",
    "gg2 <- ggplot(pca, aes(PC2, HIV)) + geom_point() + geom_smooth(method='lm') +\n",
    "theme_bw()\n",
    "multiplot(gg1, gg2, cols=2)"
   ]
  },
  {
   "cell_type": "code",
   "execution_count": null,
   "metadata": {},
   "outputs": [],
   "source": [
    "PC1vsHIV <- lm(PC1 ~ HIV, data=pca)\n",
    "summary(PC1vsHIV)"
   ]
  },
  {
   "cell_type": "code",
   "execution_count": null,
   "metadata": {},
   "outputs": [],
   "source": [
    "PC2vsHIV <- lm(PC2 ~ HIV, data=pca)\n",
    "summary(PC2vsHIV)"
   ]
  },
  {
   "cell_type": "markdown",
   "metadata": {},
   "source": [
    "The analysis of the first and second principal component as related to the level of HIV expression reveals that there is a relationship, but the results I don't find very convincing.\n",
    "\n",
    "## Redefining dead cells\n",
    "\n",
    "So far I defined dead cells as the cells that have less than 100000 transcripts per cell. However, Guillaume showed me a better way for doing it, and it is based on PCA."
   ]
  },
  {
   "cell_type": "code",
   "execution_count": null,
   "metadata": {},
   "outputs": [],
   "source": [
    "# pool together the expression matrices\n",
    "exprMatrix <- cbind(exprMatrices[[\"P2449\"]], exprMatrices[[\"P2458\"]])\n",
    "\n",
    "# remove genes that have no expression\n",
    "exprMatrix <- exprMatrix[rowSums(exprMatrix)>1, ]\n",
    "\n",
    "# normalize by row sum\n",
    "total <- colSums(exprMatrix)\n",
    "exprMatrix <- t(exprMatrix)\n",
    "exprMatrix <- exprMatrix / rowSums(exprMatrix)\n",
    "exprMatrix <- t(exprMatrix)"
   ]
  },
  {
   "cell_type": "code",
   "execution_count": null,
   "metadata": {},
   "outputs": [],
   "source": [
    "# do the PCA\n",
    "exprMatrix.pca <- prcomp(t(exprMatrix), scale = TRUE)"
   ]
  },
  {
   "cell_type": "code",
   "execution_count": null,
   "metadata": {},
   "outputs": [],
   "source": [
    "# prepare for plotting\n",
    "pca <- as.data.frame(exprMatrix.pca$x)\n",
    "pca$batch <- substring(colnames(exprMatrix), 0, 5)\n",
    "sampleSheet <- rbind(sampleSheets[[\"P2449\"]], sampleSheets[[\"P2458\"]])\n",
    "pca$label <- sampleSheet$label\n",
    "pca$total <- total"
   ]
  },
  {
   "cell_type": "code",
   "execution_count": null,
   "metadata": {},
   "outputs": [],
   "source": [
    "options(repr.plot.width = 3.5, repr.plot.height = 2)\n",
    "ggplot(pca, aes(PC1, PC2)) + geom_point(aes(color=total))  +\n",
    "scale_colour_gradient(low=\"blue\", high=\"red\") + theme_bw()"
   ]
  },
  {
   "cell_type": "code",
   "execution_count": null,
   "metadata": {},
   "outputs": [],
   "source": [
    "options(repr.plot.width = 4, repr.plot.height = 2)\n",
    "ggplot(pca, aes(PC1, PC2)) + geom_point(aes(color=batch)) + theme_bw()"
   ]
  },
  {
   "cell_type": "code",
   "execution_count": null,
   "metadata": {},
   "outputs": [],
   "source": [
    "options(repr.plot.width = 4, repr.plot.height = 2.5)\n",
    "ggplot(pca, aes(PC1, PC2)) + geom_point(aes(color=label)) + theme_bw()"
   ]
  },
  {
   "cell_type": "markdown",
   "metadata": {},
   "source": [
    "This last plot is very interesting. It shows three very distinct groups of cells. On the left, there are the alive cells, and on the right there are the dead cells. On the top left, there are the untreated cells, on the bottom left there are the treated cells.\n",
    "\n",
    "Let's define the three groups *based only on the value of the PCA*."
   ]
  },
  {
   "cell_type": "code",
   "execution_count": null,
   "metadata": {},
   "outputs": [],
   "source": [
    "# dead cells\n",
    "dead <- pca[\"PC1\"]>-5\n",
    "dead.cells <- rownames(pca[dead, ])\n",
    "\n",
    "# alive cells\n",
    "nontreated <- !dead & pca[\"PC2\"]>0\n",
    "nontreated.cells <- rownames(pca[nontreated, ])\n",
    "treated <- !dead & pca[\"PC2\"]<0\n",
    "treated.cells <- rownames(pca[treated, ])"
   ]
  },
  {
   "cell_type": "code",
   "execution_count": null,
   "metadata": {},
   "outputs": [],
   "source": [
    "totalExpression <- data.frame(cellnames = names(total), total = total,\n",
    "                              status = factor(rep(\"dead\", ncol(exprMatrix)),\n",
    "                                             c(\"dead\", \"treated\", \"nontreated\")))\n",
    "totalExpression[treated.cells, ]$status <- \"treated\"\n",
    "totalExpression[nontreated.cells, ]$status <- \"nontreated\"\n",
    "totalExpression[rownames(exprMatrix), ]$label <- "
   ]
  },
  {
   "cell_type": "code",
   "execution_count": null,
   "metadata": {},
   "outputs": [],
   "source": [
    "options(repr.plot.width = 15, repr.plot.height = 6)\n",
    "ggplot(totalExpression, aes(x = cellnames, y = total)) +\n",
    "geom_bar(aes(fill=status),stat=\"identity\") +\n",
    "theme(axis.text.x = element_text(angle = 90, hjust = 1))"
   ]
  },
  {
   "cell_type": "markdown",
   "metadata": {},
   "source": [
    "This plot is particularly interesting because it shows that there is no way that we can really detect dead cells by imposing a hard threshold on the level of total expression of the cells. If we impose a threshold that is too high, we would lose alive cells. If it's too low, we would pick up dead cells. Let's save this information for future reference."
   ]
  },
  {
   "cell_type": "code",
   "execution_count": null,
   "metadata": {},
   "outputs": [],
   "source": [
    "totalExpression$label <- as.character(sampleSheet[rownames(totalExpression), ])"
   ]
  },
  {
   "cell_type": "code",
   "execution_count": null,
   "metadata": {},
   "outputs": [],
   "source": [
    "# write the information to a separate file\n",
    "write.table(x = totalExpression[, c('cellnames', 'status', 'label')],\n",
    "            file = sprintf('%s/samplesheet.csv', matrices.dir),\n",
    "            row.names = FALSE,\n",
    "            quote = FALSE, sep='\\t')"
   ]
  }
 ],
 "metadata": {
  "kernelspec": {
   "display_name": "R",
   "language": "R",
   "name": "ir"
  },
  "language_info": {
   "codemirror_mode": "r",
   "file_extension": ".r",
   "mimetype": "text/x-r-source",
   "name": "R",
   "pygments_lexer": "r"
  }
 },
 "nbformat": 4,
 "nbformat_minor": 2
}
