{
 "cells": [
  {
   "cell_type": "markdown",
   "metadata": {},
   "source": [
    "# 2018-11-16 No dead cells PCA cyclone\n",
    "Here I want to repeat the analysis did for the PCA and the cell cycle, this time without dead cells.\n",
    "\n",
    "## Data preprocessing"
   ]
  },
  {
   "cell_type": "code",
   "execution_count": null,
   "metadata": {},
   "outputs": [],
   "source": [
    "# load useful libraries\n",
    "library(ggplot2)\n",
    "library(RColorBrewer)\n",
    "theme_set(theme_bw())"
   ]
  },
  {
   "cell_type": "code",
   "execution_count": null,
   "metadata": {},
   "outputs": [],
   "source": [
    "# basic data\n",
    "matrices.dir <- \"/home/rcortini/work/CRG/projects/sc_hiv/data/matrices\"\n",
    "sample.names <- c(\"P2449\", \"P2458\")\n",
    "\n",
    "# init data structures that will hold our data\n",
    "exprMatrices <- list()\n",
    "\n",
    "# load data\n",
    "for (sample.name in sample.names) {\n",
    "    \n",
    "    # file names\n",
    "    matrix.fname <- sprintf(\"%s/%s.tsv.gz\", matrices.dir, sample.name)\n",
    "    sampleSheet.fname <- sprintf(\"%s/monocle/%s.pd.tsv\", matrices.dir, sample.name)\n",
    "\n",
    "    # parse data\n",
    "    exprMatrices[[sample.name]] <- read.table(matrix.fname, header = TRUE, row.names = 1,\n",
    "                                sep = \"\\t\", check.names = FALSE)\n",
    "}\n",
    "\n",
    "# load sample sheet\n",
    "sampleSheet <- read.table(sprintf('%s/samplesheet.csv', matrices.dir),\n",
    "                          header = TRUE,\n",
    "                          row.names = 1)"
   ]
  },
  {
   "cell_type": "code",
   "execution_count": null,
   "metadata": {},
   "outputs": [],
   "source": [
    "# merge the two samples\n",
    "exprMatrix <- cbind(exprMatrices[[\"P2449\"]], exprMatrices[[\"P2458\"]])\n",
    "\n",
    "# remove genes with zero expression\n",
    "geneExpression <- rowSums(exprMatrix)\n",
    "exprMatrix <- exprMatrix[geneExpression > 1, ]\n",
    "\n",
    "# remove dead cells\n",
    "exprMatrix <- exprMatrix[, sampleSheet$status != \"dead\"]\n",
    "sampleSheet <- sampleSheet[sampleSheet$status != \"dead\", ]\n",
    "\n",
    "# get the names of the cells\n",
    "cells <- colnames(exprMatrix)\n",
    "genes <- rownames(exprMatrix)"
   ]
  },
  {
   "cell_type": "code",
   "execution_count": null,
   "metadata": {},
   "outputs": [],
   "source": [
    "# load gene annotations file\n",
    "gene.annotations <- sprintf(\"%s/gene_annotations.tsv\", matrices.dir)\n",
    "gene.data <- read.delim(gene.annotations, header = TRUE, sep = \"\\t\",\n",
    "                        row.names = 1, stringsAsFactors = FALSE)\n",
    "gene.data <- subset(gene.data, rownames(gene.data) %in% genes)"
   ]
  },
  {
   "cell_type": "code",
   "execution_count": null,
   "metadata": {},
   "outputs": [],
   "source": [
    "# let's write this file so I don't have to redo this all the time\n",
    "write.table(x = exprMatrix, file = sprintf(\"%s/exprMatrix.csv\", matrices.dir),\n",
    "            row.names = TRUE, quote = FALSE, sep=\"\\t\")\n",
    "\n",
    "write.table(x = gene.data, file = sprintf(\"%s/genedata.csv\", matrices.dir),\n",
    "            row.names = TRUE, quote = FALSE, sep=\"\\t\")"
   ]
  },
  {
   "cell_type": "code",
   "execution_count": null,
   "metadata": {},
   "outputs": [],
   "source": [
    "# save the information of the unnormalized HIV\n",
    "HIV <- exprMatrix[\"FILIONG01\", ]\n",
    "\n",
    "# normalize by total expression of the cells\n",
    "totalExpression <- colSums(exprMatrix)\n",
    "normalized <- t(t(exprMatrix) / totalExpression)"
   ]
  },
  {
   "cell_type": "markdown",
   "metadata": {},
   "source": [
    "# PCA\n",
    "Let's do the PCA on the treated cells."
   ]
  },
  {
   "cell_type": "code",
   "execution_count": null,
   "metadata": {},
   "outputs": [],
   "source": [
    "# select treated cells\n",
    "treated.names <- sampleSheet[colnames(exprMatrix), ]$status == \"treated\"\n",
    "treated <- exprMatrix[, treated.names]\n",
    "\n",
    "# remove genes that have zero expression in this data set\n",
    "geneExpression.treated <- rowSums(treated)\n",
    "treated <- treated[geneExpression.treated > 0, ]"
   ]
  },
  {
   "cell_type": "code",
   "execution_count": null,
   "metadata": {},
   "outputs": [],
   "source": [
    "# do the PCA\n",
    "treated.pca <- prcomp(t(treated), scale = TRUE)"
   ]
  },
  {
   "cell_type": "code",
   "execution_count": null,
   "metadata": {},
   "outputs": [],
   "source": [
    "# prepare data for plotting\n",
    "pca <- data.frame(treated.pca$x)\n",
    "pca$HIV <- log(t(HIV[treated.names]))"
   ]
  },
  {
   "cell_type": "code",
   "execution_count": null,
   "metadata": {},
   "outputs": [],
   "source": [
    "options(repr.plot.width = 4, repr.plot.height = 3)\n",
    "ggplot(pca, aes(PC1, PC2)) + geom_point(aes(color = HIV)) +\n",
    "scale_colour_gradient(low=\"blue\", high=\"red\") + theme_bw()"
   ]
  },
  {
   "cell_type": "markdown",
   "metadata": {},
   "source": [
    "So, again no interesting information here.\n",
    "\n",
    "## Cell cycle"
   ]
  },
  {
   "cell_type": "code",
   "execution_count": null,
   "metadata": {},
   "outputs": [],
   "source": [
    "# load libraries needed for the analysis\n",
    "suppressMessages(library(scran))\n",
    "suppressMessages(library(scater))\n",
    "suppressMessages(library(SingleCellExperiment))"
   ]
  },
  {
   "cell_type": "code",
   "execution_count": null,
   "metadata": {},
   "outputs": [],
   "source": [
    "# build the SingleCellExperiment object\n",
    "sce <- SingleCellExperiment(list(counts=as.matrix(exprMatrix),\n",
    "                                 normalized=as.matrix(normalized)),\n",
    "                rowData = DataFrame(gene.data),\n",
    "                colData = DataFrame(sampleSheet))"
   ]
  },
  {
   "cell_type": "code",
   "execution_count": null,
   "metadata": {},
   "outputs": [],
   "source": [
    "# load the list of pairs of genes\n",
    "hs.pairs <- readRDS(system.file(\"exdata\", \"human_cycle_markers.rds\", package=\"scran\"))\n",
    "\n",
    "# prepare the data for cyclone\n",
    "genes.shortNames <- gsub(\"\\\\..*\", \"\", rownames(gene.data))\n",
    "nonDuplicated <- !duplicated(genes.shortNames)\n",
    "mygenes <- rownames(gene.data)[nonDuplicated]\n",
    "sce.nonDuplicated = sce[mygenes, ]\n",
    "rownames(sce.nonDuplicated) <- genes.shortNames[nonDuplicated]"
   ]
  },
  {
   "cell_type": "code",
   "execution_count": null,
   "metadata": {},
   "outputs": [],
   "source": [
    "# do the assignment of the cell cycle phases\n",
    "assignments <- cyclone(sce.nonDuplicated, hs.pairs)\n",
    "sce$phases <- assignments$phases\n",
    "sce$scores <- assignments$scores"
   ]
  },
  {
   "cell_type": "markdown",
   "metadata": {},
   "source": [
    "Now that we have the assignment, we can plot the expression of the normalized or unnormalized GFP levels in the various groups."
   ]
  },
  {
   "cell_type": "code",
   "execution_count": null,
   "metadata": {},
   "outputs": [],
   "source": [
    "# prepare the data for plotting\n",
    "treated.cells <- sampleSheet$status == \"treated\"\n",
    "hiv.cycle <- data.frame(raw = t(HIV[treated.cells]),\n",
    "                        normalized = normalized[\"FILIONG01\", treated.cells])\n",
    "hiv.cycle$phases <- sce$phases[treated.cells]"
   ]
  },
  {
   "cell_type": "code",
   "execution_count": null,
   "metadata": {},
   "outputs": [],
   "source": [
    "options(repr.plot.width = 2, repr.plot.height = 2)\n",
    "ggplot(hiv.cycle, aes(x = phases, y = FILIONG01)) + geom_boxplot() +\n",
    "      xlab(\"Phase\") + ylab('GFP')\n",
    "ggplot(hiv.cycle, aes(x = phases, y = normalized)) + geom_boxplot() +\n",
    "      xlab(\"Phase\") + ylab('Normalized GFP')"
   ]
  },
  {
   "cell_type": "markdown",
   "metadata": {},
   "source": [
    "So this part of the analysis still holds. Let's check that the number of cells in the two groups are kind of similar."
   ]
  },
  {
   "cell_type": "code",
   "execution_count": null,
   "metadata": {},
   "outputs": [],
   "source": [
    "table(sce$phases[treated.cells], treated[\"FILIONG01\", ] > 0)"
   ]
  },
  {
   "cell_type": "markdown",
   "metadata": {},
   "source": [
    "No they aren't. So let's check that in the case of the untreated cells we have the same number of cells in G1 and G2 (they are growing cells so it should be the case)."
   ]
  },
  {
   "cell_type": "code",
   "execution_count": null,
   "metadata": {},
   "outputs": [],
   "source": [
    "nontreated.cells <- sampleSheet$status == \"nontreated\"\n",
    "print(sum(sce$phases[nontreated.cells] == 'G1'))\n",
    "print(sum(sce$phases[nontreated.cells] == 'G2M'))\n",
    "print(sum(sce$phases[nontreated.cells] == 'S'))"
   ]
  },
  {
   "cell_type": "markdown",
   "metadata": {},
   "source": [
    "So no, here there is something fishy going on. There cannot be 1 out of 70 cells that is in G2M. So the analysis of the cell cycle did by `cyclone` is in the end not correct and should be performed differently."
   ]
  }
 ],
 "metadata": {
  "kernelspec": {
   "display_name": "R",
   "language": "R",
   "name": "ir"
  },
  "language_info": {
   "codemirror_mode": "r",
   "file_extension": ".r",
   "mimetype": "text/x-r-source",
   "name": "R",
   "pygments_lexer": "r"
  }
 },
 "nbformat": 4,
 "nbformat_minor": 2
}
