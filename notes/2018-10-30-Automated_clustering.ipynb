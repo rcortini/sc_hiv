{
 "cells": [
  {
   "cell_type": "markdown",
   "metadata": {},
   "source": [
    "# 2018-10-30 Automated clustering\n",
    "This notebook is to use and test functions that perform automated clustering of the gene expression matrices."
   ]
  },
  {
   "cell_type": "code",
   "execution_count": null,
   "metadata": {},
   "outputs": [],
   "source": [
    "# basic data\n",
    "matrices.dir <- \"/home/rcortini/work/CRG/projects/sc_hiv/data/matrices\"\n",
    "sample.names <- c(\"P2449\", \"P2458\")\n",
    "\n",
    "# init data structures that will hold our data\n",
    "exprMatrices <- list()\n",
    "sampleSheets <- list()\n",
    "\n",
    "# load data\n",
    "for (sample.name in sample.names) {\n",
    "    \n",
    "    # file names\n",
    "    matrix.fname <- sprintf(\"%s/%s.tsv.gz\", matrices.dir, sample.name)\n",
    "    sampleSheet.fname <- sprintf(\"%s/monocle/%s.pd.tsv\", matrices.dir, sample.name)\n",
    "\n",
    "    # parse data\n",
    "    exprMatrices[[sample.name]] <- read.table(matrix.fname, header = TRUE, row.names = 1,\n",
    "                                sep = \"\\t\", check.names = FALSE)\n",
    "    sampleSheets[[sample.name]] <- read.delim(sampleSheet.fname, header = TRUE, row.names = 1)\n",
    "}\n",
    "\n",
    "# load gene annotations file\n",
    "gene.annotations <- sprintf(\"%s/gene_annotations.tsv\", matrices.dir)\n",
    "gene.data <- read.delim(gene.annotations, header = TRUE, row.names = 1, sep = \"\\t\")"
   ]
  },
  {
   "cell_type": "code",
   "execution_count": null,
   "metadata": {},
   "outputs": [],
   "source": [
    "# load our lovely script\n",
    "source(\"/home/rcortini/work/CRG/projects/sc_hiv/scripts/GeneExpressionClustering.R\")"
   ]
  },
  {
   "cell_type": "markdown",
   "metadata": {},
   "source": [
    "## Clustering of gene expression\n",
    "Prepare parameters for cluster extraction."
   ]
  },
  {
   "cell_type": "code",
   "execution_count": null,
   "metadata": {},
   "outputs": [],
   "source": [
    "# cut for detection of outliers\n",
    "cut <- list()\n",
    "cut[[\"P2449\"]] <- 14000\n",
    "cut[[\"P2458\"]] <- 8000\n",
    "\n",
    "# soft threshold power for network extraction\n",
    "softThresholdPower <- list()\n",
    "softThresholdPower[[\"P2449\"]] <- 5\n",
    "softThresholdPower[[\"P2458\"]] <- 6"
   ]
  },
  {
   "cell_type": "code",
   "execution_count": null,
   "metadata": {},
   "outputs": [],
   "source": [
    "# do all the network reconstruction and the module extraction for both samples\n",
    "modules <- list()\n",
    "nets <- list()\n",
    "datExpr <- list()\n",
    "for (sample.name in sample.names) {\n",
    "    exprMatrix <- exprMatrices[[sample.name]]\n",
    "    sampleSheet <- sampleSheets[[sample.name]]\n",
    "    \n",
    "    # filter the expression data\n",
    "    datExpr[[sample.name]] <- PrepareDatExpr(exprMatrix, sampleSheet,\n",
    "                                             ngenes = 5000,\n",
    "                                             cut = cut[[sample.name]])\n",
    "    \n",
    "    # reconstruct the network\n",
    "    nets[[sample.name]] <- ClusterGenes(datExpr[[sample.name]],\n",
    "                            softThresholdPower = softThresholdPower[[sample.name]])\n",
    "    \n",
    "    # associate network motifs to HIV expression patterns\n",
    "    modules[[sample.name]] <- AssociateClustersToHIV(datExpr[[sample.name]],\n",
    "                                                     exprMatrix,\n",
    "                                                     sampleSheet,\n",
    "                                                     nets[[sample.name]],\n",
    "                                                     aliveThreshold = 100000)\n",
    "}"
   ]
  },
  {
   "cell_type": "code",
   "execution_count": null,
   "metadata": {},
   "outputs": [],
   "source": [
    "# create a data frame with the information on which gene is associated\n",
    "# to which cluster (color) by the algorithm identifying the modules\n",
    "colors <- data.frame(P2449 = nets[[\"P2449\"]]$colors,\n",
    "                     P2458 = nets[[\"P2458\"]]$colors)\n",
    "rownames(colors) <- colnames(datExpr)"
   ]
  },
  {
   "cell_type": "markdown",
   "metadata": {},
   "source": [
    "Once this is done, let's have an idea about the overlap between the two things."
   ]
  },
  {
   "cell_type": "code",
   "execution_count": null,
   "metadata": {},
   "outputs": [],
   "source": [
    "print(order(unique(colors$P2449)))\n",
    "print(order(unique(colors$P2458)))"
   ]
  },
  {
   "cell_type": "markdown",
   "metadata": {},
   "source": [
    "The number of modules is not the same in the two cases. Let's look at the correlation between the modules and the HIV expression in the two samples."
   ]
  },
  {
   "cell_type": "code",
   "execution_count": null,
   "metadata": {},
   "outputs": [],
   "source": [
    "print(\"P2449\")\n",
    "modules[[\"P2449\"]]$stats\n",
    "print(\"P2458\")\n",
    "modules[[\"P2458\"]]$stats"
   ]
  },
  {
   "cell_type": "markdown",
   "metadata": {},
   "source": [
    "In the case of the P2458 sample, there is only one module that has a significant p-value, that is extremely worse than the case of the other sample. This points to the direction that the batch effects are actually not really batch effects: it's that the second sample is much noisier. I'll try to do one thing: use the modules identified in the first sample to try and predict the expression of HIV in the second sample."
   ]
  },
  {
   "cell_type": "code",
   "execution_count": null,
   "metadata": {},
   "outputs": [],
   "source": [
    "modules.hybrid <- AssociateClustersToHIV(datExpr[[\"P2458\"]],\n",
    "                                         exprMatrices[[\"P2458\"]],\n",
    "                                         sampleSheets[[\"P2458\"]],\n",
    "                                         nets[[\"P2449\"]],\n",
    "                                         aliveThreshold = 100000)"
   ]
  },
  {
   "cell_type": "code",
   "execution_count": null,
   "metadata": {},
   "outputs": [],
   "source": [
    "modules.hybrid$stats"
   ]
  },
  {
   "cell_type": "markdown",
   "metadata": {},
   "source": [
    "So here no good news either: the p-values are significantly less significant, and moreover the module with the greatest association is not one of the modules identified before.\n",
    "\n",
    "## Individual gene correlation\n",
    "\n",
    "Let's try another strategy: let's look at what are the most significantly associated *genes* in the two experiments."
   ]
  },
  {
   "cell_type": "code",
   "execution_count": null,
   "metadata": {},
   "outputs": [],
   "source": [
    "# this function returns the list of values of the correlations of the genes to HIV\n",
    "# activity\n",
    "GenesCorToHIV <- function (sample.name) {\n",
    "    # select the correct expression matrix\n",
    "    myExprMatrix <- exprMatrices[[sample.name]]\n",
    "    \n",
    "    # select the treated cells...\n",
    "    myExprMatrix <- myExprMatrix[, sampleSheets[[sample.name]]$label == \"J-Lat+SAHA\"]\n",
    "    \n",
    "    # ... that are alive\n",
    "    myExprMatrix <- myExprMatrix[, colSums(myExprMatrix) > 100000]\n",
    "    myExprMatrix <- t(myExprMatrix)\n",
    "    \n",
    "    # get the HIV expression values\n",
    "    myCells <- rownames(myExprMatrix)\n",
    "    hiv <- t(exprMatrices[[sample.name]][\"FILIONG01\", myCells])\n",
    "\n",
    "    # do the correlation\n",
    "    nSamples <- nrow(myExprMatrix)\n",
    "    correlation <- cor(myExprMatrix, hiv, use = \"p\")\n",
    "    pvalue <- corPvalueStudent(correlation, nSamples)\n",
    "    \n",
    "    # return\n",
    "    r <- data.frame(cor = correlation, p = pvalue)\n",
    "    names(r) <- c(\"cor\", \"p\")\n",
    "    r\n",
    "}"
   ]
  },
  {
   "cell_type": "markdown",
   "metadata": {},
   "source": [
    "We get the list of correlation values, then we order it in decreasing value of correlation coefficient. At the end we also attach the values of the gene symbols, so to get a list that will be easy to read."
   ]
  },
  {
   "cell_type": "code",
   "execution_count": null,
   "metadata": {},
   "outputs": [],
   "source": [
    "most.significant <- list()\n",
    "genes.cor.to.hiv <- list()\n",
    "for (sample.name in sample.names) {\n",
    "    genes.cor.to.hiv[[sample.name]] <- GenesCorToHIV(sample.name)\n",
    "    most.significant.idx <- order(genes.cor.to.hiv[[sample.name]]$cor, decreasing = TRUE)\n",
    "    most.significant[[sample.name]] <- genes.cor.to.hiv[[sample.name]][most.significant.idx, ]\n",
    "    gene.names <- as.character(gene.data[rownames(most.significant[[sample.name]]), ])\n",
    "    most.significant[[sample.name]]$gene_symbol <- gene.names\n",
    "}"
   ]
  },
  {
   "cell_type": "markdown",
   "metadata": {},
   "source": [
    "Let's now have a look at the list."
   ]
  },
  {
   "cell_type": "code",
   "execution_count": null,
   "metadata": {},
   "outputs": [],
   "source": [
    "head(most.significant[[\"P2449\"]])\n",
    "head(most.significant[[\"P2458\"]])"
   ]
  },
  {
   "cell_type": "markdown",
   "metadata": {},
   "source": [
    "Apart from the obvious fact that the correlation is maximum for the FILIONG01 gene (duh), there are some candidates that have ridiculously low p-values, that would be worth exploring. There is a ubiquitin peptidase that looks as a promising candidate. For the P2458 sample, I have some serious doubts as to the fact that there is valuable information hidden there, it seems too noisy to me."
   ]
  }
 ],
 "metadata": {
  "kernelspec": {
   "display_name": "R",
   "language": "R",
   "name": "ir"
  },
  "language_info": {
   "codemirror_mode": "r",
   "file_extension": ".r",
   "mimetype": "text/x-r-source",
   "name": "R",
   "pygments_lexer": "r"
  }
 },
 "nbformat": 4,
 "nbformat_minor": 2
}
