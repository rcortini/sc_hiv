{
 "cells": [
  {
   "cell_type": "markdown",
   "metadata": {},
   "source": [
    "# 2018-11-08 Other analyses part 1\n",
    "\n",
    "After a meeting with Andreas, Mie, and Jordi, I was asked to do some other tests to understand a few more things.\n",
    "\n",
    "1. Correlate cell cycle with gene expression patterns. If in G2/M phase the transcription shuts down, then it's not so interesting to see that there are fewer cells expressing HIV. If, on the other side, HIV levels correlate well with other marker genes that are active, then it's more interesting.\n",
    "2. Pool together all the data and extract the gene expression modules directly from the whole data set. See whether there are any interesting additional effects that come from there.\n",
    "3. Look individually at the genes in the significant modules, and do a search of candidate association with HIV via PubMed.\n",
    "\n",
    "## Cell cycle revisited\n",
    "\n",
    "Let's start by looking at the cell cycle. Let's look at patterns of gene expression in the various phases."
   ]
  },
  {
   "cell_type": "code",
   "execution_count": null,
   "metadata": {},
   "outputs": [],
   "source": [
    "source(\"/home/rcortini/work/CRG/projects/sc_hiv/scripts/sc_hiv.R\")\n",
    "scHiv <- process.sc_hiv()"
   ]
  },
  {
   "cell_type": "markdown",
   "metadata": {},
   "source": [
    "First we remove the genes that have zero expression in all the cells, and we define the two expression matrices for the phases G1 and G2M.\n",
    "\n",
    "We then calculate the average expression in the two subgroups, and then plot the results as a box plot."
   ]
  },
  {
   "cell_type": "code",
   "execution_count": null,
   "metadata": {},
   "outputs": [],
   "source": [
    "expressionByPhase <- function(scHiv, threshold) {\n",
    "    # calculate the total expression of the genes and select the genes\n",
    "    # that have average expression greater than threshold\n",
    "    individual.gene.total.expr <- rowMeans(assays(scHiv)[[\"counts\"]])\n",
    "    active.genes <- names(individual.gene.total.expr[individual.gene.total.expr > threshold])\n",
    "\n",
    "    # get the expression values for the cells in the two phases\n",
    "    G1.idx <- which(scHiv$phases == 'G1')\n",
    "    G1 <- assays(scHiv)[[\"counts\"]][active.genes, G1.idx]\n",
    "    G2M.idx <- which(scHiv$phases == 'G2M')\n",
    "    G2M <- assays(scHiv)[[\"counts\"]][active.genes, G2M.idx]\n",
    "\n",
    "    # calculate the averages\n",
    "    data.frame(expr  = c(rowMeans(G1),        rowMeans(G2M)),\n",
    "               phase = c(rep(\"G1\", nrow(G1)), rep(\"G2M\", nrow(G2M))))\n",
    "}\n",
    "\n",
    "plotExpressionByPhase <- function(scHiv, threshold) {\n",
    "    # get the expression values\n",
    "    av.by.phase <- expressionByPhase(scHiv, threshold)\n",
    "    \n",
    "    # plot\n",
    "    theme_set(theme_classic())\n",
    "    g <- ggpubr::ggboxplot(av.by.phase, x = \"phase\", y = \"expr\",\n",
    "                   add = \"jitter\", color = \"phase\", main = sprintf(\"Threshold = %.1f\", threshold))\n",
    "    g + ggpubr::stat_compare_means()# + coord_cartesian(ylim=c(6, 14))\n",
    "}"
   ]
  },
  {
   "cell_type": "code",
   "execution_count": null,
   "metadata": {},
   "outputs": [],
   "source": [
    "options(repr.plot.width = 5, repr.plot.height = 6)\n",
    "g1 <- plotExpressionByPhase(scHiv, 0)\n",
    "g2 <- plotExpressionByPhase(scHiv, 3)\n",
    "g3 <- plotExpressionByPhase(scHiv, 7)\n",
    "g4 <- plotExpressionByPhase(scHiv, 10)\n",
    "multiplot(g1, g2, g3, g4, cols = 2)"
   ]
  },
  {
   "cell_type": "markdown",
   "metadata": {},
   "source": [
    "This analysis shows that there is indeed a significant difference between the expression values of the cells in G1 and those in G2M."
   ]
  },
  {
   "cell_type": "code",
   "execution_count": null,
   "metadata": {},
   "outputs": [],
   "source": [
    "av.by.phase <- expressionByPhase(scHiv, 0)\n",
    "G1 <- av.by.phase[av.by.phase$phase == \"G1\", ]$expr\n",
    "G2M <- av.by.phase[av.by.phase$phase == \"G2M\", ]$expr"
   ]
  },
  {
   "cell_type": "code",
   "execution_count": null,
   "metadata": {},
   "outputs": [],
   "source": [
    "x <- seq(-0.1,10,0.001)\n",
    "n <- length(x)\n",
    "cumulative.phases <- data.frame(x = rep(x, 2),\n",
    "                                cumdist = c(ecdf(G1)(x), ecdf(G2M)(x)),\n",
    "                                phase = c(rep(\"G1\", n), rep(\"G2M\", n)))"
   ]
  },
  {
   "cell_type": "code",
   "execution_count": null,
   "metadata": {},
   "outputs": [],
   "source": [
    "options(repr.plot.width = 4,repr.plot.height = 2)\n",
    "gg <- ggplot(cumulative.phases, aes(x = x, y = cumdist)) + \n",
    "      geom_line(aes(colour = phase), cex = 1.) +\n",
    "      geom_hline(yintercept = 1, size = 0.2, linetype=\"dashed\", color = \"black\") +\n",
    "      labs(x = \"Average Gene Expression\", y = \"Cumulative distribution\")\n",
    "gg"
   ]
  },
  {
   "cell_type": "markdown",
   "metadata": {},
   "source": [
    "So the conclusion from this analysis is that cells that are in G1 phase tend to have less inactive genes than the ones in G2M phase. This is in line with the fact that HIV is also less active in G2M cells than it is in G1 cells. However, this analysis does not point at a meaningful biological conclusion."
   ]
  }
 ],
 "metadata": {
  "kernelspec": {
   "display_name": "R",
   "language": "R",
   "name": "ir"
  },
  "language_info": {
   "codemirror_mode": "r",
   "file_extension": ".r",
   "mimetype": "text/x-r-source",
   "name": "R",
   "pygments_lexer": "r"
  }
 },
 "nbformat": 4,
 "nbformat_minor": 2
}
