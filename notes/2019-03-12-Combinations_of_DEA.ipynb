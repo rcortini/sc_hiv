{
 "cells": [
  {
   "cell_type": "code",
   "execution_count": null,
   "metadata": {},
   "outputs": [],
   "source": [
    "# ggplot stuff\n",
    "library(ggplot2)\n",
    "library(RColorBrewer)\n",
    "theme_set(theme_bw())"
   ]
  },
  {
   "cell_type": "markdown",
   "metadata": {},
   "source": [
    "# 2019-03-12 Combinations of Differential Expression Analysis\n",
    "\n",
    "So far I did the differential expressin analysis (DEA) using only the separated groups of responders and non-responders. What happens if I try to do the DEA between non-treated cells and responders, or non-responders?"
   ]
  },
  {
   "cell_type": "code",
   "execution_count": null,
   "metadata": {},
   "outputs": [],
   "source": [
    "# load the expression matrix\n",
    "data.dir <- \"/home/rcortini/work/CRG/projects/sc_hiv/data\"\n",
    "matrix.fname <- sprintf('%s/matrices/exprMatrix.tsv', data.dir)\n",
    "exprMatrix <- read.table(matrix.fname, header = TRUE, row.names = 1,\n",
    "                                       sep = \"\\t\", check.names = FALSE)"
   ]
  },
  {
   "cell_type": "code",
   "execution_count": null,
   "metadata": {},
   "outputs": [],
   "source": [
    "# load the sample sheet\n",
    "sample.sheet.fname <- sprintf(\"%s/metadata/sampleSheet.tsv\", data.dir)\n",
    "sampleSheet <- read.delim(sample.sheet.fname, header = TRUE, row.names = 1)"
   ]
  },
  {
   "cell_type": "code",
   "execution_count": null,
   "metadata": {},
   "outputs": [],
   "source": [
    "# load gene annotations file\n",
    "gene.annotations <- sprintf(\"%s/matrices/gene_annotations.tsv\", data.dir)\n",
    "gene.data <- read.delim(gene.annotations, header = TRUE, sep = \"\\t\",\n",
    "                        row.names = 1, stringsAsFactors = FALSE)\n",
    "gene.data <- subset(gene.data, rownames(gene.data) %in% rownames(exprMatrix))"
   ]
  },
  {
   "cell_type": "markdown",
   "metadata": {},
   "source": [
    "## Preliminaries"
   ]
  },
  {
   "cell_type": "code",
   "execution_count": null,
   "metadata": {},
   "outputs": [],
   "source": [
    "# DESeq\n",
    "library(DESeq)"
   ]
  },
  {
   "cell_type": "code",
   "execution_count": null,
   "metadata": {},
   "outputs": [],
   "source": [
    "do.DEA <- function(expr.matrix, groups, gene.data,\n",
    "                   g1, g2, method = \"per-condition\") {\n",
    "    \n",
    "    # cast to integer the expression matrix, otherwise DESeq will complain\n",
    "    expr.matrix.int <- as.data.frame(lapply(expr.matrix, as.integer))\n",
    "    \n",
    "    # give the same names to the new matrix as the ones before\n",
    "    rownames(expr.matrix.int) <- rownames(expr.matrix)\n",
    "\n",
    "    # this is the basic data structure that DESeq understands\n",
    "    cds <- newCountDataSet(expr.matrix.int, groups)\n",
    "\n",
    "    # estimate size factors\n",
    "    cds <- estimateSizeFactors(cds)\n",
    "\n",
    "    # estimate dispersion\n",
    "    if (method == \"per-gene\") {\n",
    "        cds <- estimateDispersions(cds, sharingMode=\"gene-est-only\")\n",
    "    }\n",
    "    else if (method == \"per-condition\"){\n",
    "        cds <- estimateDispersions(cds, method=\"per-condition\", fitType=\"local\")\n",
    "    }\n",
    "    else {\n",
    "        stop(\"Invalid method\")\n",
    "    }\n",
    "    \n",
    "    # do the differential expression analysis\n",
    "    de.test <- nbinomTest(cds, g1, g2)\n",
    "    \n",
    "    # now attach the information on the genes to the data frames that we obtained\n",
    "    de.test$symbol <- gene.data[de.test$id, ]\n",
    "    \n",
    "    # return\n",
    "    de.test\n",
    "}"
   ]
  },
  {
   "cell_type": "code",
   "execution_count": null,
   "metadata": {},
   "outputs": [],
   "source": [
    "# this function allows to filter and sort the results of the differential\n",
    "# expression analysis\n",
    "find.significant.genes <- function(de.result, alpha = 0.05) {\n",
    "\n",
    "  # filter out significant genes based on FDR adjusted p-values\n",
    "  filtered <- de.result[(de.result$padj < alpha) &\n",
    "                        !is.infinite(de.result$log2FoldChange) & \n",
    "                        !is.nan(de.result$log2FoldChange),]\n",
    "\n",
    "  # order by p-value\n",
    "  sorted <- filtered[order(filtered$pval),]\n",
    "}"
   ]
  },
  {
   "cell_type": "code",
   "execution_count": null,
   "metadata": {},
   "outputs": [],
   "source": [
    "# this block of code is to identify the alive cells\n",
    "norm.exprMatrix <- exprMatrix[rowSums(exprMatrix)>1, ]\n",
    "total <- colSums(norm.exprMatrix)\n",
    "norm.exprMatrix <- t(norm.exprMatrix)\n",
    "norm.exprMatrix <- norm.exprMatrix / rowSums(norm.exprMatrix)\n",
    "norm.exprMatrix <- t(norm.exprMatrix)\n",
    "exprMatrix.pca <- prcomp(t(norm.exprMatrix), scale = TRUE)\n",
    "pca <- as.data.frame(exprMatrix.pca$x)\n",
    "alive.cells <- rownames(pca)[pca$PC1 < 0]"
   ]
  },
  {
   "cell_type": "code",
   "execution_count": null,
   "metadata": {},
   "outputs": [],
   "source": [
    "# filter out the dead cells from the sample sheet and from the matrix\n",
    "exprMatrix <- exprMatrix[, alive.cells]\n",
    "sampleSheet <- subset(sampleSheet, rownames(sampleSheet) %in% alive.cells)"
   ]
  },
  {
   "cell_type": "markdown",
   "metadata": {},
   "source": [
    "In the following blocks, I'll give a label to all the cells, so that I don't have to prepare an expression matrix for each different test that I want to make."
   ]
  },
  {
   "cell_type": "code",
   "execution_count": null,
   "metadata": {},
   "outputs": [],
   "source": [
    "sampleSheet"
   ]
  },
  {
   "cell_type": "code",
   "execution_count": null,
   "metadata": {},
   "outputs": [],
   "source": [
    "# treated cells\n",
    "SAHA.treated <- rownames(sampleSheet)[sampleSheet$label == \"J-LatA2+SAHA\"]\n",
    "PMA.treated <- rownames(sampleSheet)[sampleSheet$label == \"J-LatA2+PMA\"]\n",
    "all.treated <- union(SAHA.treated, PMA.treated)\n",
    "\n",
    "# non-treated cells\n",
    "jlat.DMSO.treated <- rownames(sampleSheet$label == \"J-LatA2+DMSO\")\n",
    "jkt.DMSO.treated <- rownames(sampleSheet)[sampleSheet$label == \"Jurkat+DMSO\"]\n",
    "all.nontreated <- union(jlat.DMSO.treated, jkt.DMSO.treated)\n",
    "\n",
    "# responders and nonresponders\n",
    "responders <- colnames(exprMatrix[,all.treated])[exprMatrix[\"FILIONG01\", all.treated] > 0]\n",
    "nonresponders <- colnames(exprMatrix[,all.treated])[exprMatrix[\"FILIONG01\", all.treated] == 0]\n",
    "\n",
    "# intersections\n",
    "SAHA.responders <- intersect(SAHA.treated, responders)\n",
    "SAHA.nonresponders <- intersect(SAHA.treated, nonresponders)\n",
    "PMA.responders <- intersect(PMA.treated, responders)\n",
    "PMA.nonresponders <- intersect(PMA.treated, nonresponders)"
   ]
  },
  {
   "cell_type": "code",
   "execution_count": null,
   "metadata": {},
   "outputs": [],
   "source": [
    "# define the groups\n",
    "mylevels <- c(\"DMSO-treated\", \"SAHA-treated\", \"PMA-treated\")\n",
    "groups <- factor(rep(\"DMSO-treated\", ncol(exprMatrix)),\n",
    "                 levels = mylevels)\n",
    "groups[colnames(exprMatrix) %in% SAHA.treated] <- \"SAHA-treated\"\n",
    "groups[colnames(exprMatrix) %in% PMA.treated] <- \"PMA-treated\""
   ]
  },
  {
   "cell_type": "code",
   "execution_count": null,
   "metadata": {},
   "outputs": [],
   "source": [
    "head(colnames(exprMatrix))"
   ]
  },
  {
   "cell_type": "code",
   "execution_count": null,
   "metadata": {},
   "outputs": [],
   "source": [
    "head(groups)"
   ]
  },
  {
   "cell_type": "code",
   "execution_count": null,
   "metadata": {},
   "outputs": [],
   "source": [
    "head(colnames(exprMatrix))"
   ]
  },
  {
   "cell_type": "code",
   "execution_count": null,
   "metadata": {},
   "outputs": [],
   "source": [
    "sampleSheet['P2771_N715-S506', ]"
   ]
  },
  {
   "cell_type": "code",
   "execution_count": null,
   "metadata": {},
   "outputs": [],
   "source": [
    "de.test <- do.DEA(exprMatrix, groups, gene.data,\n",
    "                    \"DMSO-treated\", \"SAHA-treated\", method = \"per-condition\")\n",
    "de.genes <- find.significant.genes(de.test, alpha = 0.1)"
   ]
  },
  {
   "cell_type": "code",
   "execution_count": null,
   "metadata": {},
   "outputs": [],
   "source": [
    "dim(de.genes)"
   ]
  },
  {
   "cell_type": "markdown",
   "metadata": {},
   "source": [
    "Responders versus non-responders given the same drug.\n",
    "\n",
    "### SAHA"
   ]
  },
  {
   "cell_type": "code",
   "execution_count": null,
   "metadata": {},
   "outputs": [],
   "source": [
    "mylevels <- c(\"none\", \"SAHA-responders\", \"SAHA-nonresponders\")\n",
    "groups <- factor(rep(\"none\", ncol(exprMatrix)),\n",
    "                 levels = mylevels)\n",
    "groups[colnames(exprMatrix) %in% SAHA.responders] <- \"SAHA-responders\"\n",
    "groups[colnames(exprMatrix) %in% SAHA.nonresponders] <- \"SAHA-nonresponders\""
   ]
  },
  {
   "cell_type": "code",
   "execution_count": null,
   "metadata": {},
   "outputs": [],
   "source": [
    "de.test <- do.DEA(exprMatrix, groups, gene.data,\n",
    "                    \"SAHA-responders\", \"SAHA-nonresponders\", method = \"per-condition\")\n",
    "de.genes <- find.significant.genes(de.test, alpha = 0.1)"
   ]
  },
  {
   "cell_type": "code",
   "execution_count": null,
   "metadata": {},
   "outputs": [],
   "source": [
    "de.test[de.test$id == PUS10, ]"
   ]
  },
  {
   "cell_type": "markdown",
   "metadata": {},
   "source": [
    "### PMA"
   ]
  },
  {
   "cell_type": "code",
   "execution_count": null,
   "metadata": {},
   "outputs": [],
   "source": [
    "mylevels <- c(\"none\", \"PMA-responders\", \"PMA-nonresponders\")\n",
    "groups <- factor(rep(\"none\", ncol(exprMatrix)),\n",
    "                 levels = mylevels)\n",
    "groups[colnames(exprMatrix) %in% PMA.responders] <- \"PMA-responders\"\n",
    "groups[colnames(exprMatrix) %in% PMA.nonresponders] <- \"PMA-nonresponders\""
   ]
  },
  {
   "cell_type": "code",
   "execution_count": null,
   "metadata": {},
   "outputs": [],
   "source": [
    "de.test <- do.DEA(exprMatrix, groups, gene.data,\n",
    "                    \"PMA-responders\", \"PMA-nonresponders\", method = \"per-condition\")\n",
    "de.genes <- find.significant.genes(de.test, alpha = 0.1)"
   ]
  },
  {
   "cell_type": "code",
   "execution_count": null,
   "metadata": {},
   "outputs": [],
   "source": [
    "de.genes"
   ]
  },
  {
   "cell_type": "markdown",
   "metadata": {},
   "source": [
    "## Some other thoughts\n",
    "The genes that appear as significant in the differential expression analysis do not seem to have much of a biological connection to HIV. This means that something here is going wrong.\n",
    "\n",
    "Let's have a look at some descriptive statistics."
   ]
  },
  {
   "cell_type": "code",
   "execution_count": null,
   "metadata": {},
   "outputs": [],
   "source": [
    "# the names of all the cells\n",
    "cell.names <- colnames(exprMatrix)\n",
    "\n",
    "# is it from the old experiments or the new?\n",
    "batch <- factor(rep(\"old\", length(cell.names)), levels = c(\"old\", \"new\"))\n",
    "batch[startsWith(cell.names, \"P2769\") |\n",
    "      startsWith(cell.names, \"P2770\") |\n",
    "      startsWith(cell.names, \"P2771\")] <- \"new\""
   ]
  },
  {
   "cell_type": "code",
   "execution_count": null,
   "metadata": {},
   "outputs": [],
   "source": [
    "# the cell \"treated\" variable as to if it was treated or not treated\n",
    "match.order <- match(cell.names, rownames(sampleSheet))\n",
    "treatment <- factor(rep(\"nontreated\", length(cell.names)), levels = c(\"nontreated\", \"SAHA\", \"PMA\"))\n",
    "treatment[(sampleSheet$label == \"J-LatA2+SAHA\" | \n",
    "           sampleSheet$label == \"Jurkat+SAHA\")[match.order]] <- \"SAHA\"\n",
    "treatment[(sampleSheet$label == \"J-LatA2+PMA\" |\n",
    "           sampleSheet$label == \"Jurkat+PMA\")[match.order]] <- \"PMA\""
   ]
  },
  {
   "cell_type": "code",
   "execution_count": null,
   "metadata": {},
   "outputs": [],
   "source": [
    "# the \"responder\" variable, as to whether the HIV levels are detectable\n",
    "responder <- factor(rep(\"nonresponder\", length(cell.names)),\n",
    "                    levels = c(\"nonresponder\", \"responder\"))\n",
    "responder[exprMatrix[\"FILIONG01\", ] > 2] <- \"responder\""
   ]
  },
  {
   "cell_type": "code",
   "execution_count": null,
   "metadata": {},
   "outputs": [],
   "source": [
    "# the \"infected\" variable\n",
    "infected <- factor(rep(\"noninfected\", length(cell.names)),\n",
    "                   levels = c(\"noninfected\", \"infected\"))\n",
    "infected[(startsWith(as.character(sampleSheet$label), \"J-LatA2\"))[match.order]] <- \"infected\""
   ]
  },
  {
   "cell_type": "code",
   "execution_count": null,
   "metadata": {},
   "outputs": [],
   "source": [
    "# put all together\n",
    "celldata <- data.frame(row.names = cell.names,\n",
    "                       batch = batch,\n",
    "                       treatment = treatment,\n",
    "                       responder = responder, \n",
    "                       infected = infected)"
   ]
  },
  {
   "cell_type": "markdown",
   "metadata": {},
   "source": [
    "Now we make a table to see whether things make sense."
   ]
  },
  {
   "cell_type": "code",
   "execution_count": null,
   "metadata": {},
   "outputs": [],
   "source": [
    "table(celldata, exclude = \"FILIONG01\")"
   ]
  },
  {
   "cell_type": "markdown",
   "metadata": {},
   "source": [
    "Okay, so we have that about 50% of the cells are responders in all cases.\n",
    "\n",
    "Let's now add the information about PUS10."
   ]
  },
  {
   "cell_type": "code",
   "execution_count": null,
   "metadata": {},
   "outputs": [],
   "source": [
    "PUS10 <- \"ENSG00000162927.13\"\n",
    "PUS10.active <- factor(rep(\"PUS10-inactive\", length(cell.names)),\n",
    "                       levels = c(\"PUS10-inactive\", \"PUS10-active\"))\n",
    "PUS10.active[exprMatrix[PUS10, ] > 2] <- \"PUS10-active\"\n",
    "celldata$PUS10 <- PUS10.active"
   ]
  },
  {
   "cell_type": "code",
   "execution_count": null,
   "metadata": {},
   "outputs": [],
   "source": [
    "my.celldata <- subset(celldata, celldata$infected == \"infected\")\n",
    "my.celldata <- my.celldata[, -which(colnames(celldata) == \"infected\")]\n",
    "my.celldata <- subset(my.celldata, my.celldata$treatment == \"SAHA\")\n",
    "my.celldata <- my.celldata[, -which(colnames(my.celldata) == \"treatment\")]\n",
    "# my.celldata <- subset(my.celldata, my.celldata$batch == \"new\")\n",
    "my.celldata <- my.celldata[, -which(colnames(my.celldata) == \"batch\")]\n",
    "my.celldata\n",
    "# table(celldata)"
   ]
  },
  {
   "cell_type": "code",
   "execution_count": null,
   "metadata": {},
   "outputs": [],
   "source": [
    "fisher.test(table(my.celldata))"
   ]
  }
 ],
 "metadata": {
  "kernelspec": {
   "display_name": "R",
   "language": "R",
   "name": "ir"
  },
  "language_info": {
   "codemirror_mode": "r",
   "file_extension": ".r",
   "mimetype": "text/x-r-source",
   "name": "R",
   "pygments_lexer": "r"
  }
 },
 "nbformat": 4,
 "nbformat_minor": 2
}
