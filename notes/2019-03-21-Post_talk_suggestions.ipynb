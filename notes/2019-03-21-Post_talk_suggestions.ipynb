{
 "cells": [
  {
   "cell_type": "code",
   "execution_count": null,
   "metadata": {},
   "outputs": [],
   "source": [
    "# ggplot stuff\n",
    "library(ggplot2)\n",
    "library(RColorBrewer)\n",
    "theme_set(theme_bw())"
   ]
  },
  {
   "cell_type": "code",
   "execution_count": null,
   "metadata": {},
   "outputs": [],
   "source": [
    "# preliminaries\n",
    "\n",
    "# load the expression matrix\n",
    "data.dir <- \"/home/rcortini/work/CRG/projects/sc_hiv/data\"\n",
    "matrix.fname <- sprintf('%s/matrices/exprMatrix.tsv', data.dir)\n",
    "exprMatrix <- read.table(matrix.fname, header = TRUE, row.names = 1,\n",
    "                                       sep = \"\\t\", check.names = FALSE)\n",
    "\n",
    "# load the sample sheet\n",
    "sample.sheet.fname <- sprintf(\"%s/metadata/sampleSheet.tsv\", data.dir)\n",
    "sampleSheet <- read.delim(sample.sheet.fname, header = TRUE, row.names = 1)\n",
    "\n",
    "# load gene annotations file\n",
    "gene.annotations <- sprintf(\"%s/matrices/gene_annotations.tsv\", data.dir)\n",
    "gene.data <- read.delim(gene.annotations, header = TRUE, sep = \"\\t\",\n",
    "                        row.names = 1, stringsAsFactors = FALSE)\n",
    "gene.data <- subset(gene.data, rownames(gene.data) %in% rownames(exprMatrix))\n",
    "\n",
    "# remove genes that have no expression\n",
    "norm.exprMatrix <- exprMatrix[rowSums(exprMatrix)>1, ]\n",
    "\n",
    "# normalize by row sum\n",
    "total <- colSums(norm.exprMatrix)\n",
    "norm.exprMatrix <- t(norm.exprMatrix)\n",
    "norm.exprMatrix <- norm.exprMatrix / rowSums(norm.exprMatrix)\n",
    "norm.exprMatrix <- t(norm.exprMatrix)\n",
    "\n",
    "# do the PCA\n",
    "exprMatrix.pca <- prcomp(t(norm.exprMatrix), scale = TRUE)\n",
    "pca <- as.data.frame(exprMatrix.pca$x)\n",
    "\n",
    "# define alive cells\n",
    "alive.cells <- rownames(pca)[pca$PC1 < 0]"
   ]
  },
  {
   "cell_type": "markdown",
   "metadata": {},
   "source": [
    "## Is PUS10 highly expressed in dead cells?"
   ]
  },
  {
   "cell_type": "code",
   "execution_count": null,
   "metadata": {},
   "outputs": [],
   "source": [
    "dead.cells <- rownames(pca)[pca$PC1 > 0]\n",
    "dead <- exprMatrix[, dead.cells]"
   ]
  },
  {
   "cell_type": "code",
   "execution_count": null,
   "metadata": {},
   "outputs": [],
   "source": [
    "options(repr.plot.width = 3.5, repr.plot.height = 4)\n",
    "PUS10 <- \"ENSG00000162927.13\"\n",
    "SAHA.treated <- rownames(sampleSheet)[sampleSheet$label == \"J-LatA2+SAHA\"]\n",
    "plot(t(exprMatrix[PUS10, dead.cells]),\n",
    "     t(exprMatrix[\"FILIONG01\", dead.cells]), xlab = \"PUS10\", ylab = \"HIV\")"
   ]
  },
  {
   "cell_type": "markdown",
   "metadata": {},
   "source": [
    "The answer is no.\n",
    "\n",
    "## Correlation of DE genes with HIV\n",
    "\n",
    "One question that was asked is whether these misterious differentially expressed genes in the SAHA responders-vs-nonresponders test are positively or negatively correlated with HIV."
   ]
  },
  {
   "cell_type": "code",
   "execution_count": null,
   "metadata": {},
   "outputs": [],
   "source": [
    "# filter out the dead cells now\n",
    "exprMatrix <- exprMatrix[, alive.cells]\n",
    "sampleSheet <- subset(sampleSheet, rownames(sampleSheet) %in% alive.cells)"
   ]
  },
  {
   "cell_type": "code",
   "execution_count": null,
   "metadata": {},
   "outputs": [],
   "source": [
    "load(\"../data/DEA/de.genes.SAHAresponders.Rda\")\n",
    "load(\"../data/DEA/de.genes.PMAresponders.Rda\")"
   ]
  },
  {
   "cell_type": "code",
   "execution_count": null,
   "metadata": {},
   "outputs": [],
   "source": [
    "# define a data frame that will allow us to plot the genes vs HIV\n",
    "SAHA.treated <- rownames(sampleSheet)[sampleSheet$label == \"J-LatA2+SAHA\"]\n",
    "SAHA <- as.data.frame(t(exprMatrix[de.genes.SAHAresponders$id, SAHA.treated]))\n",
    "SAHA$hiv <- t(exprMatrix[\"FILIONG01\", SAHA.treated])"
   ]
  },
  {
   "cell_type": "code",
   "execution_count": null,
   "metadata": {},
   "outputs": [],
   "source": [
    "# plot everything\n",
    "options(repr.plot.width = 3, repr.plot.height = 3)\n",
    "for (i in 1:dim(de.genes.SAHAresponders)[1]) {\n",
    "    id <- de.genes.SAHAresponders[i, \"id\"]\n",
    "    gg <- ggplot(SAHA, aes_string(x = id, y = \"hiv\")) +\n",
    "       geom_point(col=\"darkgreen\") + \n",
    "       labs(main = \"Grey module\",\n",
    "            x = de.genes.SAHAresponders[i, \"symbol\"],\n",
    "            y = \"HIV\")\n",
    "    print(gg)\n",
    "}"
   ]
  },
  {
   "cell_type": "code",
   "execution_count": null,
   "metadata": {},
   "outputs": [],
   "source": [
    "# define a data frame that will allow us to plot the genes vs HIV\n",
    "PMA.treated <- rownames(sampleSheet)[sampleSheet$label == \"J-LatA2+PMA\"]\n",
    "PMA <- as.data.frame(t(exprMatrix[de.genes.PMAresponders$id, PMA.treated]))\n",
    "PMA$hiv <- t(exprMatrix[\"FILIONG01\", PMA.treated])"
   ]
  },
  {
   "cell_type": "code",
   "execution_count": null,
   "metadata": {},
   "outputs": [],
   "source": [
    "# plot everything\n",
    "options(repr.plot.width = 3, repr.plot.height = 3)\n",
    "for (i in 1:dim(de.genes.PMAresponders)[1]) {\n",
    "    id <- de.genes.PMAresponders[i, \"id\"]\n",
    "    gg <- ggplot(PMA, aes_string(x = id, y = \"hiv\")) +\n",
    "       geom_point(col=\"darkgreen\") + \n",
    "       labs(x = de.genes.PMAresponders[i, \"symbol\"],\n",
    "            y = \"HIV\")\n",
    "    print(gg)\n",
    "}"
   ]
  }
 ],
 "metadata": {
  "kernelspec": {
   "display_name": "R",
   "language": "R",
   "name": "ir"
  },
  "language_info": {
   "codemirror_mode": "r",
   "file_extension": ".r",
   "mimetype": "text/x-r-source",
   "name": "R",
   "pygments_lexer": "r"
  }
 },
 "nbformat": 4,
 "nbformat_minor": 2
}
