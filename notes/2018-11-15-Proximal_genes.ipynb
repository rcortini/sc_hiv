{
 "cells": [
  {
   "cell_type": "markdown",
   "metadata": {},
   "source": [
    "# 2018-11-15 Proximal genes\n",
    "One question is whether the activity of genes that reside in the physical proximity of the HIV integration has any effect on whether HIV will be reactivated or not.\n",
    "\n",
    "Mie passed me the information on where the integration resides. The paper \"Chromatin Reassembly Factors Are Involved in Transcriptional Interference Promoting HIV Latency\" by Gallastegui et al, J Virology 2011 contains the information. Mie said that the cells used are J-Lat A2 clones. The first paragraph of the \"Results\" section in that paper at some point reads:\n",
    "\n",
    ">J-Lat A2 cells contain the HIV construct at intron 8 of the UTX gene (ChXp11.3), in a configuration opposite to the transcriptional orientation of this gene (Fig. 1C) (28)\n",
    "\n",
    "And the figure 1C is the following\n",
    "![J-Lat A2 integration site](../figures/J-Lat-A2-integration.png)\n",
    "\n",
    "So from the web page of GeneCards I figured out that UTX is better known as KDM6A, and its [description](https://www.genecards.org/cgi-bin/carddisp.pl?gene=KDM6A) includes the information that it is mapped to chrX:44,732,423-44,971,847(GRCh37/hg19).\n",
    "\n",
    "So now I have a target region in the genome. I'd like to figure out which are the genes that are upstream or downstream of this region of interest, and assess whether there are any visible effects of the activity of those genes on the activity of the HIV promoter."
   ]
  },
  {
   "cell_type": "code",
   "execution_count": null,
   "metadata": {},
   "outputs": [],
   "source": [
    "library(GenomicRanges)"
   ]
  },
  {
   "cell_type": "code",
   "execution_count": null,
   "metadata": {},
   "outputs": [],
   "source": [
    "library(Homo.sapiens)"
   ]
  },
  {
   "cell_type": "code",
   "execution_count": null,
   "metadata": {},
   "outputs": [],
   "source": [
    "library(dplyr)"
   ]
  },
  {
   "cell_type": "code",
   "execution_count": null,
   "metadata": {},
   "outputs": [],
   "source": [
    "library(biomaRt)"
   ]
  },
  {
   "cell_type": "code",
   "execution_count": null,
   "metadata": {},
   "outputs": [],
   "source": [
    "library(ggplot2)"
   ]
  },
  {
   "cell_type": "code",
   "execution_count": null,
   "metadata": {},
   "outputs": [],
   "source": [
    "# define the region of interest\n",
    "chrom <- \"chrX\"\n",
    "start <- 44732423\n",
    "end <- 44971847\n",
    "amplitude <- 100000\n",
    "region <- data.frame(chrom = \"chrX\",\n",
    "                     start = start-amplitude,\n",
    "                     end   = end+amplitude)\n",
    "\n",
    "# use the \"GenomicRanges\" package to define an object that we can use\n",
    "region.gr <- makeGRangesFromDataFrame(region)"
   ]
  },
  {
   "cell_type": "code",
   "execution_count": null,
   "metadata": {},
   "outputs": [],
   "source": [
    "# now use the `subsetByOverlaps` function to determine which are the genes\n",
    "# in the region defined\n",
    "genes <- subsetByOverlaps(genes(TxDb.Hsapiens.UCSC.hg19.knownGene), region.gr)"
   ]
  },
  {
   "cell_type": "code",
   "execution_count": null,
   "metadata": {},
   "outputs": [],
   "source": [
    "# load the data corresponding to human genome\n",
    "mart <- useMart(biomart = \"ensembl\", dataset = \"hsapiens_gene_ensembl\")"
   ]
  },
  {
   "cell_type": "code",
   "execution_count": null,
   "metadata": {},
   "outputs": [],
   "source": [
    "# get the entrez gene ids\n",
    "gene.symbols <- getBM(attributes = c(\"entrezgene\", \"ensembl_gene_id_version\"),\n",
    "                  filters = \"entrezgene\",\n",
    "                  values = genes$gene_id,\n",
    "                  mart = mart)"
   ]
  },
  {
   "cell_type": "markdown",
   "metadata": {},
   "source": [
    "Now that we have the list of genes that we are interested in, let's go back and load the data of the scRNA-seq project."
   ]
  },
  {
   "cell_type": "code",
   "execution_count": null,
   "metadata": {},
   "outputs": [],
   "source": [
    "# basic data\n",
    "matrices.dir <- \"/home/rcortini/work/CRG/projects/sc_hiv/data/matrices\"\n",
    "sample.names <- c(\"P2449\", \"P2458\")\n",
    "\n",
    "# init data structures that will hold our data\n",
    "exprMatrices <- list()\n",
    "sampleSheets <- list()\n",
    "\n",
    "# load data\n",
    "for (sample.name in sample.names) {\n",
    "    \n",
    "    # file names\n",
    "    matrix.fname <- sprintf(\"%s/%s.tsv.gz\", matrices.dir, sample.name)\n",
    "    sampleSheet.fname <- sprintf(\"%s/monocle/%s.pd.tsv\", matrices.dir, sample.name)\n",
    "\n",
    "    # parse data\n",
    "    exprMatrices[[sample.name]] <- read.table(matrix.fname, header = TRUE, row.names = 1,\n",
    "                                sep = \"\\t\", check.names = FALSE)\n",
    "    sampleSheets[[sample.name]] <- read.delim(sampleSheet.fname, header = TRUE, row.names = 1)\n",
    "}\n",
    "\n",
    "# load gene annotations file\n",
    "gene.annotations <- sprintf(\"%s/gene_annotations.tsv\", matrices.dir)\n",
    "gene.data <- read.delim(gene.annotations, header = TRUE, row.names = 1, sep = \"\\t\")"
   ]
  },
  {
   "cell_type": "code",
   "execution_count": null,
   "metadata": {},
   "outputs": [],
   "source": [
    "# get the genes that are in the original list of genes\n",
    "gene.list <- intersect(rownames(gene.data), gene.symbols$ensembl_gene_id_version)"
   ]
  },
  {
   "cell_type": "code",
   "execution_count": null,
   "metadata": {},
   "outputs": [],
   "source": [
    "# prepare a data frame with the values of the expression of the genes that we selected\n",
    "# and the expression of HIV\n",
    "\n",
    "# pool together the expression matrices\n",
    "exprMatrix <- cbind(exprMatrices[[\"P2449\"]], exprMatrices[[\"P2458\"]])\n",
    "\n",
    "# select only treated cells\n",
    "sampleSheet <- cbind(sampleSheets[[\"P2449\"]], sampleSheets[[\"P2458\"]])\n",
    "jlat.treated <- sampleSheet$label == \"J-Lat+SAHA\"\n",
    "exprMatrix <- exprMatrix[, jlat.treated]\n",
    "\n",
    "# select only alive cells\n",
    "totalExpression <- colSums(exprMatrix)\n",
    "alive <- totalExpression > 100000\n",
    "exprMatrix <- exprMatrix[, alive]\n",
    "\n",
    "# save the HIV values\n",
    "HIV <- t(exprMatrix['FILIONG01', ])\n",
    "\n",
    "# select only genes from our list\n",
    "exprMatrix <- exprMatrix[gene.list, ]"
   ]
  },
  {
   "cell_type": "code",
   "execution_count": null,
   "metadata": {},
   "outputs": [],
   "source": [
    "dat <- data.frame(total = colSums(exprMatrix), HIV = HIV)\n",
    "dat$UTX <- t(exprMatrix[\"ENSG00000147050.14\", ])"
   ]
  },
  {
   "cell_type": "code",
   "execution_count": null,
   "metadata": {},
   "outputs": [],
   "source": [
    "options(repr.plot.width = 3, repr.plot.height = 3)\n",
    "ggplot(dat, aes(total, FILIONG01)) + geom_point()"
   ]
  },
  {
   "cell_type": "code",
   "execution_count": null,
   "metadata": {},
   "outputs": [],
   "source": [
    "options(repr.plot.width = 3, repr.plot.height = 3)\n",
    "ggplot(dat, aes(HIV, UTX)) + geom_point()"
   ]
  },
  {
   "cell_type": "markdown",
   "metadata": {},
   "source": [
    "So in whatever way we look at the data, we find poor correlation between HIV production and proximal genes' activities."
   ]
  }
 ],
 "metadata": {
  "kernelspec": {
   "display_name": "R",
   "language": "R",
   "name": "ir"
  },
  "language_info": {
   "codemirror_mode": "r",
   "file_extension": ".r",
   "mimetype": "text/x-r-source",
   "name": "R",
   "pygments_lexer": "r"
  }
 },
 "nbformat": 4,
 "nbformat_minor": 2
}
